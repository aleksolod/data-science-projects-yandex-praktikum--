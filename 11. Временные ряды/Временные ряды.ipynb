{
 "cells": [
  {
   "cell_type": "markdown",
   "metadata": {},
   "source": [
    "<font color='blue' size=5><b>Комментарий ревьювера</b></font>\n",
    "\n",
    "<font color='blue'>Привет, Алексей! Меня зовут Григорий Звездин, и я буду проверять этот проект. Спасибо за проделанную работу! Предлагаю общаться на «ты».</font>\n",
    "\n",
    "<font color='blue'>Я буду использовать различные цвета, чтобы было удобнее воспринимать мои комментарии:</font>\n",
    "\n",
    "\n",
    "---\n",
    "\n",
    "\n",
    "<font color='blue'>синий текст - просто текст комментария</font>\n",
    "\n",
    "<font color='green'>зеленый текст - все отлично</font>\n",
    "\n",
    "<font color='orange'>оранжевый текст - сделано все правильно, однако есть рекомендации, на что стоит обратить внимание</font>\n",
    "\n",
    "<font color='red'>красный текст - есть недочеты</font>\n",
    "\n",
    "\n",
    "---\n",
    "\n",
    "<font color='blue'>Пожалуйста, не удаляй мои комментарии в случае возврата работы, так будет проще разобраться, какие были недочеты, а также сразу увидеть исправленное. </font>\n",
    "\n",
    "Ответы на мои комментарии лучше тоже помечать.\n",
    "Например: <font color='blue'><b>Комментарий студента</b></font>\n",
    "\n",
    "<font color='blue'><b>Давай смотреть, что получилось!</b></font>"
   ]
  },
  {
   "cell_type": "markdown",
   "metadata": {},
   "source": [
    "<font color='blue'><b>Комментарий студента:Добрый день, Григорий.Спасибо за проверку и комментарии.Отдельное спасибо за метод Дики-Фуллера и GridSearchCV. Твой вопрос вынес наверх для удобства просмотра.</b></font>"
   ]
  },
  {
   "cell_type": "markdown",
   "metadata": {},
   "source": [
    "<font color='blue'><b>Комментарий ревьювера v2</b></font> \\\n",
    "<font color='green'>Рад приветствовать снова, Алексей :) Хорошо, что информация оказалась полезной)"
   ]
  },
  {
   "cell_type": "markdown",
   "metadata": {},
   "source": [
    "<font color='blue'><b>Комментарий ревьювера</b></font> \\\n",
    "<font color='red'>Объясни, пожалуйста, почему были выбраны эти признаки. \\\n",
    "1) Фактор год: ... (На самом деле он однозначно не подходит. У нас данных меньше года, поэтому тут будет просто константа.)\\\n",
    "2) Фактор месяц: ...\\\n",
    "3) Фактор день:...\\\n",
    "4) Фактор день недели:....\\\n",
    "5) Факто lag: .....\\\n",
    "6) Фактор rolling: ......\\\n",
    "Дай, пожалуйста, краткое описание, почему именно выбранные факторы взял в модель. с такими параметрами (24, 3)\\\n",
    "Это один из ключевых моментов всей темы \"временные ряды\" - понимать составляющие ряда.\\\n",
    "Поэтому и прошу тебя сформулировать ответ на вопрос."
   ]
  },
  {
   "cell_type": "markdown",
   "metadata": {},
   "source": [
    "<font color='blue'><b>Комментарий студента: Здесь я отвечу на твои вопросы по ризнаки для горизонта прогнозирования в один шаг.  Вообще взял их из урока в тренажере, а сейчас понимаю, что нам актуальнее было бы ещё ___час___ добавить.    \n",
    "    1)Фактор год- глупость,однозначно согласен            \n",
    "    2),3),4) - Календарные призраки которые нам нужны. Во многих данных тренды и сезонность привязаны к конкретной дате. Тип\n",
    "datetime64 в Pandas уже содержит нужную информаци и мы делаем из нее отдельные столбцы.    \n",
    "    5)-Отстающие значения -Предыдущие значения временного ряда подскажут, будет ли функция x(t)\n",
    "расти или уменьшаться -___НЕ СОВСЕМ ПОНЯЛ___ что нужно описать.       \n",
    "    6)- Скользящее среднее -Скользящее среднее как признак задаёт общий тренд временного ряда.___НЕ СОВСЕМ ПОНЯЛ___ что нужно описать.   \n",
    "    7)Пармаетры для функции make_features() подбирал руками, как в тренажере. Понимаю, что это не верно.\n",
    "    \n",
    "    </b></font>"
   ]
  },
  {
   "cell_type": "markdown",
   "metadata": {},
   "source": [
    "<font color='blue'><b>Комментарий ревьювера v2</b></font> \\\n",
    "<font color='green'>Да, молодец! Час нам действительно актуален)\\\n",
    "Иногда можно дополнительно создать признаки, характеризующие ряд, например, выходной или нет. Как раз если сезонность показывает прирост в выходные, это может быть хорошим фактором, помогающим модели\n",
    "    \n",
    "В отстающих и скольщем я просил описать и то, зачем они, и как выбрано значение параметров\n",
    "    \n",
    "Скользящее среднее и отстающие значения можно выбрать и эмпирически, по крайней мере в нашем кейсе. Есть и другие способы понять, какие значения выбрать. Например, можно попробовать графически\n",
    "\n",
    "Чтобы оценить порядок авторегрессии, можно построить график частной автокорреляционной функции\\\n",
    "А для того, чтобы оценить порядок скользящего среднего, построить график автокорреляционной функции. Нам нужен тот параметр, после которого значения функции равны или близки нулю.\\\n",
    "Подходить может много вариантов, но выбор слишком больших параметров усложнит модель\n",
    "\n",
    "<code>\n",
    "from statsmodels.graphics.tsaplots import plot_acf, plot_pacf\n",
    "ts = taxi['num_orders']\n",
    "plot_pacf(ts, alpha=None).set_size_inches(12, 4)\n",
    "plt.show()\n",
    "\n",
    "plot_acf(ts, alpha=None).set_size_inches(12, 4)\n",
    "plt.show()\n",
    "</code>"
   ]
  },
  {
   "cell_type": "markdown",
   "metadata": {},
   "source": [
    "<font color='blue'><b>Итоговый комментарий ревьювера v2</b></font>\\\n",
    "<font color='green'>Спасибо за обратную связь! Надеюсь, что тема рядов тебе понравилась\\\n",
    "Базовое применение ARIMA - https://colab.research.google.com/drive/17RnG91Eq8JBKyxToNzvCvjibfxum-oPj?usp=sharing \\\n",
    "Канторович - Анализ временных рядов https://yadi.sk/i/IOkUOS3hTXf3gg \\\n",
    "https://facebook.github.io/prophet/ \\\n",
    "https://facebook.github.io/prophet/docs/quick_start.html#python-api \\\n",
    "https://nbviewer.jupyter.org/github/miptgirl/habra_materials/blob/master/prophet/habra_data.ipynb </font>\n",
    "\n",
    "<font color='blue'><b>Проект принят! Успехов :)</b></font>"
   ]
  },
  {
   "cell_type": "markdown",
   "metadata": {
    "toc": true
   },
   "source": [
    "<h1>Содержание<span class=\"tocSkip\"></span></h1>\n",
    "<div class=\"toc\"><ul class=\"toc-item\"><li><span><a href=\"#Подготовка\" data-toc-modified-id=\"Подготовка-1\"><span class=\"toc-item-num\">1&nbsp;&nbsp;</span>Подготовка</a></span></li><li><span><a href=\"#Анализ\" data-toc-modified-id=\"Анализ-2\"><span class=\"toc-item-num\">2&nbsp;&nbsp;</span>Анализ</a></span></li><li><span><a href=\"#Обучение\" data-toc-modified-id=\"Обучение-3\"><span class=\"toc-item-num\">3&nbsp;&nbsp;</span>Обучение</a></span></li><li><span><a href=\"#Тестирование\" data-toc-modified-id=\"Тестирование-4\"><span class=\"toc-item-num\">4&nbsp;&nbsp;</span>Тестирование</a></span></li><li><span><a href=\"#Чек-лист-проверки\" data-toc-modified-id=\"Чек-лист-проверки-5\"><span class=\"toc-item-num\">5&nbsp;&nbsp;</span>Чек-лист проверки</a></span></li></ul></div>"
   ]
  },
  {
   "cell_type": "markdown",
   "metadata": {},
   "source": [
    "#  Прогнозирование заказов такси"
   ]
  },
  {
   "cell_type": "markdown",
   "metadata": {},
   "source": [
    "Компания «Чётенькое такси» собрала исторические данные о заказах такси в аэропортах. Чтобы привлекать больше водителей в период пиковой нагрузки, нужно спрогнозировать количество заказов такси на следующий час. Постройте модель для такого предсказания.\n",
    "\n",
    "Значение метрики *RMSE* на тестовой выборке должно быть не больше 48.\n",
    "\n",
    "Вам нужно:\n",
    "\n",
    "1. Загрузить данные и выполнить их ресемплирование по одному часу.\n",
    "2. Проанализировать данные.\n",
    "3. Обучить разные модели с различными гиперпараметрами. Сделать тестовую выборку размером 10% от исходных данных.\n",
    "4. Проверить данные на тестовой выборке и сделать выводы.\n",
    "\n",
    "\n",
    "Данные лежат в файле `taxi.csv`. Количество заказов находится в столбце `num_orders` (от англ. *number of orders*, «число заказов»)."
   ]
  },
  {
   "cell_type": "markdown",
   "metadata": {},
   "source": [
    "## Подготовка"
   ]
  },
  {
   "cell_type": "code",
   "execution_count": 1,
   "metadata": {},
   "outputs": [],
   "source": [
    "#импортируем все необходимые библиотеки и инструменты\n",
    "import pandas as pd\n",
    "import numpy as np\n",
    "import matplotlib.pyplot as plt\n",
    "from sklearn.metrics import mean_squared_error, mean_absolute_error\n",
    "from sklearn.model_selection import train_test_split, cross_val_score\n",
    "from sklearn.linear_model import LinearRegression\n",
    "from catboost import CatBoostRegressor\n",
    "import lightgbm as lgb\n",
    "from lightgbm import LGBMRegressor\n",
    "from statsmodels.tsa.seasonal import seasonal_decompose"
   ]
  },
  {
   "cell_type": "markdown",
   "metadata": {},
   "source": [
    "Для преобразования столбца в датасете в тип данных datetime, передадим в функцию read_csv аргумент parse_dates. Индексируем по первому столбцу."
   ]
  },
  {
   "cell_type": "code",
   "execution_count": 2,
   "metadata": {},
   "outputs": [
    {
     "name": "stdout",
     "output_type": "stream",
     "text": [
      "<class 'pandas.core.frame.DataFrame'>\n",
      "DatetimeIndex: 26496 entries, 2018-03-01 00:00:00 to 2018-08-31 23:50:00\n",
      "Data columns (total 1 columns):\n",
      "num_orders    26496 non-null int64\n",
      "dtypes: int64(1)\n",
      "memory usage: 414.0 KB\n"
     ]
    },
    {
     "data": {
      "text/plain": [
       "None"
      ]
     },
     "metadata": {},
     "output_type": "display_data"
    },
    {
     "data": {
      "text/html": [
       "<div>\n",
       "<style scoped>\n",
       "    .dataframe tbody tr th:only-of-type {\n",
       "        vertical-align: middle;\n",
       "    }\n",
       "\n",
       "    .dataframe tbody tr th {\n",
       "        vertical-align: top;\n",
       "    }\n",
       "\n",
       "    .dataframe thead th {\n",
       "        text-align: right;\n",
       "    }\n",
       "</style>\n",
       "<table border=\"1\" class=\"dataframe\">\n",
       "  <thead>\n",
       "    <tr style=\"text-align: right;\">\n",
       "      <th></th>\n",
       "      <th>num_orders</th>\n",
       "    </tr>\n",
       "    <tr>\n",
       "      <th>datetime</th>\n",
       "      <th></th>\n",
       "    </tr>\n",
       "  </thead>\n",
       "  <tbody>\n",
       "    <tr>\n",
       "      <td>2018-03-01 00:00:00</td>\n",
       "      <td>9</td>\n",
       "    </tr>\n",
       "    <tr>\n",
       "      <td>2018-03-01 00:10:00</td>\n",
       "      <td>14</td>\n",
       "    </tr>\n",
       "    <tr>\n",
       "      <td>2018-03-01 00:20:00</td>\n",
       "      <td>28</td>\n",
       "    </tr>\n",
       "    <tr>\n",
       "      <td>2018-03-01 00:30:00</td>\n",
       "      <td>20</td>\n",
       "    </tr>\n",
       "    <tr>\n",
       "      <td>2018-03-01 00:40:00</td>\n",
       "      <td>32</td>\n",
       "    </tr>\n",
       "  </tbody>\n",
       "</table>\n",
       "</div>"
      ],
      "text/plain": [
       "                     num_orders\n",
       "datetime                       \n",
       "2018-03-01 00:00:00           9\n",
       "2018-03-01 00:10:00          14\n",
       "2018-03-01 00:20:00          28\n",
       "2018-03-01 00:30:00          20\n",
       "2018-03-01 00:40:00          32"
      ]
     },
     "execution_count": 2,
     "metadata": {},
     "output_type": "execute_result"
    }
   ],
   "source": [
    "\n",
    "taxi = pd.read_csv('/datasets/taxi.csv', index_col=[0], parse_dates=[0])\n",
    "display(taxi.info())\n",
    "taxi.head()"
   ]
  },
  {
   "cell_type": "markdown",
   "metadata": {},
   "source": [
    "<font color='blue'><b>Комментарий ревьювера</b></font> \\\n",
    "<font color='green'>Хорошо, данные на месте :)"
   ]
  },
  {
   "cell_type": "markdown",
   "metadata": {},
   "source": [
    "\n",
    "Наблюдения в датасете каждые 10 минут.Столь подробно нам не нужно,подойдет ресемплирование с интервалом в 1 час и сразу суммируем."
   ]
  },
  {
   "cell_type": "code",
   "execution_count": 3,
   "metadata": {},
   "outputs": [],
   "source": [
    "\n",
    "taxi.sort_index(inplace=True)\n",
    "taxi = taxi.resample('1H').sum()"
   ]
  },
  {
   "cell_type": "code",
   "execution_count": 4,
   "metadata": {},
   "outputs": [
    {
     "name": "stdout",
     "output_type": "stream",
     "text": [
      "<class 'pandas.core.frame.DataFrame'>\n",
      "DatetimeIndex: 4416 entries, 2018-03-01 00:00:00 to 2018-08-31 23:00:00\n",
      "Freq: H\n",
      "Data columns (total 1 columns):\n",
      "num_orders    4416 non-null int64\n",
      "dtypes: int64(1)\n",
      "memory usage: 69.0 KB\n"
     ]
    },
    {
     "data": {
      "text/plain": [
       "None"
      ]
     },
     "metadata": {},
     "output_type": "display_data"
    },
    {
     "data": {
      "text/html": [
       "<div>\n",
       "<style scoped>\n",
       "    .dataframe tbody tr th:only-of-type {\n",
       "        vertical-align: middle;\n",
       "    }\n",
       "\n",
       "    .dataframe tbody tr th {\n",
       "        vertical-align: top;\n",
       "    }\n",
       "\n",
       "    .dataframe thead th {\n",
       "        text-align: right;\n",
       "    }\n",
       "</style>\n",
       "<table border=\"1\" class=\"dataframe\">\n",
       "  <thead>\n",
       "    <tr style=\"text-align: right;\">\n",
       "      <th></th>\n",
       "      <th>num_orders</th>\n",
       "    </tr>\n",
       "    <tr>\n",
       "      <th>datetime</th>\n",
       "      <th></th>\n",
       "    </tr>\n",
       "  </thead>\n",
       "  <tbody>\n",
       "    <tr>\n",
       "      <td>2018-03-01 00:00:00</td>\n",
       "      <td>124</td>\n",
       "    </tr>\n",
       "    <tr>\n",
       "      <td>2018-03-01 01:00:00</td>\n",
       "      <td>85</td>\n",
       "    </tr>\n",
       "    <tr>\n",
       "      <td>2018-03-01 02:00:00</td>\n",
       "      <td>71</td>\n",
       "    </tr>\n",
       "    <tr>\n",
       "      <td>2018-03-01 03:00:00</td>\n",
       "      <td>66</td>\n",
       "    </tr>\n",
       "    <tr>\n",
       "      <td>2018-03-01 04:00:00</td>\n",
       "      <td>43</td>\n",
       "    </tr>\n",
       "  </tbody>\n",
       "</table>\n",
       "</div>"
      ],
      "text/plain": [
       "                     num_orders\n",
       "datetime                       \n",
       "2018-03-01 00:00:00         124\n",
       "2018-03-01 01:00:00          85\n",
       "2018-03-01 02:00:00          71\n",
       "2018-03-01 03:00:00          66\n",
       "2018-03-01 04:00:00          43"
      ]
     },
     "execution_count": 4,
     "metadata": {},
     "output_type": "execute_result"
    }
   ],
   "source": [
    "display(taxi.info())\n",
    "taxi.head()"
   ]
  },
  {
   "cell_type": "markdown",
   "metadata": {},
   "source": [
    "<font color='blue'><b>Комментарий ревьювера</b></font> \\\n",
    "<font color='green'>Верно! Сумма проще интерпретируется, чем другие агрегационные функции"
   ]
  },
  {
   "cell_type": "code",
   "execution_count": 5,
   "metadata": {},
   "outputs": [
    {
     "data": {
      "text/plain": [
       "True"
      ]
     },
     "execution_count": 5,
     "metadata": {},
     "output_type": "execute_result"
    }
   ],
   "source": [
    "#Проверим на монотонность\n",
    "taxi.index.is_monotonic"
   ]
  },
  {
   "cell_type": "markdown",
   "metadata": {},
   "source": [
    "<font color='blue'><b>Комментарий ревьювера</b></font> \\\n",
    "<font color='green'>Отлично!"
   ]
  },
  {
   "cell_type": "code",
   "execution_count": 6,
   "metadata": {},
   "outputs": [
    {
     "data": {
      "text/plain": [
       "num_orders    0\n",
       "dtype: int64"
      ]
     },
     "execution_count": 6,
     "metadata": {},
     "output_type": "execute_result"
    }
   ],
   "source": [
    "#и пропуски\n",
    "taxi.isnull().sum()"
   ]
  },
  {
   "cell_type": "markdown",
   "metadata": {},
   "source": [
    "# Выводы "
   ]
  },
  {
   "cell_type": "markdown",
   "metadata": {},
   "source": [
    "Исходные данные содержат 26496 строк(после респемлирования  4416)      \n",
    "временной промежуток данных начинается с 2018-03-01 00:00:00  и заканчивается 2018-08-31 23:50:00     \n",
    "временной интревал наблюдений составляет 10 минут     \n",
    "в данных пропусков нет     \n",
    "данные расположены в хронологическом порядке (монотонны)\n",
    "Заменен тип данных столбца object на datetime\n",
    "Установлен индекс таблицы равным столбцу datetime    \n",
    "Проведен ресемплинг данных по одному часу, данные агрегировали с помощью суммы     "
   ]
  },
  {
   "cell_type": "markdown",
   "metadata": {},
   "source": [
    "<font color='blue'><b>Комментарий ревьювера</b></font> \\\n",
    "<font color='green'>Правильно!"
   ]
  },
  {
   "cell_type": "markdown",
   "metadata": {},
   "source": [
    "## Анализ"
   ]
  },
  {
   "cell_type": "markdown",
   "metadata": {},
   "source": [
    "Еще раз проверим промежуток времени наблюдения"
   ]
  },
  {
   "cell_type": "code",
   "execution_count": 7,
   "metadata": {},
   "outputs": [
    {
     "name": "stdout",
     "output_type": "stream",
     "text": [
      "Начало наблюдения: 2018-03-01 00:00:00\n",
      "Конец наблюдения: 2018-08-31 23:00:00\n"
     ]
    }
   ],
   "source": [
    "print(\"Начало наблюдения:\", taxi.index.min())\n",
    "print(\"Конец наблюдения:\", taxi.index.max())"
   ]
  },
  {
   "cell_type": "code",
   "execution_count": 8,
   "metadata": {},
   "outputs": [
    {
     "data": {
      "text/plain": [
       "<matplotlib.axes._subplots.AxesSubplot at 0x7fa71fac4690>"
      ]
     },
     "execution_count": 8,
     "metadata": {},
     "output_type": "execute_result"
    },
    {
     "data": {
      "image/png": "[encoded data removed]",
      "text/plain": [
       "<Figure size 432x288 with 1 Axes>"
      ]
     },
     "metadata": {
      "needs_background": "light"
     },
     "output_type": "display_data"
    }
   ],
   "source": [
    "#Оценим данные на графике.\n",
    "taxi.plot()"
   ]
  },
  {
   "cell_type": "markdown",
   "metadata": {},
   "source": [
    "Сезонность  по предоставленным данным не установать, так как информация есть только по срезу в полгода. Но можно оценить изменения объем заказов от первого наблюдения к последнему. Для наглядности ресемплируем данные по неделе и сохраним в новую переменную."
   ]
  },
  {
   "cell_type": "markdown",
   "metadata": {},
   "source": [
    "<font color='blue'><b>Комментарий ревьювера</b></font> \\\n",
    "<font color='green'>Все так, но для определения сезонности лучше разложить ряд на компоненты"
   ]
  },
  {
   "cell_type": "code",
   "execution_count": 9,
   "metadata": {},
   "outputs": [
    {
     "data": {
      "text/plain": [
       "<matplotlib.axes._subplots.AxesSubplot at 0x7fa71f28ee50>"
      ]
     },
     "execution_count": 9,
     "metadata": {},
     "output_type": "execute_result"
    },
    {
     "data": {
      "image/png": "[encoded data removed]",
      "text/plain": [
       "<Figure size 432x288 with 1 Axes>"
      ]
     },
     "metadata": {
      "needs_background": "light"
     },
     "output_type": "display_data"
    }
   ],
   "source": [
    "taxi_week = taxi.resample('1W').sum()\n",
    "taxi_week.plot()"
   ]
  },
  {
   "cell_type": "markdown",
   "metadata": {},
   "source": [
    "\n",
    "По графику можно сказать - заказы увеличиваются от месяца к месяцу. Однако, однозначного решения принять нельзя - возможно, это стандартная практика у сервисов, и если бы мы взглянули на данные за несколько лет, то проследили бы закономерность.\n",
    "\n",
    "С помощью функции seasonal_decompose() разложим временной ряд на три составляющие: тренд, сезонность и остаток (residuals) - это шум, который не объясняется трендом и сезонностью."
   ]
  },
  {
   "cell_type": "code",
   "execution_count": 10,
   "metadata": {},
   "outputs": [
    {
     "data": {
      "image/png": "[encoded data removed]",
      "text/plain": [
       "<Figure size 432x576 with 3 Axes>"
      ]
     },
     "metadata": {
      "needs_background": "light"
     },
     "output_type": "display_data"
    }
   ],
   "source": [
    "decomposed = seasonal_decompose(taxi['num_orders'], model='additive')\n",
    "\n",
    "plt.figure(figsize=(6, 8))\n",
    "plt.subplot(311)\n",
    "decomposed.trend.plot(ax=plt.gca())\n",
    "plt.title('Trend')\n",
    "plt.subplot(312)\n",
    "decomposed.seasonal.plot(ax=plt.gca())\n",
    "plt.title('Seasonality')\n",
    "plt.subplot(313)\n",
    "decomposed.resid.plot(ax=plt.gca())\n",
    "plt.title('Residuals')\n",
    "plt.tight_layout()"
   ]
  },
  {
   "cell_type": "markdown",
   "metadata": {},
   "source": [
    "Здесь также видно, что тренд растет от месяца к месяцу, но чтобы вывести сезонность нагляднее и изучить ее, ресемплируем данные по одному дню."
   ]
  },
  {
   "cell_type": "markdown",
   "metadata": {},
   "source": [
    "<font color='blue'><b>Комментарий ревьювера</b></font> \\\n",
    "<font color='green'>Молодец, правильное решение!"
   ]
  },
  {
   "cell_type": "code",
   "execution_count": 11,
   "metadata": {},
   "outputs": [
    {
     "data": {
      "text/plain": [
       "Text(0.5, 1.0, 'Seasonality')"
      ]
     },
     "execution_count": 11,
     "metadata": {},
     "output_type": "execute_result"
    },
    {
     "data": {
      "image/png": "[encoded data removed]",
      "text/plain": [
       "<Figure size 432x576 with 1 Axes>"
      ]
     },
     "metadata": {
      "needs_background": "light"
     },
     "output_type": "display_data"
    }
   ],
   "source": [
    "taxi_day = taxi.resample('1D').sum()\n",
    "\n",
    "decomposed_day = seasonal_decompose(taxi_day)\n",
    "\n",
    "plt.figure(figsize=(6, 8))\n",
    "plt.subplot(311)\n",
    "decomposed_day.seasonal.plot(ax=plt.gca())\n",
    "plt.title('Seasonality')\n"
   ]
  },
  {
   "cell_type": "markdown",
   "metadata": {},
   "source": [
    "Видим колебания раз в неделю - похоже, на выходных услугами такси пользуются реже. Вполне обосновано - люди больше используют личный транспорт для выездов/гуляют/остаются дома."
   ]
  },
  {
   "cell_type": "code",
   "execution_count": 12,
   "metadata": {},
   "outputs": [
    {
     "data": {
      "text/plain": [
       "Text(0.5, 1.0, 'Seasonality')"
      ]
     },
     "execution_count": 12,
     "metadata": {},
     "output_type": "execute_result"
    },
    {
     "data": {
      "image/png": "[encoded data removed]",
      "text/plain": [
       "<Figure size 1296x288 with 1 Axes>"
      ]
     },
     "metadata": {
      "needs_background": "light"
     },
     "output_type": "display_data"
    }
   ],
   "source": [
    "#Теперь изучим сезонную составляющую в почасовом графике заказов с 12 по 13 мая\n",
    "plt.figure(figsize=(18, 4))\n",
    "seasonal_decompose(taxi['num_orders']).seasonal['2018-05-12':'2018-05-13'].plot(ax=plt.gca())\n",
    "plt.title('Seasonality')"
   ]
  },
  {
   "cell_type": "markdown",
   "metadata": {},
   "source": [
    "Из графика видно, что наиболее часто такси в аэропортах чаще заказывают в 00 ч.\n",
    "В 6-7 ч утра минимальное количество заказов\n",
    "В остальное время дня количество заказов меняется примерно на одном уровне."
   ]
  },
  {
   "cell_type": "markdown",
   "metadata": {},
   "source": [
    "<font color='blue'><b>Комментарий ревьювера</b></font> \\\n",
    "<font color='green'>Верно!"
   ]
  },
  {
   "cell_type": "code",
   "execution_count": 13,
   "metadata": {},
   "outputs": [
    {
     "data": {
      "text/plain": [
       "<matplotlib.axes._subplots.AxesSubplot at 0x7fa71ed8ac90>"
      ]
     },
     "execution_count": 13,
     "metadata": {},
     "output_type": "execute_result"
    },
    {
     "data": {
      "image/png": "[encoded data removed]",
      "text/plain": [
       "<Figure size 432x288 with 1 Axes>"
      ]
     },
     "metadata": {
      "needs_background": "light"
     },
     "output_type": "display_data"
    }
   ],
   "source": [
    "#Найдем разности временного ряда. Станет ли он более стационарным, если применить метод .shift()?\n",
    "taxi_shifted = taxi - taxi.shift(fill_value=0)\n",
    "taxi_shifted['mean'] = taxi_shifted['num_orders'].rolling(15).mean()\n",
    "taxi_shifted['std'] = taxi_shifted['num_orders'].rolling(15).std()\n",
    "taxi_shifted.plot()"
   ]
  },
  {
   "cell_type": "markdown",
   "metadata": {},
   "source": [
    "\n",
    "Ряд становится более стационарным, а значит данные можно прогнозировать."
   ]
  },
  {
   "cell_type": "markdown",
   "metadata": {},
   "source": [
    "<font color='blue'><b>Комментарий ревьювера</b></font> \\\n",
    "<font color='green'>Здесь мы можем заметить, что хоть и разность временного ряда более стационарна, чем сам ряд, но ряд и без этого более-менее стационарный. Можем увидеть это, применив тест Дики-Фуллера:\n",
    "    \n",
    "Расширенный Тест Дики — Фуллера\n",
    "\n",
    "4 версии теста:\n",
    "\n",
    "Без константы и тренда: 'nc' \\\n",
    "С константой, но без тренда: 'c' \\\n",
    "С константой и линейным трендом: 'ct' \\\n",
    "С константой, линейным и квадратичным трендом: 'ctt'\n",
    "</font>\n"
   ]
  },
  {
   "cell_type": "code",
   "execution_count": 14,
   "metadata": {},
   "outputs": [
    {
     "name": "stdout",
     "output_type": "stream",
     "text": [
      "Если значение с индексом 1 меньше P-Value, заданное нами (обычно берут 0.05), то ряд стационарный\n",
      "Наш ряд стационарный\n"
     ]
    }
   ],
   "source": [
    "# код ревьювера\n",
    "from statsmodels.tsa.stattools import adfuller\n",
    "\n",
    "ts = taxi['num_orders']\n",
    "st_test = adfuller(ts, regression='ctt')\n",
    "\n",
    "print('Если значение с индексом 1 меньше P-Value, заданное нами (обычно берут 0.05), то ряд стационарный')\n",
    "if st_test[1] < 0.05:\n",
    "    print('Наш ряд стационарный')\n",
    "else:\n",
    "    print('Ряд нестационарный')"
   ]
  },
  {
   "cell_type": "markdown",
   "metadata": {},
   "source": [
    "# Выводы "
   ]
  },
  {
   "cell_type": "markdown",
   "metadata": {},
   "source": [
    "Проанализировали направление тренда и сезонность временного ряда:\n",
    "\n",
    "Есть общий тренда на увеличение количества заказов такси от месяца к месяцу, скорее всего влияет месячная сезонность, когда летом рост заказов, но сказать точно нельзя, т.к. данных у нас меньше года.          \n",
    "Наиболее часто такси заказывают в будние дни         \n",
    "Наименее часто такси заказываютпо выходным    \n",
    "Чаще всего такси заказывают около полуночи   \n",
    "В 6-7 ч утра минимальное количество заказов такси    "
   ]
  },
  {
   "cell_type": "markdown",
   "metadata": {},
   "source": [
    "<font color='blue'><b>Комментарий ревьювера</b></font> \\\n",
    "<font color='green'>Хорошо"
   ]
  },
  {
   "cell_type": "markdown",
   "metadata": {},
   "source": [
    "## Обучение"
   ]
  },
  {
   "cell_type": "markdown",
   "metadata": {},
   "source": [
    "Для успешного обучения добавим признаки в датасет. Напишем функцию make_features(), которая:\n",
    "\n",
    "добавит к датасету четыре новых календарных признака: год, месяц, день и день недели,\n",
    "вычислит и добавит отстающие значения (предыдущие значения временного ряда, которые покажут, будет ли функция x(t) расти или уменьшаться),\n",
    "вычислит скользящее среднее и добавит его как признак rolling_mean - этот признак задаст общий тренд временного ряда."
   ]
  },
  {
   "cell_type": "code",
   "execution_count": 20,
   "metadata": {},
   "outputs": [],
   "source": [
    "\n",
    "def make_features(data, max_lag, rolling_mean_size):\n",
    "    data['year'] = data.index.year\n",
    "    data['month'] = data.index.month\n",
    "    data['day'] = data.index.day\n",
    "    data['dayofweek'] = data.index.dayofweek\n",
    "    \n",
    "    for lag in range(1, max_lag + 1):\n",
    "        data['lag_{}'.format(lag)] = data['num_orders'].shift(lag)\n",
    "\n",
    "    data['rolling_mean'] = data['num_orders'].shift().rolling(rolling_mean_size).mean()"
   ]
  },
  {
   "cell_type": "code",
   "execution_count": 21,
   "metadata": {},
   "outputs": [
    {
     "data": {
      "text/html": [
       "<div>\n",
       "<style scoped>\n",
       "    .dataframe tbody tr th:only-of-type {\n",
       "        vertical-align: middle;\n",
       "    }\n",
       "\n",
       "    .dataframe tbody tr th {\n",
       "        vertical-align: top;\n",
       "    }\n",
       "\n",
       "    .dataframe thead th {\n",
       "        text-align: right;\n",
       "    }\n",
       "</style>\n",
       "<table border=\"1\" class=\"dataframe\">\n",
       "  <thead>\n",
       "    <tr style=\"text-align: right;\">\n",
       "      <th></th>\n",
       "      <th>num_orders</th>\n",
       "      <th>year</th>\n",
       "      <th>month</th>\n",
       "      <th>day</th>\n",
       "      <th>dayofweek</th>\n",
       "      <th>lag_1</th>\n",
       "      <th>lag_2</th>\n",
       "      <th>lag_3</th>\n",
       "      <th>lag_4</th>\n",
       "      <th>lag_5</th>\n",
       "      <th>...</th>\n",
       "      <th>lag_16</th>\n",
       "      <th>lag_17</th>\n",
       "      <th>lag_18</th>\n",
       "      <th>lag_19</th>\n",
       "      <th>lag_20</th>\n",
       "      <th>lag_21</th>\n",
       "      <th>lag_22</th>\n",
       "      <th>lag_23</th>\n",
       "      <th>lag_24</th>\n",
       "      <th>rolling_mean</th>\n",
       "    </tr>\n",
       "    <tr>\n",
       "      <th>datetime</th>\n",
       "      <th></th>\n",
       "      <th></th>\n",
       "      <th></th>\n",
       "      <th></th>\n",
       "      <th></th>\n",
       "      <th></th>\n",
       "      <th></th>\n",
       "      <th></th>\n",
       "      <th></th>\n",
       "      <th></th>\n",
       "      <th></th>\n",
       "      <th></th>\n",
       "      <th></th>\n",
       "      <th></th>\n",
       "      <th></th>\n",
       "      <th></th>\n",
       "      <th></th>\n",
       "      <th></th>\n",
       "      <th></th>\n",
       "      <th></th>\n",
       "      <th></th>\n",
       "    </tr>\n",
       "  </thead>\n",
       "  <tbody>\n",
       "    <tr>\n",
       "      <td>2018-03-01 00:00:00</td>\n",
       "      <td>124</td>\n",
       "      <td>2018</td>\n",
       "      <td>3</td>\n",
       "      <td>1</td>\n",
       "      <td>3</td>\n",
       "      <td>NaN</td>\n",
       "      <td>NaN</td>\n",
       "      <td>NaN</td>\n",
       "      <td>NaN</td>\n",
       "      <td>NaN</td>\n",
       "      <td>...</td>\n",
       "      <td>NaN</td>\n",
       "      <td>NaN</td>\n",
       "      <td>NaN</td>\n",
       "      <td>NaN</td>\n",
       "      <td>NaN</td>\n",
       "      <td>NaN</td>\n",
       "      <td>NaN</td>\n",
       "      <td>NaN</td>\n",
       "      <td>NaN</td>\n",
       "      <td>NaN</td>\n",
       "    </tr>\n",
       "    <tr>\n",
       "      <td>2018-03-01 01:00:00</td>\n",
       "      <td>85</td>\n",
       "      <td>2018</td>\n",
       "      <td>3</td>\n",
       "      <td>1</td>\n",
       "      <td>3</td>\n",
       "      <td>124.0</td>\n",
       "      <td>NaN</td>\n",
       "      <td>NaN</td>\n",
       "      <td>NaN</td>\n",
       "      <td>NaN</td>\n",
       "      <td>...</td>\n",
       "      <td>NaN</td>\n",
       "      <td>NaN</td>\n",
       "      <td>NaN</td>\n",
       "      <td>NaN</td>\n",
       "      <td>NaN</td>\n",
       "      <td>NaN</td>\n",
       "      <td>NaN</td>\n",
       "      <td>NaN</td>\n",
       "      <td>NaN</td>\n",
       "      <td>NaN</td>\n",
       "    </tr>\n",
       "    <tr>\n",
       "      <td>2018-03-01 02:00:00</td>\n",
       "      <td>71</td>\n",
       "      <td>2018</td>\n",
       "      <td>3</td>\n",
       "      <td>1</td>\n",
       "      <td>3</td>\n",
       "      <td>85.0</td>\n",
       "      <td>124.0</td>\n",
       "      <td>NaN</td>\n",
       "      <td>NaN</td>\n",
       "      <td>NaN</td>\n",
       "      <td>...</td>\n",
       "      <td>NaN</td>\n",
       "      <td>NaN</td>\n",
       "      <td>NaN</td>\n",
       "      <td>NaN</td>\n",
       "      <td>NaN</td>\n",
       "      <td>NaN</td>\n",
       "      <td>NaN</td>\n",
       "      <td>NaN</td>\n",
       "      <td>NaN</td>\n",
       "      <td>NaN</td>\n",
       "    </tr>\n",
       "    <tr>\n",
       "      <td>2018-03-01 03:00:00</td>\n",
       "      <td>66</td>\n",
       "      <td>2018</td>\n",
       "      <td>3</td>\n",
       "      <td>1</td>\n",
       "      <td>3</td>\n",
       "      <td>71.0</td>\n",
       "      <td>85.0</td>\n",
       "      <td>124.0</td>\n",
       "      <td>NaN</td>\n",
       "      <td>NaN</td>\n",
       "      <td>...</td>\n",
       "      <td>NaN</td>\n",
       "      <td>NaN</td>\n",
       "      <td>NaN</td>\n",
       "      <td>NaN</td>\n",
       "      <td>NaN</td>\n",
       "      <td>NaN</td>\n",
       "      <td>NaN</td>\n",
       "      <td>NaN</td>\n",
       "      <td>NaN</td>\n",
       "      <td>93.333333</td>\n",
       "    </tr>\n",
       "    <tr>\n",
       "      <td>2018-03-01 04:00:00</td>\n",
       "      <td>43</td>\n",
       "      <td>2018</td>\n",
       "      <td>3</td>\n",
       "      <td>1</td>\n",
       "      <td>3</td>\n",
       "      <td>66.0</td>\n",
       "      <td>71.0</td>\n",
       "      <td>85.0</td>\n",
       "      <td>124.0</td>\n",
       "      <td>NaN</td>\n",
       "      <td>...</td>\n",
       "      <td>NaN</td>\n",
       "      <td>NaN</td>\n",
       "      <td>NaN</td>\n",
       "      <td>NaN</td>\n",
       "      <td>NaN</td>\n",
       "      <td>NaN</td>\n",
       "      <td>NaN</td>\n",
       "      <td>NaN</td>\n",
       "      <td>NaN</td>\n",
       "      <td>74.000000</td>\n",
       "    </tr>\n",
       "  </tbody>\n",
       "</table>\n",
       "<p>5 rows × 30 columns</p>\n",
       "</div>"
      ],
      "text/plain": [
       "                     num_orders  year  month  day  dayofweek  lag_1  lag_2  \\\n",
       "datetime                                                                     \n",
       "2018-03-01 00:00:00         124  2018      3    1          3    NaN    NaN   \n",
       "2018-03-01 01:00:00          85  2018      3    1          3  124.0    NaN   \n",
       "2018-03-01 02:00:00          71  2018      3    1          3   85.0  124.0   \n",
       "2018-03-01 03:00:00          66  2018      3    1          3   71.0   85.0   \n",
       "2018-03-01 04:00:00          43  2018      3    1          3   66.0   71.0   \n",
       "\n",
       "                     lag_3  lag_4  lag_5  ...  lag_16  lag_17  lag_18  lag_19  \\\n",
       "datetime                                  ...                                   \n",
       "2018-03-01 00:00:00    NaN    NaN    NaN  ...     NaN     NaN     NaN     NaN   \n",
       "2018-03-01 01:00:00    NaN    NaN    NaN  ...     NaN     NaN     NaN     NaN   \n",
       "2018-03-01 02:00:00    NaN    NaN    NaN  ...     NaN     NaN     NaN     NaN   \n",
       "2018-03-01 03:00:00  124.0    NaN    NaN  ...     NaN     NaN     NaN     NaN   \n",
       "2018-03-01 04:00:00   85.0  124.0    NaN  ...     NaN     NaN     NaN     NaN   \n",
       "\n",
       "                     lag_20  lag_21  lag_22  lag_23  lag_24  rolling_mean  \n",
       "datetime                                                                   \n",
       "2018-03-01 00:00:00     NaN     NaN     NaN     NaN     NaN           NaN  \n",
       "2018-03-01 01:00:00     NaN     NaN     NaN     NaN     NaN           NaN  \n",
       "2018-03-01 02:00:00     NaN     NaN     NaN     NaN     NaN           NaN  \n",
       "2018-03-01 03:00:00     NaN     NaN     NaN     NaN     NaN     93.333333  \n",
       "2018-03-01 04:00:00     NaN     NaN     NaN     NaN     NaN     74.000000  \n",
       "\n",
       "[5 rows x 30 columns]"
      ]
     },
     "execution_count": 21,
     "metadata": {},
     "output_type": "execute_result"
    }
   ],
   "source": [
    "make_features(taxi, 24, 3)\n",
    "taxi.head()"
   ]
  },
  {
   "cell_type": "markdown",
   "metadata": {},
   "source": [
    "<font color='blue'><b>Комментарий ревьювера</b></font> \\\n",
    "<font color='red'>Объясни, пожалуйста, почему были выбраны эти признаки. \\\n",
    "1) Фактор год: ... (На самом деле он однозначно не подходит. У нас данных меньше года, поэтому тут будет просто константа.)\\\n",
    "2) Фактор месяц: ...\\\n",
    "3) Фактор день:...\\\n",
    "4) Фактор день недели:....\\\n",
    "5) Факто lag: .....\\\n",
    "6) Фактор rolling: ......\\\n",
    "Дай, пожалуйста, краткое описание, почему именно выбранные факторы взял в модель. с такими параметрами (24, 3)\\\n",
    "Это один из ключевых моментов всей темы \"временные ряды\" - понимать составляющие ряда.\\\n",
    "Поэтому и прошу тебя сформулировать ответ на вопрос."
   ]
  },
  {
   "cell_type": "markdown",
   "metadata": {},
   "source": [
    "\n",
    "Разделим данные на обучающую и тестовую выборки, а затем поделим признаки.\n",
    "\n",
    "Функция train_test_split по умолчанию перемешивает данные (что нам в данном случае не нужно), поэтому добавим параметр shuffle=False.\n",
    "\n",
    "После применения функции make_features у нас появились NaN-значения за счет сдвига данных. Их никак не заполнить - просто избавимся от них."
   ]
  },
  {
   "cell_type": "code",
   "execution_count": 22,
   "metadata": {},
   "outputs": [],
   "source": [
    "train, test = train_test_split(taxi, shuffle=False, test_size=0.1)\n",
    "train = train.dropna()\n",
    "\n",
    "features_train = train.drop(['num_orders'], axis=1)\n",
    "target_train = train['num_orders']\n",
    "\n",
    "features_test = test.drop(['num_orders'], axis=1)\n",
    "target_test = test['num_orders']"
   ]
  },
  {
   "cell_type": "markdown",
   "metadata": {},
   "source": [
    "<font color='blue'><b>Комментарий ревьювера</b></font> \\\n",
    "<font color='green'>Правильно"
   ]
  },
  {
   "cell_type": "code",
   "execution_count": 23,
   "metadata": {},
   "outputs": [
    {
     "name": "stdout",
     "output_type": "stream",
     "text": [
      "2018-08-13 13:00:00\n",
      "2018-08-13 14:00:00\n"
     ]
    }
   ],
   "source": [
    "#Проверим, что данные не перемешались - сравним последнее наблюдение признаков обучающей выборки и первое наблюдение признаков тестовой выборки\n",
    "print(features_train.index[features_train.shape[0]-1])\n",
    "print(features_test.index[0])"
   ]
  },
  {
   "cell_type": "markdown",
   "metadata": {},
   "source": [
    "\n",
    "Все верно, данные можно использовать для обучения."
   ]
  },
  {
   "cell_type": "code",
   "execution_count": 24,
   "metadata": {},
   "outputs": [],
   "source": [
    "#напишем формулу для получения значения метрики RMSE\n",
    "def rmse (target, predictions):\n",
    "    mse = mean_squared_error(target, predictions)\n",
    "    rmse = mse ** 0.5\n",
    "    return rmse"
   ]
  },
  {
   "cell_type": "markdown",
   "metadata": {},
   "source": [
    "Обучим модели LinearRegression, CatBoostRegressor и LGBMRegressor."
   ]
  },
  {
   "cell_type": "markdown",
   "metadata": {},
   "source": [
    "# LinearRegression"
   ]
  },
  {
   "cell_type": "code",
   "execution_count": 25,
   "metadata": {},
   "outputs": [],
   "source": [
    "\n",
    "lr_model = LinearRegression()\n",
    "lr_model.fit(features_train, target_train)\n",
    "predicted_lr = pd.Series(lr_model.predict(features_test))"
   ]
  },
  {
   "cell_type": "markdown",
   "metadata": {},
   "source": [
    "# CatBoostRegressor"
   ]
  },
  {
   "cell_type": "code",
   "execution_count": 26,
   "metadata": {},
   "outputs": [
    {
     "name": "stdout",
     "output_type": "stream",
     "text": [
      "0:\tlearn: 38.4052844\ttotal: 55.5ms\tremaining: 4.11s\n",
      "10:\tlearn: 34.7290112\ttotal: 396ms\tremaining: 2.31s\n",
      "20:\tlearn: 32.0429795\ttotal: 793ms\tremaining: 2.04s\n",
      "30:\tlearn: 30.1663531\ttotal: 1.1s\tremaining: 1.56s\n",
      "40:\tlearn: 28.8046962\ttotal: 1.49s\tremaining: 1.24s\n",
      "50:\tlearn: 27.7750352\ttotal: 1.88s\tremaining: 886ms\n",
      "60:\tlearn: 26.9268388\ttotal: 2.27s\tremaining: 522ms\n",
      "70:\tlearn: 26.3126876\ttotal: 2.58s\tremaining: 145ms\n",
      "74:\tlearn: 26.1305971\ttotal: 2.77s\tremaining: 0us\n",
      "0:\tlearn: 40.1413434\ttotal: 5.7ms\tremaining: 422ms\n",
      "10:\tlearn: 35.4914265\ttotal: 326ms\tremaining: 1.89s\n",
      "20:\tlearn: 32.1819122\ttotal: 720ms\tremaining: 1.85s\n",
      "30:\tlearn: 29.8541711\ttotal: 1.11s\tremaining: 1.57s\n",
      "40:\tlearn: 28.2215743\ttotal: 1.5s\tremaining: 1.24s\n",
      "50:\tlearn: 27.0324999\ttotal: 1.81s\tremaining: 850ms\n",
      "60:\tlearn: 26.1542907\ttotal: 2.2s\tremaining: 504ms\n",
      "70:\tlearn: 25.4741502\ttotal: 2.68s\tremaining: 151ms\n",
      "74:\tlearn: 25.2522795\ttotal: 2.79s\tremaining: 0us\n",
      "0:\tlearn: 32.9362277\ttotal: 10.2ms\tremaining: 752ms\n",
      "10:\tlearn: 29.2375678\ttotal: 371ms\tremaining: 2.16s\n",
      "20:\tlearn: 26.6149200\ttotal: 761ms\tremaining: 1.96s\n",
      "30:\tlearn: 24.7965997\ttotal: 1.07s\tremaining: 1.51s\n",
      "40:\tlearn: 23.5327766\ttotal: 1.36s\tremaining: 1.13s\n",
      "50:\tlearn: 22.6298360\ttotal: 1.75s\tremaining: 826ms\n",
      "60:\tlearn: 21.9164014\ttotal: 2.06s\tremaining: 472ms\n",
      "70:\tlearn: 21.3812428\ttotal: 2.44s\tremaining: 137ms\n",
      "74:\tlearn: 21.1964021\ttotal: 2.54s\tremaining: 0us\n",
      "Score при iterations = 75 : [0.39924018 0.48893253 0.20785772]\n",
      "Score mean = 0.365343475430935\n",
      "\n",
      "0:\tlearn: 38.4052844\ttotal: 5.33ms\tremaining: 527ms\n",
      "10:\tlearn: 34.7290112\ttotal: 329ms\tremaining: 2.66s\n",
      "20:\tlearn: 32.0429795\ttotal: 725ms\tremaining: 2.73s\n",
      "30:\tlearn: 30.1663531\ttotal: 1.12s\tremaining: 2.49s\n",
      "40:\tlearn: 28.8046962\ttotal: 1.52s\tremaining: 2.18s\n",
      "50:\tlearn: 27.7750352\ttotal: 1.91s\tremaining: 1.84s\n",
      "60:\tlearn: 26.9268388\ttotal: 2.31s\tremaining: 1.48s\n",
      "70:\tlearn: 26.3126876\ttotal: 2.7s\tremaining: 1.1s\n",
      "80:\tlearn: 25.8275158\ttotal: 3.01s\tremaining: 706ms\n",
      "90:\tlearn: 25.4252489\ttotal: 3.4s\tremaining: 336ms\n",
      "99:\tlearn: 25.1060617\ttotal: 3.79s\tremaining: 0us\n",
      "0:\tlearn: 40.1413434\ttotal: 6.75ms\tremaining: 669ms\n",
      "10:\tlearn: 35.4914265\ttotal: 391ms\tremaining: 3.17s\n",
      "20:\tlearn: 32.1819122\ttotal: 698ms\tremaining: 2.63s\n",
      "30:\tlearn: 29.8541711\ttotal: 1s\tremaining: 2.23s\n",
      "40:\tlearn: 28.2215743\ttotal: 1.39s\tremaining: 2.01s\n",
      "50:\tlearn: 27.0324999\ttotal: 1.71s\tremaining: 1.64s\n",
      "60:\tlearn: 26.1542907\ttotal: 2.09s\tremaining: 1.34s\n",
      "70:\tlearn: 25.4741502\ttotal: 2.48s\tremaining: 1.01s\n",
      "80:\tlearn: 24.9476514\ttotal: 2.78s\tremaining: 653ms\n",
      "90:\tlearn: 24.5515527\ttotal: 3.17s\tremaining: 314ms\n",
      "99:\tlearn: 24.2476481\ttotal: 3.48s\tremaining: 0us\n",
      "0:\tlearn: 32.9362277\ttotal: 9.59ms\tremaining: 950ms\n",
      "10:\tlearn: 29.2375678\ttotal: 360ms\tremaining: 2.91s\n",
      "20:\tlearn: 26.6149200\ttotal: 753ms\tremaining: 2.83s\n",
      "30:\tlearn: 24.7965997\ttotal: 1.17s\tremaining: 2.6s\n",
      "40:\tlearn: 23.5327766\ttotal: 1.64s\tremaining: 2.35s\n",
      "50:\tlearn: 22.6298360\ttotal: 1.94s\tremaining: 1.87s\n",
      "60:\tlearn: 21.9164014\ttotal: 2.34s\tremaining: 1.5s\n",
      "70:\tlearn: 21.3812428\ttotal: 2.73s\tremaining: 1.11s\n",
      "80:\tlearn: 20.9572288\ttotal: 3.12s\tremaining: 732ms\n",
      "90:\tlearn: 20.6089630\ttotal: 3.52s\tremaining: 348ms\n",
      "99:\tlearn: 20.2880242\ttotal: 3.82s\tremaining: 0us\n",
      "Score при iterations = 100 : [0.44324513 0.50790668 0.26285492]\n",
      "Score mean = 0.4046689093220974\n",
      "\n",
      "0:\tlearn: 38.4052844\ttotal: 6.9ms\tremaining: 856ms\n",
      "10:\tlearn: 34.7290112\ttotal: 383ms\tremaining: 3.96s\n",
      "20:\tlearn: 32.0429795\ttotal: 863ms\tremaining: 4.27s\n",
      "30:\tlearn: 30.1663531\ttotal: 1.26s\tremaining: 3.82s\n",
      "40:\tlearn: 28.8046962\ttotal: 1.65s\tremaining: 3.39s\n",
      "50:\tlearn: 27.7750352\ttotal: 2.05s\tremaining: 2.98s\n",
      "60:\tlearn: 26.9268388\ttotal: 2.45s\tremaining: 2.57s\n",
      "70:\tlearn: 26.3126876\ttotal: 2.85s\tremaining: 2.17s\n",
      "80:\tlearn: 25.8275158\ttotal: 3.24s\tremaining: 1.76s\n",
      "90:\tlearn: 25.4252489\ttotal: 3.54s\tremaining: 1.32s\n",
      "100:\tlearn: 25.0659004\ttotal: 3.93s\tremaining: 934ms\n",
      "110:\tlearn: 24.7050364\ttotal: 4.32s\tremaining: 545ms\n",
      "120:\tlearn: 24.4898944\ttotal: 4.63s\tremaining: 153ms\n",
      "124:\tlearn: 24.3605150\ttotal: 4.82s\tremaining: 0us\n",
      "0:\tlearn: 40.1413434\ttotal: 6.09ms\tremaining: 755ms\n",
      "10:\tlearn: 35.4914265\ttotal: 254ms\tremaining: 2.63s\n",
      "20:\tlearn: 32.1819122\ttotal: 731ms\tremaining: 3.62s\n",
      "30:\tlearn: 29.8541711\ttotal: 1.13s\tremaining: 3.42s\n",
      "40:\tlearn: 28.2215743\ttotal: 1.52s\tremaining: 3.11s\n",
      "50:\tlearn: 27.0324999\ttotal: 1.83s\tremaining: 2.65s\n",
      "60:\tlearn: 26.1542907\ttotal: 2.22s\tremaining: 2.33s\n",
      "70:\tlearn: 25.4741502\ttotal: 2.6s\tremaining: 1.98s\n",
      "80:\tlearn: 24.9476514\ttotal: 3s\tremaining: 1.63s\n",
      "90:\tlearn: 24.5515527\ttotal: 3.31s\tremaining: 1.24s\n",
      "100:\tlearn: 24.2103341\ttotal: 3.7s\tremaining: 879ms\n",
      "110:\tlearn: 23.9280465\ttotal: 4.25s\tremaining: 536ms\n",
      "120:\tlearn: 23.6525037\ttotal: 4.58s\tremaining: 152ms\n",
      "124:\tlearn: 23.5452488\ttotal: 4.77s\tremaining: 0us\n",
      "0:\tlearn: 32.9362277\ttotal: 4.77ms\tremaining: 591ms\n",
      "10:\tlearn: 29.2375678\ttotal: 318ms\tremaining: 3.29s\n",
      "20:\tlearn: 26.6149200\ttotal: 703ms\tremaining: 3.48s\n",
      "30:\tlearn: 24.7965997\ttotal: 1.1s\tremaining: 3.35s\n",
      "40:\tlearn: 23.5327766\ttotal: 1.59s\tremaining: 3.27s\n",
      "50:\tlearn: 22.6298360\ttotal: 1.98s\tremaining: 2.88s\n",
      "60:\tlearn: 21.9164014\ttotal: 2.38s\tremaining: 2.5s\n",
      "70:\tlearn: 21.3812428\ttotal: 2.77s\tremaining: 2.11s\n",
      "80:\tlearn: 20.9572288\ttotal: 3.08s\tremaining: 1.67s\n",
      "90:\tlearn: 20.6089630\ttotal: 3.39s\tremaining: 1.26s\n",
      "100:\tlearn: 20.2616518\ttotal: 3.79s\tremaining: 901ms\n",
      "110:\tlearn: 19.9948993\ttotal: 4.18s\tremaining: 527ms\n",
      "120:\tlearn: 19.7635895\ttotal: 4.57s\tremaining: 151ms\n",
      "124:\tlearn: 19.6714814\ttotal: 4.76s\tremaining: 0us\n",
      "Score при iterations = 125 : [0.46529318 0.51871364 0.29154611]\n",
      "Score mean = 0.42518430761777865\n",
      "\n",
      "0:\tlearn: 38.4052844\ttotal: 5.14ms\tremaining: 766ms\n",
      "10:\tlearn: 34.7290112\ttotal: 307ms\tremaining: 3.88s\n",
      "20:\tlearn: 32.0429795\ttotal: 699ms\tremaining: 4.29s\n",
      "30:\tlearn: 30.1663531\ttotal: 1s\tremaining: 3.86s\n",
      "40:\tlearn: 28.8046962\ttotal: 1.39s\tremaining: 3.71s\n",
      "50:\tlearn: 27.7750352\ttotal: 1.7s\tremaining: 3.31s\n",
      "60:\tlearn: 26.9268388\ttotal: 2.18s\tremaining: 3.18s\n",
      "70:\tlearn: 26.3126876\ttotal: 2.49s\tremaining: 2.77s\n",
      "80:\tlearn: 25.8275158\ttotal: 2.88s\tremaining: 2.45s\n",
      "90:\tlearn: 25.4252489\ttotal: 3.27s\tremaining: 2.12s\n",
      "100:\tlearn: 25.0659004\ttotal: 3.57s\tremaining: 1.73s\n",
      "110:\tlearn: 24.7050364\ttotal: 4.05s\tremaining: 1.42s\n",
      "120:\tlearn: 24.4898944\ttotal: 4.45s\tremaining: 1.07s\n",
      "130:\tlearn: 24.1885869\ttotal: 4.75s\tremaining: 688ms\n",
      "140:\tlearn: 23.9639055\ttotal: 5.05s\tremaining: 322ms\n",
      "149:\tlearn: 23.8045200\ttotal: 5.34s\tremaining: 0us\n",
      "0:\tlearn: 40.1413434\ttotal: 4.83ms\tremaining: 719ms\n",
      "10:\tlearn: 35.4914265\ttotal: 272ms\tremaining: 3.43s\n",
      "20:\tlearn: 32.1819122\ttotal: 664ms\tremaining: 4.08s\n",
      "30:\tlearn: 29.8541711\ttotal: 1.06s\tremaining: 4.06s\n",
      "40:\tlearn: 28.2215743\ttotal: 1.46s\tremaining: 3.87s\n",
      "50:\tlearn: 27.0324999\ttotal: 1.85s\tremaining: 3.6s\n",
      "60:\tlearn: 26.1542907\ttotal: 2.25s\tremaining: 3.29s\n",
      "70:\tlearn: 25.4741502\ttotal: 2.64s\tremaining: 2.94s\n",
      "80:\tlearn: 24.9476514\ttotal: 3.03s\tremaining: 2.58s\n",
      "90:\tlearn: 24.5515527\ttotal: 3.33s\tremaining: 2.16s\n",
      "100:\tlearn: 24.2103341\ttotal: 3.72s\tremaining: 1.81s\n",
      "110:\tlearn: 23.9280465\ttotal: 4.12s\tremaining: 1.45s\n",
      "120:\tlearn: 23.6525037\ttotal: 4.43s\tremaining: 1.06s\n",
      "130:\tlearn: 23.3962511\ttotal: 4.82s\tremaining: 699ms\n",
      "140:\tlearn: 23.1728987\ttotal: 5.2s\tremaining: 332ms\n",
      "149:\tlearn: 22.9534958\ttotal: 5.5s\tremaining: 0us\n",
      "0:\tlearn: 32.9362277\ttotal: 5.38ms\tremaining: 801ms\n",
      "10:\tlearn: 29.2375678\ttotal: 390ms\tremaining: 4.92s\n",
      "20:\tlearn: 26.6149200\ttotal: 696ms\tremaining: 4.28s\n",
      "30:\tlearn: 24.7965997\ttotal: 1.18s\tremaining: 4.52s\n",
      "40:\tlearn: 23.5327766\ttotal: 1.48s\tremaining: 3.94s\n",
      "50:\tlearn: 22.6298360\ttotal: 1.87s\tremaining: 3.63s\n",
      "60:\tlearn: 21.9164014\ttotal: 2.27s\tremaining: 3.31s\n",
      "70:\tlearn: 21.3812428\ttotal: 2.57s\tremaining: 2.86s\n",
      "80:\tlearn: 20.9572288\ttotal: 2.96s\tremaining: 2.52s\n",
      "90:\tlearn: 20.6089630\ttotal: 3.35s\tremaining: 2.17s\n",
      "100:\tlearn: 20.2616518\ttotal: 3.65s\tremaining: 1.77s\n",
      "110:\tlearn: 19.9948993\ttotal: 4.04s\tremaining: 1.42s\n",
      "120:\tlearn: 19.7635895\ttotal: 4.44s\tremaining: 1.06s\n",
      "130:\tlearn: 19.5434447\ttotal: 4.83s\tremaining: 701ms\n",
      "140:\tlearn: 19.3583271\ttotal: 5.13s\tremaining: 328ms\n",
      "149:\tlearn: 19.1678030\ttotal: 5.52s\tremaining: 0us\n",
      "Score при iterations = 150 : [0.47661121 0.52739502 0.31204567]\n",
      "Score mean = 0.43868396619655875\n",
      "\n"
     ]
    }
   ],
   "source": [
    "#построим модель CBR и исследуем её работу с различными значениями гиперпараметра iterations с помощью кросс-валидации\n",
    "for iteration in range(75, 151, 25):\n",
    "    cat_model = CatBoostRegressor(loss_function=\"RMSE\", iterations=iteration, depth=6, verbose=10)\n",
    "    cat_cv = cross_val_score(cat_model, features_train, target_train, cv=3)\n",
    "    print(\"Score при iterations =\", iteration, \":\", cat_cv)\n",
    "    print(\"Score mean =\", sum(cat_cv)/len(cat_cv))\n",
    "    print()"
   ]
  },
  {
   "cell_type": "code",
   "execution_count": 27,
   "metadata": {},
   "outputs": [
    {
     "name": "stdout",
     "output_type": "stream",
     "text": [
      "0:\tlearn: 38.5960322\ttotal: 2.77ms\tremaining: 412ms\n",
      "10:\tlearn: 36.4271685\ttotal: 15.2ms\tremaining: 192ms\n",
      "20:\tlearn: 34.8637504\ttotal: 120ms\tremaining: 738ms\n",
      "30:\tlearn: 33.6615472\ttotal: 130ms\tremaining: 500ms\n",
      "40:\tlearn: 32.6936474\ttotal: 151ms\tremaining: 402ms\n",
      "50:\tlearn: 31.9132970\ttotal: 246ms\tremaining: 477ms\n",
      "60:\tlearn: 31.3152216\ttotal: 338ms\tremaining: 494ms\n",
      "70:\tlearn: 30.8210826\ttotal: 435ms\tremaining: 484ms\n",
      "80:\tlearn: 30.3942212\ttotal: 454ms\tremaining: 387ms\n",
      "90:\tlearn: 30.0289528\ttotal: 547ms\tremaining: 355ms\n",
      "100:\tlearn: 29.7034727\ttotal: 644ms\tremaining: 313ms\n",
      "110:\tlearn: 29.4148624\ttotal: 735ms\tremaining: 258ms\n",
      "120:\tlearn: 29.1792608\ttotal: 747ms\tremaining: 179ms\n",
      "130:\tlearn: 28.9773690\ttotal: 843ms\tremaining: 122ms\n",
      "140:\tlearn: 28.7990108\ttotal: 935ms\tremaining: 59.6ms\n",
      "149:\tlearn: 28.6418755\ttotal: 1.03s\tremaining: 0us\n",
      "0:\tlearn: 40.3401494\ttotal: 3.15ms\tremaining: 470ms\n",
      "10:\tlearn: 37.4197360\ttotal: 78ms\tremaining: 986ms\n",
      "20:\tlearn: 35.2972451\ttotal: 173ms\tremaining: 1.06s\n",
      "30:\tlearn: 33.7039045\ttotal: 271ms\tremaining: 1.04s\n",
      "40:\tlearn: 32.4312894\ttotal: 369ms\tremaining: 981ms\n",
      "50:\tlearn: 31.4118485\ttotal: 468ms\tremaining: 908ms\n",
      "60:\tlearn: 30.6510542\ttotal: 559ms\tremaining: 816ms\n",
      "70:\tlearn: 29.9979377\ttotal: 653ms\tremaining: 726ms\n",
      "80:\tlearn: 29.4978588\ttotal: 750ms\tremaining: 639ms\n",
      "90:\tlearn: 29.0689023\ttotal: 853ms\tremaining: 553ms\n",
      "100:\tlearn: 28.6987645\ttotal: 942ms\tremaining: 457ms\n",
      "110:\tlearn: 28.3976526\ttotal: 1.04s\tremaining: 365ms\n",
      "120:\tlearn: 28.1483844\ttotal: 1.13s\tremaining: 272ms\n",
      "130:\tlearn: 27.9561746\ttotal: 1.23s\tremaining: 179ms\n",
      "140:\tlearn: 27.7803006\ttotal: 1.33s\tremaining: 84.8ms\n",
      "149:\tlearn: 27.6370995\ttotal: 1.43s\tremaining: 0us\n",
      "0:\tlearn: 33.1137715\ttotal: 2.35ms\tremaining: 350ms\n",
      "10:\tlearn: 30.9482032\ttotal: 71.6ms\tremaining: 905ms\n",
      "20:\tlearn: 29.3785946\ttotal: 171ms\tremaining: 1.05s\n",
      "30:\tlearn: 28.1882782\ttotal: 271ms\tremaining: 1.04s\n",
      "40:\tlearn: 27.2459726\ttotal: 367ms\tremaining: 975ms\n",
      "50:\tlearn: 26.5082507\ttotal: 466ms\tremaining: 905ms\n",
      "60:\tlearn: 25.8889833\ttotal: 562ms\tremaining: 820ms\n",
      "70:\tlearn: 25.3717786\ttotal: 658ms\tremaining: 732ms\n",
      "80:\tlearn: 24.9423183\ttotal: 758ms\tremaining: 646ms\n",
      "90:\tlearn: 24.5901480\ttotal: 852ms\tremaining: 552ms\n",
      "100:\tlearn: 24.2720960\ttotal: 949ms\tremaining: 461ms\n",
      "110:\tlearn: 23.9931546\ttotal: 1.05s\tremaining: 369ms\n",
      "120:\tlearn: 23.7568588\ttotal: 1.23s\tremaining: 295ms\n",
      "130:\tlearn: 23.5544202\ttotal: 1.33s\tremaining: 193ms\n",
      "140:\tlearn: 23.3846964\ttotal: 1.42s\tremaining: 91ms\n",
      "149:\tlearn: 23.2516946\ttotal: 1.52s\tremaining: 0us\n",
      "Score при depth = 1 : [0.33034082 0.44540041 0.09996157]\n",
      "Score mean = 0.2919009308411588\n",
      "\n",
      "0:\tlearn: 38.4321886\ttotal: 2.55ms\tremaining: 380ms\n",
      "10:\tlearn: 35.2089753\ttotal: 33.4ms\tremaining: 423ms\n",
      "20:\tlearn: 32.9109468\ttotal: 228ms\tremaining: 1.4s\n",
      "30:\tlearn: 31.3068283\ttotal: 422ms\tremaining: 1.62s\n",
      "40:\tlearn: 30.1384792\ttotal: 615ms\tremaining: 1.64s\n",
      "50:\tlearn: 29.2920516\ttotal: 807ms\tremaining: 1.56s\n",
      "60:\tlearn: 28.6567417\ttotal: 1s\tremaining: 1.46s\n",
      "70:\tlearn: 28.1640483\ttotal: 1.2s\tremaining: 1.34s\n",
      "80:\tlearn: 27.7546824\ttotal: 1.31s\tremaining: 1.11s\n",
      "90:\tlearn: 27.4182041\ttotal: 1.5s\tremaining: 970ms\n",
      "100:\tlearn: 27.2031388\ttotal: 1.69s\tremaining: 819ms\n",
      "110:\tlearn: 26.9706747\ttotal: 1.79s\tremaining: 631ms\n",
      "120:\tlearn: 26.7534168\ttotal: 1.98s\tremaining: 476ms\n",
      "130:\tlearn: 26.6054862\ttotal: 2.1s\tremaining: 304ms\n",
      "140:\tlearn: 26.4415547\ttotal: 2.28s\tremaining: 146ms\n",
      "149:\tlearn: 26.3323033\ttotal: 2.47s\tremaining: 0us\n",
      "0:\tlearn: 40.2280449\ttotal: 3.66ms\tremaining: 546ms\n",
      "10:\tlearn: 36.0144893\ttotal: 118ms\tremaining: 1.49s\n",
      "20:\tlearn: 33.0847159\ttotal: 311ms\tremaining: 1.91s\n",
      "30:\tlearn: 31.0875044\ttotal: 504ms\tremaining: 1.94s\n",
      "40:\tlearn: 29.6765989\ttotal: 703ms\tremaining: 1.87s\n",
      "50:\tlearn: 28.7127608\ttotal: 893ms\tremaining: 1.73s\n",
      "60:\tlearn: 27.9249317\ttotal: 999ms\tremaining: 1.46s\n",
      "70:\tlearn: 27.3672363\ttotal: 1.19s\tremaining: 1.33s\n",
      "80:\tlearn: 26.9210034\ttotal: 1.39s\tremaining: 1.18s\n",
      "90:\tlearn: 26.5812487\ttotal: 1.58s\tremaining: 1.02s\n",
      "100:\tlearn: 26.3410410\ttotal: 1.78s\tremaining: 862ms\n",
      "110:\tlearn: 26.0873918\ttotal: 1.98s\tremaining: 694ms\n",
      "120:\tlearn: 25.8567277\ttotal: 2.17s\tremaining: 520ms\n",
      "130:\tlearn: 25.6790020\ttotal: 2.36s\tremaining: 342ms\n",
      "140:\tlearn: 25.5317320\ttotal: 2.56s\tremaining: 163ms\n",
      "149:\tlearn: 25.3838894\ttotal: 2.67s\tremaining: 0us\n",
      "0:\tlearn: 32.9647251\ttotal: 1.49ms\tremaining: 222ms\n",
      "10:\tlearn: 29.7423499\ttotal: 104ms\tremaining: 1.31s\n",
      "20:\tlearn: 27.4969229\ttotal: 291ms\tremaining: 1.79s\n",
      "30:\tlearn: 25.9168431\ttotal: 481ms\tremaining: 1.85s\n",
      "40:\tlearn: 24.7795735\ttotal: 593ms\tremaining: 1.58s\n",
      "50:\tlearn: 23.9998833\ttotal: 787ms\tremaining: 1.53s\n",
      "60:\tlearn: 23.3728656\ttotal: 979ms\tremaining: 1.43s\n",
      "70:\tlearn: 22.9323974\ttotal: 1.18s\tremaining: 1.31s\n",
      "80:\tlearn: 22.5556479\ttotal: 1.37s\tremaining: 1.17s\n",
      "90:\tlearn: 22.2773579\ttotal: 1.56s\tremaining: 1.01s\n",
      "100:\tlearn: 22.0386775\ttotal: 1.76s\tremaining: 853ms\n",
      "110:\tlearn: 21.8274771\ttotal: 1.95s\tremaining: 686ms\n",
      "120:\tlearn: 21.6440189\ttotal: 2.15s\tremaining: 514ms\n",
      "130:\tlearn: 21.4864463\ttotal: 2.34s\tremaining: 340ms\n",
      "140:\tlearn: 21.3476719\ttotal: 2.46s\tremaining: 157ms\n",
      "149:\tlearn: 21.2403249\ttotal: 2.64s\tremaining: 0us\n",
      "Score при depth = 3 : [0.43539758 0.50508396 0.2725581 ]\n",
      "Score mean = 0.40434654597793623\n",
      "\n",
      "0:\tlearn: 38.4093779\ttotal: 4.95ms\tremaining: 738ms\n",
      "10:\tlearn: 34.8352854\ttotal: 231ms\tremaining: 2.92s\n",
      "20:\tlearn: 32.3131756\ttotal: 530ms\tremaining: 3.25s\n",
      "30:\tlearn: 30.4552454\ttotal: 827ms\tremaining: 3.18s\n",
      "40:\tlearn: 29.1815194\ttotal: 1.12s\tremaining: 2.98s\n",
      "50:\tlearn: 28.2061708\ttotal: 1.42s\tremaining: 2.75s\n",
      "60:\tlearn: 27.4656567\ttotal: 1.71s\tremaining: 2.5s\n",
      "70:\tlearn: 26.8898740\ttotal: 2.01s\tremaining: 2.23s\n",
      "80:\tlearn: 26.5602189\ttotal: 2.3s\tremaining: 1.96s\n",
      "90:\tlearn: 26.1513613\ttotal: 2.59s\tremaining: 1.68s\n",
      "100:\tlearn: 25.8608888\ttotal: 2.89s\tremaining: 1.4s\n",
      "110:\tlearn: 25.6331897\ttotal: 3.18s\tremaining: 1.12s\n",
      "120:\tlearn: 25.4539853\ttotal: 3.48s\tremaining: 833ms\n",
      "130:\tlearn: 25.2193623\ttotal: 3.78s\tremaining: 548ms\n",
      "140:\tlearn: 25.0061243\ttotal: 4.07s\tremaining: 260ms\n",
      "149:\tlearn: 24.7767034\ttotal: 4.36s\tremaining: 0us\n",
      "0:\tlearn: 40.1426255\ttotal: 6.51ms\tremaining: 971ms\n",
      "10:\tlearn: 35.6250806\ttotal: 219ms\tremaining: 2.77s\n",
      "20:\tlearn: 32.4615878\ttotal: 599ms\tremaining: 3.68s\n",
      "30:\tlearn: 30.1583156\ttotal: 808ms\tremaining: 3.1s\n",
      "40:\tlearn: 28.6405753\ttotal: 1.19s\tremaining: 3.16s\n",
      "50:\tlearn: 27.5173335\ttotal: 1.58s\tremaining: 3.08s\n",
      "60:\tlearn: 26.6862712\ttotal: 1.9s\tremaining: 2.77s\n",
      "70:\tlearn: 26.0417576\ttotal: 2.28s\tremaining: 2.54s\n",
      "80:\tlearn: 25.5985930\ttotal: 2.58s\tremaining: 2.2s\n",
      "90:\tlearn: 25.1948106\ttotal: 2.87s\tremaining: 1.86s\n",
      "100:\tlearn: 24.8506765\ttotal: 3.17s\tremaining: 1.53s\n",
      "110:\tlearn: 24.5217816\ttotal: 3.47s\tremaining: 1.22s\n",
      "120:\tlearn: 24.2717235\ttotal: 3.66s\tremaining: 878ms\n",
      "130:\tlearn: 24.0218841\ttotal: 3.95s\tremaining: 573ms\n",
      "140:\tlearn: 23.8359593\ttotal: 4.25s\tremaining: 271ms\n",
      "149:\tlearn: 23.6617722\ttotal: 4.45s\tremaining: 0us\n",
      "0:\tlearn: 32.9384910\ttotal: 7.02ms\tremaining: 1.05s\n",
      "10:\tlearn: 29.3426802\ttotal: 260ms\tremaining: 3.29s\n",
      "20:\tlearn: 26.8430236\ttotal: 551ms\tremaining: 3.39s\n",
      "30:\tlearn: 25.1170492\ttotal: 760ms\tremaining: 2.92s\n",
      "40:\tlearn: 23.8561737\ttotal: 1.05s\tremaining: 2.8s\n",
      "50:\tlearn: 22.9817638\ttotal: 1.35s\tremaining: 2.62s\n",
      "60:\tlearn: 22.3474395\ttotal: 1.64s\tremaining: 2.4s\n",
      "70:\tlearn: 21.8614286\ttotal: 1.93s\tremaining: 2.15s\n",
      "80:\tlearn: 21.4954597\ttotal: 2.14s\tremaining: 1.82s\n",
      "90:\tlearn: 21.1374349\ttotal: 2.43s\tremaining: 1.57s\n",
      "100:\tlearn: 20.8773775\ttotal: 2.72s\tremaining: 1.32s\n",
      "110:\tlearn: 20.6075162\ttotal: 2.92s\tremaining: 1.02s\n",
      "120:\tlearn: 20.3864871\ttotal: 3.12s\tremaining: 748ms\n",
      "130:\tlearn: 20.2002531\ttotal: 3.41s\tremaining: 494ms\n",
      "140:\tlearn: 20.0271586\ttotal: 3.61s\tremaining: 230ms\n",
      "149:\tlearn: 19.8693651\ttotal: 3.81s\tremaining: 0us\n",
      "Score при depth = 5 : [0.46461131 0.52877881 0.30349704]\n",
      "Score mean = 0.43229572127230415\n",
      "\n",
      "0:\tlearn: 38.4022047\ttotal: 9.13ms\tremaining: 1.36s\n",
      "10:\tlearn: 34.7192867\ttotal: 448ms\tremaining: 5.66s\n",
      "20:\tlearn: 31.9447481\ttotal: 1.03s\tremaining: 6.34s\n",
      "30:\tlearn: 29.8946969\ttotal: 1.45s\tremaining: 5.55s\n",
      "40:\tlearn: 28.4122668\ttotal: 2.03s\tremaining: 5.39s\n",
      "50:\tlearn: 27.3082207\ttotal: 2.52s\tremaining: 4.9s\n",
      "60:\tlearn: 26.4545282\ttotal: 3.02s\tremaining: 4.41s\n",
      "70:\tlearn: 25.7071256\ttotal: 3.61s\tremaining: 4.01s\n",
      "80:\tlearn: 25.1420493\ttotal: 4.01s\tremaining: 3.42s\n",
      "90:\tlearn: 24.6966944\ttotal: 4.51s\tremaining: 2.92s\n",
      "100:\tlearn: 24.3439242\ttotal: 5.09s\tremaining: 2.47s\n",
      "110:\tlearn: 24.0176888\ttotal: 5.5s\tremaining: 1.93s\n",
      "120:\tlearn: 23.6766638\ttotal: 5.99s\tremaining: 1.43s\n",
      "130:\tlearn: 23.3682271\ttotal: 6.39s\tremaining: 926ms\n",
      "140:\tlearn: 23.1567435\ttotal: 6.87s\tremaining: 439ms\n",
      "149:\tlearn: 23.0022494\ttotal: 7.27s\tremaining: 0us\n",
      "0:\tlearn: 40.1393864\ttotal: 9.16ms\tremaining: 1.36s\n",
      "10:\tlearn: 35.3867257\ttotal: 443ms\tremaining: 5.6s\n",
      "20:\tlearn: 32.0056001\ttotal: 1.02s\tremaining: 6.3s\n",
      "30:\tlearn: 29.5634979\ttotal: 1.52s\tremaining: 5.83s\n",
      "40:\tlearn: 27.8679312\ttotal: 2.01s\tremaining: 5.34s\n",
      "50:\tlearn: 26.6324375\ttotal: 2.5s\tremaining: 4.86s\n",
      "60:\tlearn: 25.6537570\ttotal: 2.92s\tremaining: 4.25s\n",
      "70:\tlearn: 24.8921008\ttotal: 3.4s\tremaining: 3.79s\n",
      "80:\tlearn: 24.2651620\ttotal: 3.9s\tremaining: 3.32s\n",
      "90:\tlearn: 23.8018662\ttotal: 4.49s\tremaining: 2.91s\n",
      "100:\tlearn: 23.4699155\ttotal: 4.98s\tremaining: 2.42s\n",
      "110:\tlearn: 23.0827683\ttotal: 5.48s\tremaining: 1.93s\n",
      "120:\tlearn: 22.8143697\ttotal: 5.97s\tremaining: 1.43s\n",
      "130:\tlearn: 22.5373112\ttotal: 6.46s\tremaining: 938ms\n",
      "140:\tlearn: 22.3200231\ttotal: 6.97s\tremaining: 445ms\n",
      "149:\tlearn: 22.0448723\ttotal: 7.46s\tremaining: 0us\n",
      "0:\tlearn: 32.9205280\ttotal: 9.27ms\tremaining: 1.38s\n",
      "10:\tlearn: 29.1536605\ttotal: 424ms\tremaining: 5.35s\n",
      "20:\tlearn: 26.4603543\ttotal: 920ms\tremaining: 5.65s\n",
      "30:\tlearn: 24.5945613\ttotal: 1.42s\tremaining: 5.44s\n",
      "40:\tlearn: 23.2585371\ttotal: 1.82s\tremaining: 4.85s\n",
      "50:\tlearn: 22.2647102\ttotal: 2.31s\tremaining: 4.48s\n",
      "60:\tlearn: 21.5130483\ttotal: 2.8s\tremaining: 4.08s\n",
      "70:\tlearn: 20.9332964\ttotal: 3.29s\tremaining: 3.66s\n",
      "80:\tlearn: 20.4498815\ttotal: 3.79s\tremaining: 3.22s\n",
      "90:\tlearn: 20.0548482\ttotal: 4.33s\tremaining: 2.81s\n",
      "100:\tlearn: 19.6880255\ttotal: 4.74s\tremaining: 2.3s\n",
      "110:\tlearn: 19.3642708\ttotal: 5.23s\tremaining: 1.84s\n",
      "120:\tlearn: 19.0960980\ttotal: 5.72s\tremaining: 1.37s\n",
      "130:\tlearn: 18.8480195\ttotal: 6.12s\tremaining: 887ms\n",
      "140:\tlearn: 18.6254907\ttotal: 6.52s\tremaining: 416ms\n",
      "149:\tlearn: 18.4285171\ttotal: 6.91s\tremaining: 0us\n",
      "Score при depth = 7 : [0.47821011 0.53399196 0.31069508]\n",
      "Score mean = 0.4409657135064746\n",
      "\n",
      "0:\tlearn: 38.3893434\ttotal: 91.4ms\tremaining: 13.6s\n",
      "10:\tlearn: 34.4782003\ttotal: 1.28s\tremaining: 16.2s\n",
      "20:\tlearn: 31.5775983\ttotal: 2.38s\tremaining: 14.6s\n",
      "30:\tlearn: 29.3740659\ttotal: 3.47s\tremaining: 13.3s\n",
      "40:\tlearn: 27.6515880\ttotal: 4.57s\tremaining: 12.2s\n",
      "50:\tlearn: 26.3029421\ttotal: 5.67s\tremaining: 11s\n",
      "60:\tlearn: 25.2071616\ttotal: 6.85s\tremaining: 9.99s\n",
      "70:\tlearn: 24.3361139\ttotal: 7.95s\tremaining: 8.84s\n",
      "80:\tlearn: 23.6606453\ttotal: 9.04s\tremaining: 7.7s\n",
      "90:\tlearn: 23.0479391\ttotal: 9.96s\tremaining: 6.46s\n",
      "100:\tlearn: 22.4517931\ttotal: 11.1s\tremaining: 5.36s\n",
      "110:\tlearn: 22.0139630\ttotal: 12.1s\tremaining: 4.27s\n",
      "120:\tlearn: 21.5902330\ttotal: 13.2s\tremaining: 3.17s\n",
      "130:\tlearn: 21.1406631\ttotal: 14.2s\tremaining: 2.07s\n",
      "140:\tlearn: 20.7752281\ttotal: 15.3s\tremaining: 979ms\n",
      "149:\tlearn: 20.4805252\ttotal: 16.3s\tremaining: 0us\n",
      "0:\tlearn: 40.1445258\ttotal: 19.2ms\tremaining: 2.87s\n",
      "10:\tlearn: 35.3481109\ttotal: 1.11s\tremaining: 14s\n",
      "20:\tlearn: 31.7955208\ttotal: 2.2s\tremaining: 13.5s\n",
      "30:\tlearn: 29.2134493\ttotal: 3.19s\tremaining: 12.3s\n",
      "40:\tlearn: 27.2861487\ttotal: 4.19s\tremaining: 11.1s\n",
      "50:\tlearn: 25.8549420\ttotal: 5.09s\tremaining: 9.89s\n",
      "60:\tlearn: 24.6757750\ttotal: 6.18s\tremaining: 9.01s\n",
      "70:\tlearn: 23.6488925\ttotal: 7.27s\tremaining: 8.09s\n",
      "80:\tlearn: 22.8537351\ttotal: 8.38s\tremaining: 7.13s\n",
      "90:\tlearn: 22.2482090\ttotal: 9.56s\tremaining: 6.2s\n",
      "100:\tlearn: 21.6917687\ttotal: 10.6s\tremaining: 5.12s\n",
      "110:\tlearn: 21.2148194\ttotal: 11.6s\tremaining: 4.09s\n",
      "120:\tlearn: 20.8938568\ttotal: 12.6s\tremaining: 3.03s\n",
      "130:\tlearn: 20.5743586\ttotal: 13.7s\tremaining: 1.99s\n",
      "140:\tlearn: 20.2384724\ttotal: 14.8s\tremaining: 947ms\n",
      "149:\tlearn: 19.9222197\ttotal: 15.7s\tremaining: 0us\n",
      "0:\tlearn: 32.9020458\ttotal: 63.5ms\tremaining: 9.46s\n",
      "10:\tlearn: 29.1207424\ttotal: 1.06s\tremaining: 13.4s\n",
      "20:\tlearn: 26.3252160\ttotal: 2.15s\tremaining: 13.2s\n",
      "30:\tlearn: 24.1987984\ttotal: 3.14s\tremaining: 12.1s\n",
      "40:\tlearn: 22.6581792\ttotal: 4.05s\tremaining: 10.8s\n",
      "50:\tlearn: 21.4529272\ttotal: 5.04s\tremaining: 9.79s\n",
      "60:\tlearn: 20.5058120\ttotal: 6.12s\tremaining: 8.94s\n",
      "70:\tlearn: 19.7871404\ttotal: 7.03s\tremaining: 7.82s\n",
      "80:\tlearn: 19.1026153\ttotal: 8.02s\tremaining: 6.83s\n",
      "90:\tlearn: 18.6015626\ttotal: 9.02s\tremaining: 5.84s\n",
      "100:\tlearn: 18.0637315\ttotal: 10s\tremaining: 4.86s\n",
      "110:\tlearn: 17.6672803\ttotal: 11s\tremaining: 3.87s\n",
      "120:\tlearn: 17.2871289\ttotal: 12s\tremaining: 2.88s\n",
      "130:\tlearn: 16.9712533\ttotal: 13s\tremaining: 1.88s\n",
      "140:\tlearn: 16.6490416\ttotal: 14s\tremaining: 893ms\n",
      "149:\tlearn: 16.3961191\ttotal: 14.9s\tremaining: 0us\n",
      "Score при depth = 9 : [0.47932666 0.530811   0.29299296]\n",
      "Score mean = 0.4343768743821948\n",
      "\n"
     ]
    }
   ],
   "source": [
    "#исследуем работу модели с различными значениями гиперпараметра depth\n",
    "for depth in range(1, 10, 2):\n",
    "    cat_model = CatBoostRegressor(loss_function=\"RMSE\", iterations=150, depth=depth, verbose=10)\n",
    "    cat_cv = cross_val_score(cat_model, features_train, target_train, cv=3)\n",
    "    print(\"Score при depth =\", depth, \":\", cat_cv)\n",
    "    print(\"Score mean =\", sum(cat_cv)/len(cat_cv))\n",
    "    print()"
   ]
  },
  {
   "cell_type": "markdown",
   "metadata": {},
   "source": [
    "На тестировании будем использовать модель CBR с гиперпараметрами iterations = 110 и depth = 7, эти гиперпараметры показали лучший результат по качеству и времени."
   ]
  },
  {
   "cell_type": "code",
   "execution_count": 29,
   "metadata": {},
   "outputs": [
    {
     "name": "stdout",
     "output_type": "stream",
     "text": [
      "0:\tlearn: 38.1440310\ttotal: 7.86ms\tremaining: 857ms\n",
      "10:\tlearn: 33.7661007\ttotal: 571ms\tremaining: 5.14s\n",
      "20:\tlearn: 30.6584054\ttotal: 1.07s\tremaining: 4.54s\n",
      "30:\tlearn: 28.4600016\ttotal: 1.66s\tremaining: 4.22s\n",
      "40:\tlearn: 26.9531198\ttotal: 2.16s\tremaining: 3.63s\n",
      "50:\tlearn: 25.8446755\ttotal: 2.65s\tremaining: 3.07s\n",
      "60:\tlearn: 24.9902518\ttotal: 3.24s\tremaining: 2.6s\n",
      "70:\tlearn: 24.3281995\ttotal: 3.73s\tremaining: 2.05s\n",
      "80:\tlearn: 23.7990539\ttotal: 4.23s\tremaining: 1.51s\n",
      "90:\tlearn: 23.3627202\ttotal: 4.66s\tremaining: 973ms\n",
      "100:\tlearn: 23.0399393\ttotal: 5.13s\tremaining: 457ms\n",
      "109:\tlearn: 22.7875999\ttotal: 5.53s\tremaining: 0us\n"
     ]
    }
   ],
   "source": [
    "cat_model_110_7= CatBoostRegressor(loss_function=\"RMSE\", iterations=110, depth=7, verbose=10)\n",
    "cat_model_110_7.fit(features_train, target_train)\n",
    "predicted_cat = pd.Series(cat_model_110_7.predict(features_test))"
   ]
  },
  {
   "cell_type": "markdown",
   "metadata": {},
   "source": [
    "<font color='blue'><b>Комментарий ревьювера</b></font> \\\n",
    "<font color='green'>На самом деле можно было использовать GridSearchCV для перебора параметров. Главное, это не забыть поставить правильный метод кросс-валидации.\\\n",
    "В случае с временным рядом нам нужно задать кросс-валидацию TimeSeriesSplit\\\n",
    "https://scikit-learn.org/stable/modules/generated/sklearn.model_selection.TimeSeriesSplit.html \\\n",
    "Если мы исследуем временной ряд, то в каждом сплите тестовые индексы должны быть позже по времени, чем обучающие, поэтому перетасовка обычным способом неуместна. Как раз TimeSeriesSplit решает эту проблему.\\\n",
    "Иллюстрация работы:\\\n",
    "</font>\n",
    "![image.png](https://scikit-learn.org/stable/_images/sphx_glr_plot_cv_indices_0101.png)\n",
    "\n",
    "Код реализации:\n",
    "<code>\n",
    "tscv = TimeSeriesSplit(n_splits=2)\n",
    "gsearch = GridSearchCV(estimator=model, cv=tscv, param_grid=param_search)\n",
    "gsearch.fit(X, y)</code></font>"
   ]
  },
  {
   "cell_type": "markdown",
   "metadata": {},
   "source": [
    "# LGBMRegressor"
   ]
  },
  {
   "cell_type": "code",
   "execution_count": 37,
   "metadata": {},
   "outputs": [],
   "source": [
    "params = {\n",
    "    'boosting_type': 'gbdt',\n",
    "    'objective': 'regression',\n",
    "    'metric': 'rmse',\n",
    "    'max_depth': 6, \n",
    "    'learning_rate': 0.1,\n",
    "    'verbose': 0\n",
    "}"
   ]
  },
  {
   "cell_type": "code",
   "execution_count": 41,
   "metadata": {},
   "outputs": [],
   "source": [
    "lgbm_model = LGBMRegressor(**params)\n",
    "lgbm_model.fit(features_train, target_train)\n",
    "predictions_lgbm = lgbm_model.predict(features_test)"
   ]
  },
  {
   "cell_type": "markdown",
   "metadata": {},
   "source": [
    "## Тестирование"
   ]
  },
  {
   "cell_type": "markdown",
   "metadata": {},
   "source": [
    "# LinearRegression"
   ]
  },
  {
   "cell_type": "code",
   "execution_count": 45,
   "metadata": {},
   "outputs": [
    {
     "data": {
      "text/plain": [
       "45.24777768628903"
      ]
     },
     "execution_count": 45,
     "metadata": {},
     "output_type": "execute_result"
    }
   ],
   "source": [
    "\n",
    "rmse(target_test, predicted_lr)"
   ]
  },
  {
   "cell_type": "markdown",
   "metadata": {},
   "source": [
    "# CatBoostRegressor"
   ]
  },
  {
   "cell_type": "code",
   "execution_count": 46,
   "metadata": {},
   "outputs": [
    {
     "data": {
      "text/plain": [
       "48.43489907971826"
      ]
     },
     "execution_count": 46,
     "metadata": {},
     "output_type": "execute_result"
    }
   ],
   "source": [
    "rmse(target_test, predicted_cat)"
   ]
  },
  {
   "cell_type": "markdown",
   "metadata": {},
   "source": [
    "# LGBMRegressor¶"
   ]
  },
  {
   "cell_type": "code",
   "execution_count": 47,
   "metadata": {},
   "outputs": [
    {
     "data": {
      "text/plain": [
       "41.801135657892594"
      ]
     },
     "execution_count": 47,
     "metadata": {},
     "output_type": "execute_result"
    }
   ],
   "source": [
    "rmse(target_test, predictions_lgbm)"
   ]
  },
  {
   "cell_type": "markdown",
   "metadata": {},
   "source": [
    "<font color='blue'><b>Комментарий ревьювера</b></font> \\\n",
    "<font color='green'>Отлично!"
   ]
  },
  {
   "cell_type": "markdown",
   "metadata": {},
   "source": [
    "# Выводы ¶"
   ]
  },
  {
   "cell_type": "markdown",
   "metadata": {},
   "source": [
    "Обучили 3 моделb и 2 из них показали на тестовой выборке RMSE < 48\n",
    "Наилучший результат RMSE показали модели LGBMRegressor и LinearRegression\n",
    "Есть общий тренда на увеличение количества заказов такси от месяца к месяцу\n",
    "Наиболее часто такси заказывают в рабочие дни, наименее часто по выходным\n",
    "Чаще всего такси заказывают около полуночи, а в 6-7 ч утра минимальное количество заказов\n",
    "\n",
    "Можно сделать вывод о необходимости усиления рабочих смен таксистов именно указанное время."
   ]
  },
  {
   "cell_type": "markdown",
   "metadata": {},
   "source": [
    "<font color='blue'><b>Итоговый комментарий ревьювера</b></font>\\\n",
    "<font color='green'>Алексей, добротный проект получился!\\\n",
    "Понравилось, что ты подробно изучил ряд. Однако, и пояснения по feature engineering нужно писать :)</font>\n",
    "\n",
    "<font color='blue'>Что можно сделать лучше:</font>\n",
    "<ul><font color='red'>1) Объяснить выбор признаков</font></ul>\n",
    "\n",
    "<font color='blue'><b>Спасибо, жду твоих исправлений и комментариев!</b></font>"
   ]
  },
  {
   "cell_type": "markdown",
   "metadata": {},
   "source": [
    "## Чек-лист проверки"
   ]
  },
  {
   "cell_type": "markdown",
   "metadata": {},
   "source": [
    "- [x]  Jupyter Notebook открыт\n",
    "- [x ]  Весь код выполняется без ошибок\n",
    "- [x ]  Ячейки с кодом расположены в порядке исполнения\n",
    "- [x ]  Данные загружены и подготовлены\n",
    "- [x ]  Данные проанализированы\n",
    "- [x ]  Модель обучена, гиперпараметры подобраны\n",
    "- [x ]  Качество моделей проверено, выводы сделаны\n",
    "- [x ]  Значение *RMSE* на тестовой выборке не больше 48"
   ]
  },
  {
   "cell_type": "code",
   "execution_count": null,
   "metadata": {},
   "outputs": [],
   "source": []
  }
 ],
 "metadata": {
  "kernelspec": {
   "display_name": "Python 3",
   "language": "python",
   "name": "python3"
  },
  "language_info": {
   "codemirror_mode": {
    "name": "ipython",
    "version": 3
   },
   "file_extension": ".py",
   "mimetype": "text/x-python",
   "name": "python",
   "nbconvert_exporter": "python",
   "pygments_lexer": "ipython3",
   "version": "3.7.8"
  },
  "toc": {
   "base_numbering": 1,
   "nav_menu": {},
   "number_sections": true,
   "sideBar": true,
   "skip_h1_title": true,
   "title_cell": "Содержание",
   "title_sidebar": "Contents",
   "toc_cell": true,
   "toc_position": {},
   "toc_section_display": true,
   "toc_window_display": false
  }
 },
 "nbformat": 4,
 "nbformat_minor": 2
}
