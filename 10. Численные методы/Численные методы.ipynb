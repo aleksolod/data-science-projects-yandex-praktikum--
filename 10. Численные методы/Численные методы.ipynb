{
 "cells": [
  {
   "cell_type": "markdown",
   "metadata": {},
   "source": [
    "Привет, меня зовут Артем Хуршудов. Сегодня я проверю твой проект.\n",
    "<br> Дальнейшее общение будет происходить на \"ты\" если это не вызывает никаких проблем.\n",
    "<br> Желательно реагировать на каждый мой комментарий ('исправил', 'не понятно как исправить ошибку', ...)\n",
    "<br> Пожалуйста, не удаляй комментарии ревьюера, так как они повышают качество повторного ревью.\n",
    "\n",
    "Комментарии будут в <font color='green'>зеленой</font>, <font color='blue'>синей</font> или <font color='red'>красной</font> рамках:\n",
    "\n",
    "<div class=\"alert alert-block alert-success\">\n",
    "<b>Успех:</b> Если все сделано отлично\n",
    "</div>\n",
    "\n",
    "<div class=\"alert alert-block alert-info\">\n",
    "<b>Совет: </b> Если можно немного улучшить\n",
    "</div>\n",
    "\n",
    "<div class=\"alert alert-block alert-danger\">\n",
    "<b>Ошибка:</b> Если требуются исправления. Работа не может быть принята с красными комментариями.\n",
    "</div>\n",
    "\n",
    "-------------------\n",
    "\n",
    "Будет очень хорошо, если ты будешь помечать свои действия следующим образом:\n",
    "<div class=\"alert alert-block alert-warning\">\n",
    "<b>Комментарий студента:</b> ...\n",
    "</div>\n",
    "\n",
    "<div class=\"alert alert-block alert-warning\">\n",
    "<b>Изменения:</b> Были внесены следующие изменения ...\n",
    "</div>\n",
    "\n",
    "### <font color='orange'>Общее впечатление</font>\n",
    "* Большое спасибо за проделанную работу. Видно, что приложено много усилий.\n",
    "* Радует, что ноутбук хорошо структурирован. Приятно проверять такие работы.\n",
    "* Отлично, что тебе удалось освоить внутренние методы кодировки признаков для некоторых моделей.\n",
    "* Я оставил несколько советов, надеюсь они будут учтены в будущих проектах.\n",
    "* Эта работа зачтена. Удачи в дальнейшем обучении."
   ]
  },
  {
   "cell_type": "markdown",
   "metadata": {},
   "source": [
    "# Определение стоимости автомобилей"
   ]
  },
  {
   "cell_type": "markdown",
   "metadata": {},
   "source": [
    "Сервис по продаже автомобилей с пробегом «Не бит, не крашен» разрабатывает приложение для привлечения новых клиентов. В нём можно быстро узнать рыночную стоимость своего автомобиля. В вашем распоряжении исторические данные: технические характеристики, комплектации и цены автомобилей. Вам нужно построить модель для определения стоимости. \n",
    "\n",
    "Заказчику важны:\n",
    "\n",
    "- качество предсказания;\n",
    "- скорость предсказания;\n",
    "- время обучения."
   ]
  },
  {
   "cell_type": "markdown",
   "metadata": {},
   "source": [
    "__Описание данных__"
   ]
  },
  {
   "cell_type": "markdown",
   "metadata": {},
   "source": [
    "__Признаки__    \n",
    "DateCrawled — дата скачивания анкеты из базы     \n",
    "VehicleType — тип автомобильного кузова      \n",
    "RegistrationYear — год регистрации автомобиля      \n",
    "Gearbox — тип коробки передач      \n",
    "Power — мощность (л. с.)      \n",
    "Model — модель автомобиля       \n",
    "Kilometer — пробег (км)       \n",
    "RegistrationMonth — месяц регистрации автомобиля      \n",
    "FuelType — тип топлива      \n",
    "Brand — марка автомобиля      \n",
    "NotRepaired — была машина в ремонте или нет      \n",
    "DateCreated — дата создания анкеты      \n",
    "NumberOfPictures — количество фотографий автомобиля     \n",
    "PostalCode — почтовый индекс владельца анкеты (пользователя)      \n",
    "LastSeen — дата последней активности пользователя  \n",
    "__Целевой признак__\n",
    "Price — цена (евро)"
   ]
  },
  {
   "cell_type": "markdown",
   "metadata": {},
   "source": [
    "## Подготовка данных"
   ]
  },
  {
   "cell_type": "code",
   "execution_count": 1,
   "metadata": {},
   "outputs": [],
   "source": [
    "#импортируем необходимые библиотеки и инструменты\n",
    "import pandas as pd\n",
    "pd.options.mode.chained_assignment = None\n",
    "import numpy as np\n",
    "from sklearn.metrics import mean_squared_error\n",
    "from sklearn.preprocessing import StandardScaler, OrdinalEncoder\n",
    "from sklearn.model_selection import train_test_split, cross_val_score\n",
    "from sklearn.linear_model import LinearRegression\n",
    "from catboost import CatBoostRegressor\n",
    "import lightgbm as lgb\n",
    "from lightgbm import LGBMRegressor"
   ]
  },
  {
   "cell_type": "markdown",
   "metadata": {},
   "source": [
    "<div class=\"alert alert-block alert-success\">\n",
    "<b>Успех:</b> Отлично, что все импорты собраны в первой ячейке ноутбука! Если у того, кто будет запускать твой ноутбук будут отсутствовать некоторые библиотеки, то он это увидит сразу, а не в процессе!\n",
    "</div>"
   ]
  },
  {
   "cell_type": "code",
   "execution_count": 2,
   "metadata": {},
   "outputs": [],
   "source": [
    "car_data = pd.read_csv('/datasets/autos.csv')"
   ]
  },
  {
   "cell_type": "code",
   "execution_count": 3,
   "metadata": {},
   "outputs": [
    {
     "name": "stdout",
     "output_type": "stream",
     "text": [
      "<class 'pandas.core.frame.DataFrame'>\n",
      "RangeIndex: 354369 entries, 0 to 354368\n",
      "Data columns (total 16 columns):\n",
      "DateCrawled          354369 non-null object\n",
      "Price                354369 non-null int64\n",
      "VehicleType          316879 non-null object\n",
      "RegistrationYear     354369 non-null int64\n",
      "Gearbox              334536 non-null object\n",
      "Power                354369 non-null int64\n",
      "Model                334664 non-null object\n",
      "Kilometer            354369 non-null int64\n",
      "RegistrationMonth    354369 non-null int64\n",
      "FuelType             321474 non-null object\n",
      "Brand                354369 non-null object\n",
      "NotRepaired          283215 non-null object\n",
      "DateCreated          354369 non-null object\n",
      "NumberOfPictures     354369 non-null int64\n",
      "PostalCode           354369 non-null int64\n",
      "LastSeen             354369 non-null object\n",
      "dtypes: int64(7), object(9)\n",
      "memory usage: 43.3+ MB\n"
     ]
    },
    {
     "data": {
      "text/plain": [
       "None"
      ]
     },
     "metadata": {},
     "output_type": "display_data"
    },
    {
     "data": {
      "text/html": [
       "<div>\n",
       "<style scoped>\n",
       "    .dataframe tbody tr th:only-of-type {\n",
       "        vertical-align: middle;\n",
       "    }\n",
       "\n",
       "    .dataframe tbody tr th {\n",
       "        vertical-align: top;\n",
       "    }\n",
       "\n",
       "    .dataframe thead th {\n",
       "        text-align: right;\n",
       "    }\n",
       "</style>\n",
       "<table border=\"1\" class=\"dataframe\">\n",
       "  <thead>\n",
       "    <tr style=\"text-align: right;\">\n",
       "      <th></th>\n",
       "      <th>DateCrawled</th>\n",
       "      <th>Price</th>\n",
       "      <th>VehicleType</th>\n",
       "      <th>RegistrationYear</th>\n",
       "      <th>Gearbox</th>\n",
       "      <th>Power</th>\n",
       "      <th>Model</th>\n",
       "      <th>Kilometer</th>\n",
       "      <th>RegistrationMonth</th>\n",
       "      <th>FuelType</th>\n",
       "      <th>Brand</th>\n",
       "      <th>NotRepaired</th>\n",
       "      <th>DateCreated</th>\n",
       "      <th>NumberOfPictures</th>\n",
       "      <th>PostalCode</th>\n",
       "      <th>LastSeen</th>\n",
       "    </tr>\n",
       "  </thead>\n",
       "  <tbody>\n",
       "    <tr>\n",
       "      <td>0</td>\n",
       "      <td>2016-03-24 11:52:17</td>\n",
       "      <td>480</td>\n",
       "      <td>NaN</td>\n",
       "      <td>1993</td>\n",
       "      <td>manual</td>\n",
       "      <td>0</td>\n",
       "      <td>golf</td>\n",
       "      <td>150000</td>\n",
       "      <td>0</td>\n",
       "      <td>petrol</td>\n",
       "      <td>volkswagen</td>\n",
       "      <td>NaN</td>\n",
       "      <td>2016-03-24 00:00:00</td>\n",
       "      <td>0</td>\n",
       "      <td>70435</td>\n",
       "      <td>2016-04-07 03:16:57</td>\n",
       "    </tr>\n",
       "    <tr>\n",
       "      <td>1</td>\n",
       "      <td>2016-03-24 10:58:45</td>\n",
       "      <td>18300</td>\n",
       "      <td>coupe</td>\n",
       "      <td>2011</td>\n",
       "      <td>manual</td>\n",
       "      <td>190</td>\n",
       "      <td>NaN</td>\n",
       "      <td>125000</td>\n",
       "      <td>5</td>\n",
       "      <td>gasoline</td>\n",
       "      <td>audi</td>\n",
       "      <td>yes</td>\n",
       "      <td>2016-03-24 00:00:00</td>\n",
       "      <td>0</td>\n",
       "      <td>66954</td>\n",
       "      <td>2016-04-07 01:46:50</td>\n",
       "    </tr>\n",
       "    <tr>\n",
       "      <td>2</td>\n",
       "      <td>2016-03-14 12:52:21</td>\n",
       "      <td>9800</td>\n",
       "      <td>suv</td>\n",
       "      <td>2004</td>\n",
       "      <td>auto</td>\n",
       "      <td>163</td>\n",
       "      <td>grand</td>\n",
       "      <td>125000</td>\n",
       "      <td>8</td>\n",
       "      <td>gasoline</td>\n",
       "      <td>jeep</td>\n",
       "      <td>NaN</td>\n",
       "      <td>2016-03-14 00:00:00</td>\n",
       "      <td>0</td>\n",
       "      <td>90480</td>\n",
       "      <td>2016-04-05 12:47:46</td>\n",
       "    </tr>\n",
       "    <tr>\n",
       "      <td>3</td>\n",
       "      <td>2016-03-17 16:54:04</td>\n",
       "      <td>1500</td>\n",
       "      <td>small</td>\n",
       "      <td>2001</td>\n",
       "      <td>manual</td>\n",
       "      <td>75</td>\n",
       "      <td>golf</td>\n",
       "      <td>150000</td>\n",
       "      <td>6</td>\n",
       "      <td>petrol</td>\n",
       "      <td>volkswagen</td>\n",
       "      <td>no</td>\n",
       "      <td>2016-03-17 00:00:00</td>\n",
       "      <td>0</td>\n",
       "      <td>91074</td>\n",
       "      <td>2016-03-17 17:40:17</td>\n",
       "    </tr>\n",
       "    <tr>\n",
       "      <td>4</td>\n",
       "      <td>2016-03-31 17:25:20</td>\n",
       "      <td>3600</td>\n",
       "      <td>small</td>\n",
       "      <td>2008</td>\n",
       "      <td>manual</td>\n",
       "      <td>69</td>\n",
       "      <td>fabia</td>\n",
       "      <td>90000</td>\n",
       "      <td>7</td>\n",
       "      <td>gasoline</td>\n",
       "      <td>skoda</td>\n",
       "      <td>no</td>\n",
       "      <td>2016-03-31 00:00:00</td>\n",
       "      <td>0</td>\n",
       "      <td>60437</td>\n",
       "      <td>2016-04-06 10:17:21</td>\n",
       "    </tr>\n",
       "  </tbody>\n",
       "</table>\n",
       "</div>"
      ],
      "text/plain": [
       "           DateCrawled  Price VehicleType  RegistrationYear Gearbox  Power  \\\n",
       "0  2016-03-24 11:52:17    480         NaN              1993  manual      0   \n",
       "1  2016-03-24 10:58:45  18300       coupe              2011  manual    190   \n",
       "2  2016-03-14 12:52:21   9800         suv              2004    auto    163   \n",
       "3  2016-03-17 16:54:04   1500       small              2001  manual     75   \n",
       "4  2016-03-31 17:25:20   3600       small              2008  manual     69   \n",
       "\n",
       "   Model  Kilometer  RegistrationMonth  FuelType       Brand NotRepaired  \\\n",
       "0   golf     150000                  0    petrol  volkswagen         NaN   \n",
       "1    NaN     125000                  5  gasoline        audi         yes   \n",
       "2  grand     125000                  8  gasoline        jeep         NaN   \n",
       "3   golf     150000                  6    petrol  volkswagen          no   \n",
       "4  fabia      90000                  7  gasoline       skoda          no   \n",
       "\n",
       "           DateCreated  NumberOfPictures  PostalCode             LastSeen  \n",
       "0  2016-03-24 00:00:00                 0       70435  2016-04-07 03:16:57  \n",
       "1  2016-03-24 00:00:00                 0       66954  2016-04-07 01:46:50  \n",
       "2  2016-03-14 00:00:00                 0       90480  2016-04-05 12:47:46  \n",
       "3  2016-03-17 00:00:00                 0       91074  2016-03-17 17:40:17  \n",
       "4  2016-03-31 00:00:00                 0       60437  2016-04-06 10:17:21  "
      ]
     },
     "execution_count": 3,
     "metadata": {},
     "output_type": "execute_result"
    }
   ],
   "source": [
    "#посмотрим на наш датасет\n",
    "display(car_data.info())\n",
    "car_data.head()"
   ]
  },
  {
   "cell_type": "markdown",
   "metadata": {},
   "source": [
    "Нашли следующие проблемы: пропуски, а также много ненужных столбцов, например:\n",
    "\n",
    "DateCrawled — дата скачивания анкеты из базы    \n",
    "RegistrationMonth — месяц регистрации автомобиля    \n",
    "DateCreated — дата создания анкеты     \n",
    "NumberOfPictures — количество фотографий автомобиля     \n",
    "PostalCode — почтовый индекс владельца анкеты (пользователя)     \n",
    "LastSeen — дата последней активности пользователя     \n",
    " "
   ]
  },
  {
   "cell_type": "markdown",
   "metadata": {},
   "source": [
    "<div class=\"alert alert-block alert-success\">\n",
    "<b>Успех:</b> Загрузка и первичный осмотр проведены хорошо.\n",
    "</div>"
   ]
  },
  {
   "cell_type": "code",
   "execution_count": 4,
   "metadata": {},
   "outputs": [],
   "source": [
    "cars_data = car_data.drop(['DateCrawled', 'RegistrationMonth', 'DateCreated', 'NumberOfPictures', 'PostalCode', 'LastSeen'], axis='columns')"
   ]
  },
  {
   "cell_type": "markdown",
   "metadata": {},
   "source": [
    "<div class=\"alert alert-block alert-success\">\n",
    "<b>Успех:</b> Согласен, что даты, константный признак и индекс нам не нужны.\n",
    "</div>"
   ]
  },
  {
   "cell_type": "code",
   "execution_count": 5,
   "metadata": {},
   "outputs": [
    {
     "name": "stdout",
     "output_type": "stream",
     "text": [
      "<class 'pandas.core.frame.DataFrame'>\n",
      "RangeIndex: 354369 entries, 0 to 354368\n",
      "Data columns (total 10 columns):\n",
      "Price               354369 non-null int64\n",
      "VehicleType         316879 non-null object\n",
      "RegistrationYear    354369 non-null int64\n",
      "Gearbox             334536 non-null object\n",
      "Power               354369 non-null int64\n",
      "Model               334664 non-null object\n",
      "Kilometer           354369 non-null int64\n",
      "FuelType            321474 non-null object\n",
      "Brand               354369 non-null object\n",
      "NotRepaired         283215 non-null object\n",
      "dtypes: int64(4), object(6)\n",
      "memory usage: 27.0+ MB\n"
     ]
    },
    {
     "data": {
      "text/plain": [
       "None"
      ]
     },
     "metadata": {},
     "output_type": "display_data"
    },
    {
     "data": {
      "text/html": [
       "<div>\n",
       "<style scoped>\n",
       "    .dataframe tbody tr th:only-of-type {\n",
       "        vertical-align: middle;\n",
       "    }\n",
       "\n",
       "    .dataframe tbody tr th {\n",
       "        vertical-align: top;\n",
       "    }\n",
       "\n",
       "    .dataframe thead th {\n",
       "        text-align: right;\n",
       "    }\n",
       "</style>\n",
       "<table border=\"1\" class=\"dataframe\">\n",
       "  <thead>\n",
       "    <tr style=\"text-align: right;\">\n",
       "      <th></th>\n",
       "      <th>Price</th>\n",
       "      <th>VehicleType</th>\n",
       "      <th>RegistrationYear</th>\n",
       "      <th>Gearbox</th>\n",
       "      <th>Power</th>\n",
       "      <th>Model</th>\n",
       "      <th>Kilometer</th>\n",
       "      <th>FuelType</th>\n",
       "      <th>Brand</th>\n",
       "      <th>NotRepaired</th>\n",
       "    </tr>\n",
       "  </thead>\n",
       "  <tbody>\n",
       "    <tr>\n",
       "      <td>0</td>\n",
       "      <td>480</td>\n",
       "      <td>NaN</td>\n",
       "      <td>1993</td>\n",
       "      <td>manual</td>\n",
       "      <td>0</td>\n",
       "      <td>golf</td>\n",
       "      <td>150000</td>\n",
       "      <td>petrol</td>\n",
       "      <td>volkswagen</td>\n",
       "      <td>NaN</td>\n",
       "    </tr>\n",
       "    <tr>\n",
       "      <td>1</td>\n",
       "      <td>18300</td>\n",
       "      <td>coupe</td>\n",
       "      <td>2011</td>\n",
       "      <td>manual</td>\n",
       "      <td>190</td>\n",
       "      <td>NaN</td>\n",
       "      <td>125000</td>\n",
       "      <td>gasoline</td>\n",
       "      <td>audi</td>\n",
       "      <td>yes</td>\n",
       "    </tr>\n",
       "    <tr>\n",
       "      <td>2</td>\n",
       "      <td>9800</td>\n",
       "      <td>suv</td>\n",
       "      <td>2004</td>\n",
       "      <td>auto</td>\n",
       "      <td>163</td>\n",
       "      <td>grand</td>\n",
       "      <td>125000</td>\n",
       "      <td>gasoline</td>\n",
       "      <td>jeep</td>\n",
       "      <td>NaN</td>\n",
       "    </tr>\n",
       "    <tr>\n",
       "      <td>3</td>\n",
       "      <td>1500</td>\n",
       "      <td>small</td>\n",
       "      <td>2001</td>\n",
       "      <td>manual</td>\n",
       "      <td>75</td>\n",
       "      <td>golf</td>\n",
       "      <td>150000</td>\n",
       "      <td>petrol</td>\n",
       "      <td>volkswagen</td>\n",
       "      <td>no</td>\n",
       "    </tr>\n",
       "    <tr>\n",
       "      <td>4</td>\n",
       "      <td>3600</td>\n",
       "      <td>small</td>\n",
       "      <td>2008</td>\n",
       "      <td>manual</td>\n",
       "      <td>69</td>\n",
       "      <td>fabia</td>\n",
       "      <td>90000</td>\n",
       "      <td>gasoline</td>\n",
       "      <td>skoda</td>\n",
       "      <td>no</td>\n",
       "    </tr>\n",
       "  </tbody>\n",
       "</table>\n",
       "</div>"
      ],
      "text/plain": [
       "   Price VehicleType  RegistrationYear Gearbox  Power  Model  Kilometer  \\\n",
       "0    480         NaN              1993  manual      0   golf     150000   \n",
       "1  18300       coupe              2011  manual    190    NaN     125000   \n",
       "2   9800         suv              2004    auto    163  grand     125000   \n",
       "3   1500       small              2001  manual     75   golf     150000   \n",
       "4   3600       small              2008  manual     69  fabia      90000   \n",
       "\n",
       "   FuelType       Brand NotRepaired  \n",
       "0    petrol  volkswagen         NaN  \n",
       "1  gasoline        audi         yes  \n",
       "2  gasoline        jeep         NaN  \n",
       "3    petrol  volkswagen          no  \n",
       "4  gasoline       skoda          no  "
      ]
     },
     "execution_count": 5,
     "metadata": {},
     "output_type": "execute_result"
    }
   ],
   "source": [
    "display(cars_data.info())\n",
    "cars_data.head()"
   ]
  },
  {
   "cell_type": "markdown",
   "metadata": {},
   "source": [
    "Пропуски есть в столбцах VehicleType, Gearbox, Model, FuelType, NotRepaired. Заменим NaN-ы нетипичным значением unk - модель воспримет их как отдельную категорию."
   ]
  },
  {
   "cell_type": "code",
   "execution_count": 6,
   "metadata": {},
   "outputs": [
    {
     "data": {
      "text/html": [
       "<div>\n",
       "<style scoped>\n",
       "    .dataframe tbody tr th:only-of-type {\n",
       "        vertical-align: middle;\n",
       "    }\n",
       "\n",
       "    .dataframe tbody tr th {\n",
       "        vertical-align: top;\n",
       "    }\n",
       "\n",
       "    .dataframe thead th {\n",
       "        text-align: right;\n",
       "    }\n",
       "</style>\n",
       "<table border=\"1\" class=\"dataframe\">\n",
       "  <thead>\n",
       "    <tr style=\"text-align: right;\">\n",
       "      <th></th>\n",
       "      <th>Price</th>\n",
       "      <th>VehicleType</th>\n",
       "      <th>RegistrationYear</th>\n",
       "      <th>Gearbox</th>\n",
       "      <th>Power</th>\n",
       "      <th>Model</th>\n",
       "      <th>Kilometer</th>\n",
       "      <th>FuelType</th>\n",
       "      <th>Brand</th>\n",
       "      <th>NotRepaired</th>\n",
       "    </tr>\n",
       "  </thead>\n",
       "  <tbody>\n",
       "    <tr>\n",
       "      <td>0</td>\n",
       "      <td>480</td>\n",
       "      <td>unk</td>\n",
       "      <td>1993</td>\n",
       "      <td>manual</td>\n",
       "      <td>0</td>\n",
       "      <td>golf</td>\n",
       "      <td>150000</td>\n",
       "      <td>petrol</td>\n",
       "      <td>volkswagen</td>\n",
       "      <td>unk</td>\n",
       "    </tr>\n",
       "    <tr>\n",
       "      <td>1</td>\n",
       "      <td>18300</td>\n",
       "      <td>coupe</td>\n",
       "      <td>2011</td>\n",
       "      <td>manual</td>\n",
       "      <td>190</td>\n",
       "      <td>unk</td>\n",
       "      <td>125000</td>\n",
       "      <td>gasoline</td>\n",
       "      <td>audi</td>\n",
       "      <td>yes</td>\n",
       "    </tr>\n",
       "    <tr>\n",
       "      <td>2</td>\n",
       "      <td>9800</td>\n",
       "      <td>suv</td>\n",
       "      <td>2004</td>\n",
       "      <td>auto</td>\n",
       "      <td>163</td>\n",
       "      <td>grand</td>\n",
       "      <td>125000</td>\n",
       "      <td>gasoline</td>\n",
       "      <td>jeep</td>\n",
       "      <td>unk</td>\n",
       "    </tr>\n",
       "    <tr>\n",
       "      <td>3</td>\n",
       "      <td>1500</td>\n",
       "      <td>small</td>\n",
       "      <td>2001</td>\n",
       "      <td>manual</td>\n",
       "      <td>75</td>\n",
       "      <td>golf</td>\n",
       "      <td>150000</td>\n",
       "      <td>petrol</td>\n",
       "      <td>volkswagen</td>\n",
       "      <td>no</td>\n",
       "    </tr>\n",
       "    <tr>\n",
       "      <td>4</td>\n",
       "      <td>3600</td>\n",
       "      <td>small</td>\n",
       "      <td>2008</td>\n",
       "      <td>manual</td>\n",
       "      <td>69</td>\n",
       "      <td>fabia</td>\n",
       "      <td>90000</td>\n",
       "      <td>gasoline</td>\n",
       "      <td>skoda</td>\n",
       "      <td>no</td>\n",
       "    </tr>\n",
       "  </tbody>\n",
       "</table>\n",
       "</div>"
      ],
      "text/plain": [
       "   Price VehicleType  RegistrationYear Gearbox  Power  Model  Kilometer  \\\n",
       "0    480         unk              1993  manual      0   golf     150000   \n",
       "1  18300       coupe              2011  manual    190    unk     125000   \n",
       "2   9800         suv              2004    auto    163  grand     125000   \n",
       "3   1500       small              2001  manual     75   golf     150000   \n",
       "4   3600       small              2008  manual     69  fabia      90000   \n",
       "\n",
       "   FuelType       Brand NotRepaired  \n",
       "0    petrol  volkswagen         unk  \n",
       "1  gasoline        audi         yes  \n",
       "2  gasoline        jeep         unk  \n",
       "3    petrol  volkswagen          no  \n",
       "4  gasoline       skoda          no  "
      ]
     },
     "execution_count": 6,
     "metadata": {},
     "output_type": "execute_result"
    }
   ],
   "source": [
    "cars_data.fillna(value='unk', inplace=True)\n",
    "cars_data.head()\n"
   ]
  },
  {
   "cell_type": "markdown",
   "metadata": {},
   "source": [
    "<div class=\"alert alert-block alert-success\">\n",
    "<b>Успех:</b> Заполнить пропуски таким образом – хорошее решение в данном случае.\n",
    "</div>"
   ]
  },
  {
   "cell_type": "markdown",
   "metadata": {},
   "source": [
    "Проверим датасет на наличие выбросов."
   ]
  },
  {
   "cell_type": "code",
   "execution_count": 7,
   "metadata": {},
   "outputs": [
    {
     "data": {
      "text/plain": [
       "<matplotlib.axes._subplots.AxesSubplot at 0x7f05177394d0>"
      ]
     },
     "execution_count": 7,
     "metadata": {},
     "output_type": "execute_result"
    },
    {
     "data": {
      "image/png": "[encoded data removed]",
      "text/plain": [
       "<Figure size 432x288 with 1 Axes>"
      ]
     },
     "metadata": {
      "needs_background": "light"
     },
     "output_type": "display_data"
    }
   ],
   "source": [
    "cars_data.boxplot()"
   ]
  },
  {
   "cell_type": "markdown",
   "metadata": {},
   "source": [
    "<div class=\"alert alert-block alert-info\">\n",
    "<b>Совет: </b> Для визуализации распределений лучше использовать гистограммы, так как на ящиках с усами не видно кружочек – это одна точка или сотни точек.\n",
    "</div>"
   ]
  },
  {
   "cell_type": "markdown",
   "metadata": {},
   "source": [
    "Пробег и цену трогать не будем - здесь значения могут быть самыми разными. А вот выбросы в столбцах RegistrationYear и Power интересны - например, мощностью больше 1000 лошадиных сил могут похвастаться только спротивные автомобили, а год регистрации не может быть больше 2020 и меньше 1931, когда был зарегистрирован первый автомобиль."
   ]
  },
  {
   "cell_type": "code",
   "execution_count": 8,
   "metadata": {},
   "outputs": [],
   "source": [
    "#предположим, что в датасете все же есть такие мощные автомобили\n",
    "cars_data = cars_data.query('RegistrationYear <= 2020 and RegistrationYear >= 1931 and Power <= 1200')"
   ]
  },
  {
   "cell_type": "markdown",
   "metadata": {},
   "source": [
    "<div class=\"alert alert-block alert-success\">\n",
    "<b>Успех:</b> Выбросы в дате и мощности обработаны верно.\n",
    "</div>"
   ]
  },
  {
   "cell_type": "markdown",
   "metadata": {},
   "source": [
    "<div class=\"alert alert-block alert-info\">\n",
    "<b>Совет: </b> Я бы еще удалил строки, в которых Price=0, скорее всего это ошибки.\n",
    "</div>"
   ]
  },
  {
   "cell_type": "code",
   "execution_count": 9,
   "metadata": {},
   "outputs": [
    {
     "data": {
      "text/plain": [
       "(353828, 10)"
      ]
     },
     "execution_count": 9,
     "metadata": {},
     "output_type": "execute_result"
    }
   ],
   "source": [
    "cars_data.shape"
   ]
  },
  {
   "cell_type": "markdown",
   "metadata": {},
   "source": [
    "## Анализ моделей"
   ]
  },
  {
   "cell_type": "markdown",
   "metadata": {},
   "source": [
    "\n",
    "Попробуем прямое кодирование, чтобы преобразовать категориальные признаки в численные."
   ]
  },
  {
   "cell_type": "code",
   "execution_count": 10,
   "metadata": {},
   "outputs": [],
   "source": [
    "cars_data_ohe = pd.get_dummies(cars_data, drop_first=True)"
   ]
  },
  {
   "cell_type": "markdown",
   "metadata": {},
   "source": [
    "Подготовим признаки и целевой признак, а затем разделим данные на обучающую и тестовую выборк"
   ]
  },
  {
   "cell_type": "code",
   "execution_count": 11,
   "metadata": {},
   "outputs": [],
   "source": [
    "#признаки для обучения модели линейной регрессии\n",
    "features_lr = cars_data_ohe.drop(['Price'], axis = 1)\n",
    "target_lr = cars_data_ohe['Price']"
   ]
  },
  {
   "cell_type": "markdown",
   "metadata": {},
   "source": [
    "Преобразуем столбцы с категориальными признаки в тип данных category"
   ]
  },
  {
   "cell_type": "code",
   "execution_count": 12,
   "metadata": {},
   "outputs": [],
   "source": [
    "categorical = ['VehicleType', 'Gearbox', 'Model', 'FuelType', 'Brand', 'NotRepaired']"
   ]
  },
  {
   "cell_type": "code",
   "execution_count": 13,
   "metadata": {},
   "outputs": [],
   "source": [
    "for col in categorical:\n",
    "    cars_data[col] = cars_data[col].astype('category')"
   ]
  },
  {
   "cell_type": "code",
   "execution_count": 14,
   "metadata": {},
   "outputs": [],
   "source": [
    "#признаки для обучения моделей CBR и LGBM\n",
    "features = cars_data.drop(['Price'], axis = 1)\n",
    "target = cars_data['Price']"
   ]
  },
  {
   "cell_type": "code",
   "execution_count": 15,
   "metadata": {},
   "outputs": [],
   "source": [
    "features_train_lr, features_test_lr, target_train_lr, target_test_lr = train_test_split(features_lr, target_lr, test_size=.25, random_state=12345)"
   ]
  },
  {
   "cell_type": "code",
   "execution_count": 16,
   "metadata": {},
   "outputs": [],
   "source": [
    "features_train, features_test, target_train, target_test = train_test_split(features, target, test_size=.25, random_state=12345)"
   ]
  },
  {
   "cell_type": "markdown",
   "metadata": {},
   "source": [
    "<div class=\"alert alert-block alert-success\">\n",
    "<b>Успех:</b> Кодировка и разбиение были сделаны верно.\n",
    "</div>"
   ]
  },
  {
   "cell_type": "code",
   "execution_count": 17,
   "metadata": {},
   "outputs": [],
   "source": [
    "#напишем формулу для получения значения метрики RMSE\n",
    "def rmse (target, predictions):\n",
    "    mse = mean_squared_error(target, predictions)\n",
    "    rmse = mse ** 0.5\n",
    "    return rmse"
   ]
  },
  {
   "cell_type": "markdown",
   "metadata": {},
   "source": [
    "__Обучим и проанализируем время работы и качество моделей__"
   ]
  },
  {
   "cell_type": "markdown",
   "metadata": {},
   "source": [
    "# LinearRegression"
   ]
  },
  {
   "cell_type": "code",
   "execution_count": 18,
   "metadata": {},
   "outputs": [],
   "source": [
    "lr_model = LinearRegression()"
   ]
  },
  {
   "cell_type": "code",
   "execution_count": 20,
   "metadata": {},
   "outputs": [
    {
     "name": "stdout",
     "output_type": "stream",
     "text": [
      "CPU times: user 21.2 s, sys: 5.6 s, total: 26.8 s\n",
      "Wall time: 26.8 s\n"
     ]
    },
    {
     "data": {
      "text/plain": [
       "LinearRegression(copy_X=True, fit_intercept=True, n_jobs=None, normalize=False)"
      ]
     },
     "execution_count": 20,
     "metadata": {},
     "output_type": "execute_result"
    }
   ],
   "source": [
    "%%time\n",
    "lr_model.fit(features_train_lr, target_train_lr)"
   ]
  },
  {
   "cell_type": "code",
   "execution_count": 21,
   "metadata": {},
   "outputs": [
    {
     "name": "stdout",
     "output_type": "stream",
     "text": [
      "CPU times: user 112 ms, sys: 150 ms, total: 262 ms\n",
      "Wall time: 226 ms\n"
     ]
    }
   ],
   "source": [
    "%%time\n",
    "predicted_lr = pd.Series(lr_model.predict(features_test_lr))"
   ]
  },
  {
   "cell_type": "code",
   "execution_count": 22,
   "metadata": {},
   "outputs": [
    {
     "data": {
      "text/plain": [
       "2786.7709799955005"
      ]
     },
     "execution_count": 22,
     "metadata": {},
     "output_type": "execute_result"
    }
   ],
   "source": [
    "rmse(target_test_lr, predicted_lr)"
   ]
  },
  {
   "cell_type": "markdown",
   "metadata": {},
   "source": [
    "# CatBoostRegressor"
   ]
  },
  {
   "cell_type": "code",
   "execution_count": 23,
   "metadata": {},
   "outputs": [
    {
     "name": "stdout",
     "output_type": "stream",
     "text": [
      "0:\tlearn: 4402.2802324\ttotal: 350ms\tremaining: 3.15s\n",
      "9:\tlearn: 3706.9180528\ttotal: 3.33s\tremaining: 0us\n",
      "0:\tlearn: 4431.0023641\ttotal: 290ms\tremaining: 2.61s\n",
      "9:\tlearn: 3732.5483001\ttotal: 3.28s\tremaining: 0us\n",
      "Score при iterations = 10 : [0.31996929 0.31827532]\n",
      "Score mean = 0.3191223044585284\n",
      "\n",
      "0:\tlearn: 4402.2802324\ttotal: 227ms\tremaining: 7.72s\n",
      "10:\tlearn: 3642.9599504\ttotal: 3.52s\tremaining: 7.68s\n",
      "20:\tlearn: 3121.5851039\ttotal: 6.81s\tremaining: 4.54s\n",
      "30:\tlearn: 2773.2330590\ttotal: 9.91s\tremaining: 1.28s\n",
      "34:\tlearn: 2663.9384032\ttotal: 11.2s\tremaining: 0us\n",
      "0:\tlearn: 4431.0023641\ttotal: 286ms\tremaining: 9.73s\n",
      "10:\tlearn: 3668.0902962\ttotal: 3.58s\tremaining: 7.8s\n",
      "20:\tlearn: 3144.0813061\ttotal: 6.77s\tremaining: 4.51s\n",
      "30:\tlearn: 2789.9046888\ttotal: 9.97s\tremaining: 1.29s\n",
      "34:\tlearn: 2680.6278170\ttotal: 11.3s\tremaining: 0us\n",
      "Score при iterations = 35 : [0.64837818 0.64660727]\n",
      "Score mean = 0.647492725934678\n",
      "\n",
      "0:\tlearn: 4402.2802324\ttotal: 279ms\tremaining: 16.5s\n",
      "10:\tlearn: 3642.9599504\ttotal: 3.67s\tremaining: 16.4s\n",
      "20:\tlearn: 3121.5851039\ttotal: 6.88s\tremaining: 12.8s\n",
      "30:\tlearn: 2773.2330590\ttotal: 10.1s\tremaining: 9.41s\n",
      "40:\tlearn: 2518.2162724\ttotal: 13.2s\tremaining: 6.09s\n",
      "50:\tlearn: 2341.7263281\ttotal: 16.2s\tremaining: 2.87s\n",
      "59:\tlearn: 2226.2669274\ttotal: 18.9s\tremaining: 0us\n",
      "0:\tlearn: 4431.0023641\ttotal: 247ms\tremaining: 14.6s\n",
      "10:\tlearn: 3668.0902962\ttotal: 3.44s\tremaining: 15.3s\n",
      "20:\tlearn: 3144.0813061\ttotal: 6.64s\tremaining: 12.3s\n",
      "30:\tlearn: 2789.9046888\ttotal: 9.83s\tremaining: 9.19s\n",
      "40:\tlearn: 2533.8303773\ttotal: 12.9s\tremaining: 5.99s\n",
      "50:\tlearn: 2355.8135883\ttotal: 16.1s\tremaining: 2.84s\n",
      "59:\tlearn: 2247.2458048\ttotal: 18.9s\tremaining: 0us\n",
      "Score при iterations = 60 : [0.75301137 0.75025591]\n",
      "Score mean = 0.7516336424522324\n",
      "\n",
      "0:\tlearn: 4402.2802324\ttotal: 269ms\tremaining: 22.6s\n",
      "10:\tlearn: 3642.9599504\ttotal: 3.56s\tremaining: 24s\n",
      "20:\tlearn: 3121.5851039\ttotal: 6.66s\tremaining: 20.3s\n",
      "30:\tlearn: 2773.2330590\ttotal: 9.95s\tremaining: 17.3s\n",
      "40:\tlearn: 2518.2162724\ttotal: 13.1s\tremaining: 14.1s\n",
      "50:\tlearn: 2341.7263281\ttotal: 16.2s\tremaining: 10.8s\n",
      "60:\tlearn: 2214.9388395\ttotal: 19.4s\tremaining: 7.65s\n",
      "70:\tlearn: 2124.4845483\ttotal: 22.6s\tremaining: 4.46s\n",
      "80:\tlearn: 2051.2979490\ttotal: 25.8s\tremaining: 1.27s\n",
      "84:\tlearn: 2029.2168163\ttotal: 27.1s\tremaining: 0us\n",
      "0:\tlearn: 4431.0023641\ttotal: 290ms\tremaining: 24.4s\n",
      "10:\tlearn: 3668.0902962\ttotal: 3.48s\tremaining: 23.4s\n",
      "20:\tlearn: 3144.0813061\ttotal: 6.58s\tremaining: 20s\n",
      "30:\tlearn: 2789.9046888\ttotal: 9.77s\tremaining: 17s\n",
      "40:\tlearn: 2533.8303773\ttotal: 13s\tremaining: 13.9s\n",
      "50:\tlearn: 2355.8135883\ttotal: 16.1s\tremaining: 10.7s\n",
      "60:\tlearn: 2237.7506063\ttotal: 19.2s\tremaining: 7.57s\n",
      "70:\tlearn: 2144.8281948\ttotal: 22.4s\tremaining: 4.42s\n",
      "80:\tlearn: 2076.9100653\ttotal: 25.6s\tremaining: 1.27s\n",
      "84:\tlearn: 2053.5973681\ttotal: 26.9s\tremaining: 0us\n",
      "Score при iterations = 85 : [0.79256624 0.79038255]\n",
      "Score mean = 0.7914743932666477\n",
      "\n",
      "0:\tlearn: 4402.2802324\ttotal: 309ms\tremaining: 33.7s\n",
      "10:\tlearn: 3642.9599504\ttotal: 3.6s\tremaining: 32.4s\n",
      "20:\tlearn: 3121.5851039\ttotal: 6.8s\tremaining: 28.8s\n",
      "30:\tlearn: 2773.2330590\ttotal: 9.99s\tremaining: 25.5s\n",
      "40:\tlearn: 2518.2162724\ttotal: 13.2s\tremaining: 22.2s\n",
      "50:\tlearn: 2341.7263281\ttotal: 16.4s\tremaining: 18.9s\n",
      "60:\tlearn: 2214.9388395\ttotal: 19.6s\tremaining: 15.7s\n",
      "70:\tlearn: 2124.4845483\ttotal: 22.7s\tremaining: 12.4s\n",
      "80:\tlearn: 2051.2979490\ttotal: 25.8s\tremaining: 9.22s\n",
      "90:\tlearn: 2003.1062974\ttotal: 28.9s\tremaining: 6.04s\n",
      "100:\tlearn: 1967.4646873\ttotal: 32.1s\tremaining: 2.86s\n",
      "109:\tlearn: 1943.4858354\ttotal: 35s\tremaining: 0us\n",
      "0:\tlearn: 4431.0023641\ttotal: 275ms\tremaining: 30s\n",
      "10:\tlearn: 3668.0902962\ttotal: 3.57s\tremaining: 32.1s\n",
      "20:\tlearn: 3144.0813061\ttotal: 6.76s\tremaining: 28.7s\n",
      "30:\tlearn: 2789.9046888\ttotal: 10.1s\tremaining: 25.6s\n",
      "40:\tlearn: 2533.8303773\ttotal: 13.1s\tremaining: 22.1s\n",
      "50:\tlearn: 2355.8135883\ttotal: 16.2s\tremaining: 18.8s\n",
      "60:\tlearn: 2237.7506063\ttotal: 19.4s\tremaining: 15.6s\n",
      "70:\tlearn: 2144.8281948\ttotal: 22.6s\tremaining: 12.4s\n",
      "80:\tlearn: 2076.9100653\ttotal: 25.8s\tremaining: 9.24s\n",
      "90:\tlearn: 2025.0190940\ttotal: 29s\tremaining: 6.06s\n",
      "100:\tlearn: 1988.7128867\ttotal: 32.1s\tremaining: 2.86s\n",
      "109:\tlearn: 1964.0139552\ttotal: 35s\tremaining: 0us\n",
      "Score при iterations = 110 : [0.80765082 0.80714325]\n",
      "Score mean = 0.8073970359228566\n",
      "\n"
     ]
    }
   ],
   "source": [
    "#построим модель CBR и исследуем её работу с различными значениями гиперпараметра iterations с помощью кросс-валидации\n",
    "for iteration in range(10, 111, 25):\n",
    "    cat_model = CatBoostRegressor(loss_function=\"RMSE\", iterations=iteration, depth=10, verbose=10, cat_features=categorical)\n",
    "    cat_cv = cross_val_score(cat_model, features_train, target_train, cv=2)\n",
    "    print(\"Score при iterations =\", iteration, \":\", cat_cv)\n",
    "    print(\"Score mean =\", sum(cat_cv)/len(cat_cv))\n",
    "    print()"
   ]
  },
  {
   "cell_type": "code",
   "execution_count": 24,
   "metadata": {},
   "outputs": [
    {
     "name": "stdout",
     "output_type": "stream",
     "text": [
      "0:\tlearn: 4416.5875559\ttotal: 180ms\tremaining: 3.42s\n",
      "10:\tlearn: 3752.7601409\ttotal: 2.07s\tremaining: 1.7s\n",
      "19:\tlearn: 3328.6877762\ttotal: 3.67s\tremaining: 0us\n",
      "0:\tlearn: 4444.2379532\ttotal: 62.8ms\tremaining: 1.19s\n",
      "10:\tlearn: 3776.3090329\ttotal: 2.04s\tremaining: 1.67s\n",
      "19:\tlearn: 3340.6146409\ttotal: 3.65s\tremaining: 0us\n",
      "Score при depth = 5 : [0.45251544 0.45299916]\n",
      "Score mean = 0.45275730031755945\n",
      "\n",
      "0:\tlearn: 4406.9675553\ttotal: 216ms\tremaining: 4.11s\n",
      "10:\tlearn: 3689.1461891\ttotal: 2.72s\tremaining: 2.22s\n",
      "19:\tlearn: 3240.4432253\ttotal: 4.91s\tremaining: 0us\n",
      "0:\tlearn: 4436.3507930\ttotal: 206ms\tremaining: 3.9s\n",
      "10:\tlearn: 3711.3209714\ttotal: 2.6s\tremaining: 2.12s\n",
      "19:\tlearn: 3256.6330508\ttotal: 4.69s\tremaining: 0us\n",
      "Score при depth = 7 : [0.48138363 0.48038876]\n",
      "Score mean = 0.48088619631565255\n",
      "\n",
      "0:\tlearn: 4403.7050902\ttotal: 275ms\tremaining: 5.22s\n",
      "10:\tlearn: 3657.2681588\ttotal: 3.37s\tremaining: 2.76s\n",
      "19:\tlearn: 3189.7753034\ttotal: 6.17s\tremaining: 0us\n",
      "0:\tlearn: 4432.5990579\ttotal: 267ms\tremaining: 5.08s\n",
      "10:\tlearn: 3681.1968875\ttotal: 3.36s\tremaining: 2.75s\n",
      "19:\tlearn: 3206.7086905\ttotal: 6.15s\tremaining: 0us\n",
      "Score при depth = 9 : [0.49707611 0.49587255]\n",
      "Score mean = 0.4964743268068264\n",
      "\n",
      "0:\tlearn: 4401.7213851\ttotal: 387ms\tremaining: 7.35s\n",
      "10:\tlearn: 3635.2908507\ttotal: 4.37s\tremaining: 3.58s\n",
      "19:\tlearn: 3151.8362994\ttotal: 7.86s\tremaining: 0us\n",
      "0:\tlearn: 4430.5989295\ttotal: 377ms\tremaining: 7.17s\n",
      "10:\tlearn: 3657.7002431\ttotal: 4.28s\tremaining: 3.5s\n",
      "19:\tlearn: 3171.7118679\ttotal: 7.77s\tremaining: 0us\n",
      "Score при depth = 11 : [0.5079235  0.50637464]\n",
      "Score mean = 0.5071490697819772\n",
      "\n",
      "0:\tlearn: 4399.2933683\ttotal: 777ms\tremaining: 14.8s\n",
      "10:\tlearn: 3621.3158063\ttotal: 7.07s\tremaining: 5.78s\n",
      "19:\tlearn: 3132.6299261\ttotal: 12.7s\tremaining: 0us\n",
      "0:\tlearn: 4428.9586211\ttotal: 549ms\tremaining: 10.4s\n",
      "10:\tlearn: 3640.1285834\ttotal: 6.64s\tremaining: 5.43s\n",
      "19:\tlearn: 3147.4383606\ttotal: 12.3s\tremaining: 0us\n",
      "Score при depth = 13 : [0.51251121 0.5129784 ]\n",
      "Score mean = 0.5127448031388124\n",
      "\n",
      "0:\tlearn: 4397.8859282\ttotal: 1.83s\tremaining: 34.8s\n",
      "10:\tlearn: 3607.6369113\ttotal: 15.4s\tremaining: 12.6s\n",
      "19:\tlearn: 3112.3280685\ttotal: 28.3s\tremaining: 0us\n",
      "0:\tlearn: 4427.7733073\ttotal: 1.42s\tremaining: 27s\n",
      "10:\tlearn: 3637.4836478\ttotal: 14.2s\tremaining: 11.6s\n",
      "19:\tlearn: 3138.0549773\ttotal: 26.8s\tremaining: 0us\n",
      "Score при depth = 15 : [0.51771287 0.51454775]\n",
      "Score mean = 0.5161303096070228\n",
      "\n"
     ]
    }
   ],
   "source": [
    "#исследуем работу модели с различными значениями гиперпараметра depth\n",
    "for depth in range(5, 16, 2):\n",
    "    cat_model = CatBoostRegressor(loss_function=\"RMSE\", iterations=20, depth=depth, verbose=10, cat_features=categorical)\n",
    "    cat_cv = cross_val_score(cat_model, features_train, target_train, cv=2)\n",
    "    print(\"Score при depth =\", depth, \":\", cat_cv)\n",
    "    print(\"Score mean =\", sum(cat_cv)/len(cat_cv))\n",
    "    print()"
   ]
  },
  {
   "cell_type": "markdown",
   "metadata": {},
   "source": [
    "<div class=\"alert alert-block alert-success\">\n",
    "<b>Успех:</b> Радует, что подбор параметров осуществлялся с помощью методов основанных на кросс-валидации.\n",
    "</div>"
   ]
  },
  {
   "cell_type": "markdown",
   "metadata": {},
   "source": [
    "<div class=\"alert alert-block alert-info\">\n",
    "<b>Совет: </b> Однако, в качестве метрики лучше указывать нашу целевую. Для этго в параметр scoring можно передать одну из готовых <a href=\"https://scikit-learn.org/stable/modules/model_evaluation.html#scoring-parameter\">отсюда</a>. Однако, R2 очень сильно коррелирует с RMSE, так что это комментарий синий.\n",
    "</div>"
   ]
  },
  {
   "cell_type": "markdown",
   "metadata": {},
   "source": [
    "При увеличении iterations модель сначала дает лучшую точность (в 2 раза), затем увеличение точности начинает снижаться, до тех пор, пока разница не становится совсем маленькой. Скорость обучения модели для нас важна так же, как и точность ее работы, поэтому не будем жертвовать скоростью и выберем оптимальный вариант с числом iterations 85."
   ]
  },
  {
   "cell_type": "markdown",
   "metadata": {},
   "source": [
    "При изменении параметра depth прослеживается такая же тенденция, поэтому оптимальной глубиной будет число 13."
   ]
  },
  {
   "cell_type": "markdown",
   "metadata": {},
   "source": [
    "Измерим время обучения и работы модели со значением iterations = 90 и depth = 11"
   ]
  },
  {
   "cell_type": "code",
   "execution_count": 25,
   "metadata": {},
   "outputs": [],
   "source": [
    "cat_model_90_11= CatBoostRegressor(loss_function=\"RMSE\", iterations=90, depth=11, verbose=10)"
   ]
  },
  {
   "cell_type": "code",
   "execution_count": 26,
   "metadata": {},
   "outputs": [
    {
     "name": "stdout",
     "output_type": "stream",
     "text": [
      "0:\tlearn: 4414.1443522\ttotal: 696ms\tremaining: 1m 1s\n",
      "10:\tlearn: 3640.2660736\ttotal: 7.07s\tremaining: 50.8s\n",
      "20:\tlearn: 3113.1019108\ttotal: 13.4s\tremaining: 43.9s\n",
      "30:\tlearn: 2757.6064213\ttotal: 19.7s\tremaining: 37.4s\n",
      "40:\tlearn: 2507.5453846\ttotal: 26s\tremaining: 31s\n",
      "50:\tlearn: 2322.1284447\ttotal: 32s\tremaining: 24.5s\n",
      "60:\tlearn: 2195.6551522\ttotal: 38.4s\tremaining: 18.3s\n",
      "70:\tlearn: 2104.5056862\ttotal: 44.6s\tremaining: 11.9s\n",
      "80:\tlearn: 2038.8988468\ttotal: 50.9s\tremaining: 5.66s\n",
      "89:\tlearn: 1990.5771005\ttotal: 56.6s\tremaining: 0us\n",
      "CPU times: user 52.4 s, sys: 4.97 s, total: 57.3 s\n",
      "Wall time: 58.5 s\n"
     ]
    },
    {
     "data": {
      "text/plain": [
       "<catboost.core.CatBoostRegressor at 0x7f0516ae2ad0>"
      ]
     },
     "execution_count": 26,
     "metadata": {},
     "output_type": "execute_result"
    }
   ],
   "source": [
    "%%time\n",
    "cat_model_90_11.fit(features_train, target_train, cat_features=categorical)"
   ]
  },
  {
   "cell_type": "code",
   "execution_count": 27,
   "metadata": {},
   "outputs": [
    {
     "name": "stdout",
     "output_type": "stream",
     "text": [
      "CPU times: user 172 ms, sys: 11.3 ms, total: 183 ms\n",
      "Wall time: 143 ms\n"
     ]
    }
   ],
   "source": [
    "%%time\n",
    "predicted_cat_90_11 = pd.Series(cat_model_90_11.predict(features_test))"
   ]
  },
  {
   "cell_type": "code",
   "execution_count": 28,
   "metadata": {},
   "outputs": [
    {
     "data": {
      "text/plain": [
       "1993.2263874940566"
      ]
     },
     "execution_count": 28,
     "metadata": {},
     "output_type": "execute_result"
    }
   ],
   "source": [
    "rmse(target_test, predicted_cat_90_11)"
   ]
  },
  {
   "cell_type": "markdown",
   "metadata": {},
   "source": [
    "# LightGBM"
   ]
  },
  {
   "cell_type": "code",
   "execution_count": 29,
   "metadata": {},
   "outputs": [],
   "source": [
    "params = {\n",
    "    'boosting_type': 'gbdt',\n",
    "    'objective': 'regression',\n",
    "    'metric': 'rmse',\n",
    "    'max_depth': 6, \n",
    "    'learning_rate': 0.1,\n",
    "    'verbose': 0\n",
    "}"
   ]
  },
  {
   "cell_type": "code",
   "execution_count": 30,
   "metadata": {},
   "outputs": [],
   "source": [
    "\n",
    "lgbm_model = LGBMRegressor(**params)"
   ]
  },
  {
   "cell_type": "code",
   "execution_count": 31,
   "metadata": {},
   "outputs": [
    {
     "name": "stdout",
     "output_type": "stream",
     "text": [
      "CPU times: user 8.51 s, sys: 0 ns, total: 8.51 s\n",
      "Wall time: 8.6 s\n"
     ]
    },
    {
     "data": {
      "text/plain": [
       "LGBMRegressor(boosting_type='gbdt', class_weight=None, colsample_bytree=1.0,\n",
       "              importance_type='split', learning_rate=0.1, max_depth=6,\n",
       "              metric='rmse', min_child_samples=20, min_child_weight=0.001,\n",
       "              min_split_gain=0.0, n_estimators=100, n_jobs=-1, num_leaves=31,\n",
       "              objective='regression', random_state=None, reg_alpha=0.0,\n",
       "              reg_lambda=0.0, silent=True, subsample=1.0,\n",
       "              subsample_for_bin=200000, subsample_freq=0, verbose=0)"
      ]
     },
     "execution_count": 31,
     "metadata": {},
     "output_type": "execute_result"
    }
   ],
   "source": [
    "%%time\n",
    "lgbm_model.fit(features_train, target_train)"
   ]
  },
  {
   "cell_type": "code",
   "execution_count": 32,
   "metadata": {},
   "outputs": [
    {
     "name": "stdout",
     "output_type": "stream",
     "text": [
      "CPU times: user 1.24 s, sys: 0 ns, total: 1.24 s\n",
      "Wall time: 1.29 s\n"
     ]
    }
   ],
   "source": [
    "%%time\n",
    "predictions_lgbm = lgbm_model.predict(features_test)"
   ]
  },
  {
   "cell_type": "code",
   "execution_count": 33,
   "metadata": {},
   "outputs": [
    {
     "data": {
      "text/plain": [
       "1772.6379449873602"
      ]
     },
     "execution_count": 33,
     "metadata": {},
     "output_type": "execute_result"
    }
   ],
   "source": [
    "rmse(target_test, predictions_lgbm)"
   ]
  },
  {
   "cell_type": "markdown",
   "metadata": {},
   "source": [
    "<div class=\"alert alert-block alert-success\">\n",
    "<b>Успех:</b> Отлично, что в случаях двух моделей выше использовались внутренние методы кодировка категорильаных признаков.\n",
    "</div>"
   ]
  },
  {
   "cell_type": "markdown",
   "metadata": {},
   "source": [
    "<div class=\"alert alert-block alert-success\">\n",
    "<b>Успех:</b> Молодец, что поробовал несколько разных моделей и не забыл про подбор парамтеров.\n",
    "</div>"
   ]
  },
  {
   "cell_type": "markdown",
   "metadata": {},
   "source": [
    "# Сравним результаты.\n",
    "\n"
   ]
  },
  {
   "cell_type": "code",
   "execution_count": 34,
   "metadata": {},
   "outputs": [
    {
     "data": {
      "text/html": [
       "<div>\n",
       "<style scoped>\n",
       "    .dataframe tbody tr th:only-of-type {\n",
       "        vertical-align: middle;\n",
       "    }\n",
       "\n",
       "    .dataframe tbody tr th {\n",
       "        vertical-align: top;\n",
       "    }\n",
       "\n",
       "    .dataframe thead th {\n",
       "        text-align: right;\n",
       "    }\n",
       "</style>\n",
       "<table border=\"1\" class=\"dataframe\">\n",
       "  <thead>\n",
       "    <tr style=\"text-align: right;\">\n",
       "      <th></th>\n",
       "      <th>model</th>\n",
       "      <th>train_time, sec</th>\n",
       "      <th>work_time, msec</th>\n",
       "      <th>rmse</th>\n",
       "    </tr>\n",
       "  </thead>\n",
       "  <tbody>\n",
       "    <tr>\n",
       "      <td>0</td>\n",
       "      <td>LR</td>\n",
       "      <td>33.2</td>\n",
       "      <td>273.0</td>\n",
       "      <td>2787</td>\n",
       "    </tr>\n",
       "    <tr>\n",
       "      <td>1</td>\n",
       "      <td>CBR</td>\n",
       "      <td>62.0</td>\n",
       "      <td>244.0</td>\n",
       "      <td>1993</td>\n",
       "    </tr>\n",
       "    <tr>\n",
       "      <td>2</td>\n",
       "      <td>LGB</td>\n",
       "      <td>201.0</td>\n",
       "      <td>1220.0</td>\n",
       "      <td>1773</td>\n",
       "    </tr>\n",
       "  </tbody>\n",
       "</table>\n",
       "</div>"
      ],
      "text/plain": [
       "  model  train_time, sec  work_time, msec  rmse\n",
       "0    LR             33.2            273.0  2787\n",
       "1   CBR             62.0            244.0  1993\n",
       "2   LGB            201.0           1220.0  1773"
      ]
     },
     "execution_count": 34,
     "metadata": {},
     "output_type": "execute_result"
    }
   ],
   "source": [
    "models = [['LR', 33.2, 273, 2787], ['CBR', 62, 244, 1993], \n",
    "       ['LGB', 3*60+21, 1.22*1000, 1773]] \n",
    "    \n",
    "df = pd.DataFrame(models, columns =['model', 'train_time, sec', 'work_time, msec', 'rmse']) \n",
    "df"
   ]
  },
  {
   "cell_type": "markdown",
   "metadata": {},
   "source": [
    "<div class=\"alert alert-block alert-success\">\n",
    "<b>Успех:</b> Отлично, что ты отдельно замерил время и собрал все показатели в однйо таблице.\n",
    "</div>"
   ]
  },
  {
   "cell_type": "markdown",
   "metadata": {},
   "source": [
    "# Вывод"
   ]
  },
  {
   "cell_type": "markdown",
   "metadata": {},
   "source": [
    "Все модели градиентного бустинга(catboost, lightgbm) из коробки показывают относительно хорошие результаты, чего не скажешь про линейную регрессию.\n",
    "Время предсказания любой модели значительно меньше, чем её обучение. Важно, чтобы время предсказания было как можно меньше - обучаем модель мы только один раз, но предсказывать она может до бесконечности.\n",
    "\n",
    "Метрика RMSE лучше всего выглядит у модели LGB, но время ее работы слишком долгое. Быстрее всего обучается модель линейной регресии, но ее точность оставляет желать лучшего. У модели CatBoostRegressor небольшое время обучения/работы и приемлемая точность. Эту модель можно посоветовать сервису как прототип."
   ]
  },
  {
   "cell_type": "markdown",
   "metadata": {},
   "source": [
    "<div class=\"alert alert-block alert-success\">\n",
    "<b>Успех:</b> Сравнение проведено хорошо. Радует, что при выборе модели ты учитывал все показатели.\n",
    "</div>"
   ]
  },
  {
   "cell_type": "markdown",
   "metadata": {},
   "source": [
    "## Чек-лист проверки"
   ]
  },
  {
   "cell_type": "markdown",
   "metadata": {},
   "source": [
    "Поставьте 'x' в выполненных пунктах. Далее нажмите Shift+Enter."
   ]
  },
  {
   "cell_type": "markdown",
   "metadata": {},
   "source": [
    "- [x]  Jupyter Notebook открыт\n",
    "- [x ]  Весь код выполняется без ошибок\n",
    "- [x ]  Ячейки с кодом расположены в порядке исполнения\n",
    "- [x ]  Выполнена загрузка и подготовка данных\n",
    "- [x ]  Выполнено обучение моделей\n",
    "- [x ]  Есть анализ скорости работы и качества моделей"
   ]
  },
  {
   "cell_type": "code",
   "execution_count": null,
   "metadata": {},
   "outputs": [],
   "source": []
  }
 ],
 "metadata": {
  "kernelspec": {
   "display_name": "Python 3",
   "language": "python",
   "name": "python3"
  },
  "language_info": {
   "codemirror_mode": {
    "name": "ipython",
    "version": 3
   },
   "file_extension": ".py",
   "mimetype": "text/x-python",
   "name": "python",
   "nbconvert_exporter": "python",
   "pygments_lexer": "ipython3",
   "version": "3.7.8"
  },
  "toc": {
   "base_numbering": 1,
   "nav_menu": {},
   "number_sections": true,
   "sideBar": true,
   "skip_h1_title": true,
   "title_cell": "Table of Contents",
   "title_sidebar": "Contents",
   "toc_cell": false,
   "toc_position": {},
   "toc_section_display": true,
   "toc_window_display": false
  }
 },
 "nbformat": 4,
 "nbformat_minor": 2
}
