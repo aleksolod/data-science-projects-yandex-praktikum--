{
 "cells": [
  {
   "cell_type": "markdown",
   "metadata": {},
   "source": [
    "<div style=\"border:solid black 2px; padding: 20px\">\n",
    "<b>Алексей, привет!</b>\n",
    "\n",
    "Меня зовут Полина Бережная, и я буду делать ревью проекта по обучению с учителем. Давай будем общаться на «ты». Но если тебе комфортнее на «вы», обязательно сообщи мне об этом. \n",
    "\n",
    "Мне было очень приятно проверять твой проект, так как чувствуется твое старание и желание сделать задание на достойном уровне. Однако есть несколько моментов, которые требуют твоего внимания и доработки.\n",
    "    \n",
    "    \n",
    " \n",
    "\n",
    "В тетрадке ты можешь встретить 4 вида моих комментариев:\n",
    "- <div class=\"alert alert-danger\">\n",
    "  <h3>Комментарий ревьюера</h3> Такой нюанс требует обязательной доработки, иначе проект не будет принят.\n",
    "  </div>\n",
    "    \n",
    "    \n",
    "- <div class=\"alert alert-warning\">\n",
    "  <h3>Комментарий ревьюера</h3> Так выделены не обязательные к доработке моменты. Mожешь учесть их при редактировании проекта и выполнении будущих заданий. На твое усмотрение.\n",
    "  </div>\n",
    "    \n",
    "    \n",
    "- <div class=\"alert alert-success\">\n",
    "  <h3>Комментарий ревьюера</h3> Так отмечены удачные решения и подходы, на которые стоит опираться в будущих проектах.\n",
    "  </div>\n",
    "    \n",
    "    \n",
    "- <div style=\"border:solid black 2px; padding: 20px\">\n",
    "  <h3>Чек-лист доработок</h3> Такой комментарий будет находиться в конце тетрадки. В нем будут еще раз указаны нюансы, требующие обязательной корректировки.\n",
    "  </div>\n",
    "\n",
    "Предлагаю работать над проектом в форме диалога: если ты **что-то меняешь** в работе по моим рекомендациям — **пиши об этом** и помечай комментарий каким-то заметным цветом.\n",
    "    \n",
    "Пожалуйста, **не перемещай, не изменяй и не удаляй мои комментарии**. Такой формат работы поможет выполнить повторную проверку твоего проекта оперативнее.\n",
    "    \n",
    "Не переживай, если что-то не получилось сделать идеально с первого раза. Основная цель нашей команды - не найти ошибки, а поделиться своим опытом и помочь тебе стать профи в Data Science 🙂\n",
    "    \n",
    "   \n",
    "Жду твой проект на повторное ревью, ты уже почти на финише!\n",
    "\n",
    "</div>"
   ]
  },
  {
   "cell_type": "markdown",
   "metadata": {},
   "source": [
    "   <div class=\"alert alert-success\">\n",
    "  <h3>Комментарий студента</h3> Добрый день Полина!На ты, вполне комфортно. Так я буду помечать мои исправления.Спасибо за оценку и рекомендации-Поехали!\n",
    "  </div>"
   ]
  },
  {
   "cell_type": "markdown",
   "metadata": {},
   "source": [
    " <div class=\"alert alert-success\">\n",
    "  <h3>Комментарий студента по чек листу(Вынес наверх для твоего удобства)</h3>     \n",
    "1. Подумать еще раз над процедурой замены пропусков.- Сделано \n",
    "    \n",
    "2.Удалить неинформативные переменные.-Сделано  \n",
    "    \n",
    "3. Подкорректировать логику подбора гиперпараметров.  -Не понял с наскока\n",
    "    \n",
    "4. Рассмотреть еще хотя бы один способ балансировки классов -Downsampling- прошу проверки\n",
    "5.(от себя) Очень интересно про тестирование, но не совсем понял     \n",
    "<div>\n",
    "    Дополнительно: \n",
    "  Добавлен параметр solver='liblinear' в теле функции LogisticRegression( ),не уверен что разобрался с  stratify посмотри пожалуйста."
   ]
  },
  {
   "cell_type": "markdown",
   "metadata": {},
   "source": [
    "<div style=\"border:solid black 2px; padding: 20px\">\n",
    "<b>Алексей, привет еще раз!</b>\n",
    "    \n",
    "Посмотри, пожалуйста, комментарии v2 🙂"
   ]
  },
  {
   "cell_type": "markdown",
   "metadata": {},
   "source": [
    "<div class=\"alert alert-success\">\n",
    "  <h3>Комментарий студента по чек листу v2</h3>Полина,я прошу прощения за свою тупость. В рабочие дни совсем не получается уделять достаточно времени программированию.  Переделал целиком раздел два и три, но теперь и оформление работы и комментарии поплыли. F1 пол\n",
    "  </div>"
   ]
  },
  {
   "cell_type": "markdown",
   "metadata": {},
   "source": [
    "<div style=\"border:solid black 2px; padding: 20px\">\n",
    "<b>Алексей, привет еще раз!</b>\n",
    "    \n",
    "Похоже не все твои комментарии сохранились: выше оборван в конце работы пуст. Пропиши, пожалуйста, еще раз все интересующие моменты :)\n",
    "    \n",
    "У нас также осталась небольшая доработка."
   ]
  },
  {
   "cell_type": "markdown",
   "metadata": {},
   "source": [
    "<div class=\"alert alert-success\">\n",
    "  <h3>Комментарий студента по чек листу v3</h3>Полина, доброго времени суток.Спасибо тебе за терпение. Подбор гиперпарметров,надеюсь, завершен и добавлена метрика качества классфикации и  roc кривая.\n",
    "  </div>"
   ]
  },
  {
   "cell_type": "markdown",
   "metadata": {},
   "source": [
    " # Описание проекта \"Отток клиентов\""
   ]
  },
  {
   "cell_type": "markdown",
   "metadata": {},
   "source": [
    "Из «Бета-Банка» стали уходить клиенты. Каждый месяц. Немного, но заметно. Банковские маркетологи посчитали: сохранять текущих клиентов дешевле, чем привлекать новых.\n",
    "\n",
    "Нужно спрогнозировать, уйдёт клиент из банка в ближайшее время или нет. Вам предоставлены исторические данные о поведении клиентов и расторжении договоров с банком. \n",
    "\n",
    "Постройте модель с предельно большим значением *F1*-меры. Чтобы сдать проект успешно, нужно довести метрику до 0.59. Проверьте *F1*-меру на тестовой выборке самостоятельно.\n",
    "\n",
    "Дополнительно измеряйте *AUC-ROC*, сравнивайте её значение с *F1*-мерой.\n",
    "\n",
    "Источник данных: [https://www.kaggle.com/barelydedicated/bank-customer-churn-modeling](https://www.kaggle.com/barelydedicated/bank-customer-churn-modeling)"
   ]
  },
  {
   "cell_type": "markdown",
   "metadata": {},
   "source": [
    "__Признаки__   \n",
    "RowNumber — индекс строки в данных    \n",
    "CustomerId — уникальный идентификатор клиента    \n",
    "Surname — фамилия    \n",
    "CreditScore — кредитный рейтинг    \n",
    "Geography — страна проживания    \n",
    "Gender — пол    \n",
    "Age — возраст    \n",
    "Tenure — количество недвижимости у клиента    \n",
    "Balance — баланс на счёте    \n",
    "NumOfProducts — количество продуктов банка, используемых клиентом    \n",
    "HasCrCard — наличие кредитной карты    \n",
    "IsActiveMember — активность клиента    \n",
    "EstimatedSalary — предполагаемая зарплата    \n",
    "Целевой признак    \n",
    "Exited — факт ухода клиента    "
   ]
  },
  {
   "cell_type": "markdown",
   "metadata": {},
   "source": [
    "# Оглавление\n"
   ]
  },
  {
   "cell_type": "markdown",
   "metadata": {},
   "source": [
    "1 [Загрузите и подготовьте данные. Поясните порядок действий.](#1)"
   ]
  },
  {
   "cell_type": "markdown",
   "metadata": {},
   "source": [
    "2 [Исследуйте баланс классов, обучите модель без учёта дисбаланса. Кратко опишите выводы.](#2)"
   ]
  },
  {
   "cell_type": "markdown",
   "metadata": {},
   "source": [
    "3 [Улучшите качество модели, учитывая дисбаланс классов. Обучите разные модели и найдите лучшую. Кратко опишите выводы.](#3)"
   ]
  },
  {
   "cell_type": "markdown",
   "metadata": {},
   "source": [
    "4 [Проведите финальное тестирование.](#4)"
   ]
  },
  {
   "cell_type": "markdown",
   "metadata": {},
   "source": [
    "<div class=\"alert alert-success\">\n",
    "<h3> Комментарий ревьювера</h3>\n",
    "\n",
    "Здорово, что перед кодом есть описание задач проекта и данных, а также план твоих действий с навигацией 👍🏻. Да и все оформление тетрадки выполнено на достойном уровне. "
   ]
  },
  {
   "cell_type": "markdown",
   "metadata": {},
   "source": [
    "# 1. Подготовка данных <a name=\"1\"></a>"
   ]
  },
  {
   "cell_type": "markdown",
   "metadata": {},
   "source": [
    "\n",
    "Импортируем все необходимые библиотеки, модели и методы:"
   ]
  },
  {
   "cell_type": "code",
   "execution_count": 1,
   "metadata": {},
   "outputs": [],
   "source": [
    "#Подключим все необходимые библиотеки для нашего проекта\n",
    "import pandas as pd\n",
    "import numpy as np\n",
    "import matplotlib.pyplot as plt\n",
    "import seaborn as sns\n",
    "import itertools\n",
    "\n",
    "from sklearn.linear_model import LogisticRegression\n",
    "from sklearn.ensemble import RandomForestClassifier\n",
    "from sklearn.model_selection import train_test_split, KFold, cross_val_score, ShuffleSplit\n",
    "from sklearn.preprocessing import StandardScaler, OrdinalEncoder\n",
    "from sklearn.impute import SimpleImputer\n",
    "from sklearn.metrics import accuracy_score, confusion_matrix, f1_score, roc_curve, roc_auc_score\n",
    "from sklearn.utils import shuffle\n",
    "\n",
    "\n",
    "import warnings\n",
    "warnings.filterwarnings('ignore')\n"
   ]
  },
  {
   "cell_type": "markdown",
   "metadata": {},
   "source": [
    "Посмотрим данные"
   ]
  },
  {
   "cell_type": "code",
   "execution_count": 2,
   "metadata": {},
   "outputs": [
    {
     "name": "stdout",
     "output_type": "stream",
     "text": [
      "<class 'pandas.core.frame.DataFrame'>\n",
      "RangeIndex: 10000 entries, 0 to 9999\n",
      "Data columns (total 14 columns):\n",
      "RowNumber          10000 non-null int64\n",
      "CustomerId         10000 non-null int64\n",
      "Surname            10000 non-null object\n",
      "CreditScore        10000 non-null int64\n",
      "Geography          10000 non-null object\n",
      "Gender             10000 non-null object\n",
      "Age                10000 non-null int64\n",
      "Tenure             9091 non-null float64\n",
      "Balance            10000 non-null float64\n",
      "NumOfProducts      10000 non-null int64\n",
      "HasCrCard          10000 non-null int64\n",
      "IsActiveMember     10000 non-null int64\n",
      "EstimatedSalary    10000 non-null float64\n",
      "Exited             10000 non-null int64\n",
      "dtypes: float64(3), int64(8), object(3)\n",
      "memory usage: 1.1+ MB\n"
     ]
    },
    {
     "data": {
      "text/html": [
       "<div>\n",
       "<style scoped>\n",
       "    .dataframe tbody tr th:only-of-type {\n",
       "        vertical-align: middle;\n",
       "    }\n",
       "\n",
       "    .dataframe tbody tr th {\n",
       "        vertical-align: top;\n",
       "    }\n",
       "\n",
       "    .dataframe thead th {\n",
       "        text-align: right;\n",
       "    }\n",
       "</style>\n",
       "<table border=\"1\" class=\"dataframe\">\n",
       "  <thead>\n",
       "    <tr style=\"text-align: right;\">\n",
       "      <th></th>\n",
       "      <th>RowNumber</th>\n",
       "      <th>CustomerId</th>\n",
       "      <th>Surname</th>\n",
       "      <th>CreditScore</th>\n",
       "      <th>Geography</th>\n",
       "      <th>Gender</th>\n",
       "      <th>Age</th>\n",
       "      <th>Tenure</th>\n",
       "      <th>Balance</th>\n",
       "      <th>NumOfProducts</th>\n",
       "      <th>HasCrCard</th>\n",
       "      <th>IsActiveMember</th>\n",
       "      <th>EstimatedSalary</th>\n",
       "      <th>Exited</th>\n",
       "    </tr>\n",
       "  </thead>\n",
       "  <tbody>\n",
       "    <tr>\n",
       "      <td>0</td>\n",
       "      <td>1</td>\n",
       "      <td>15634602</td>\n",
       "      <td>Hargrave</td>\n",
       "      <td>619</td>\n",
       "      <td>France</td>\n",
       "      <td>Female</td>\n",
       "      <td>42</td>\n",
       "      <td>2.0</td>\n",
       "      <td>0.00</td>\n",
       "      <td>1</td>\n",
       "      <td>1</td>\n",
       "      <td>1</td>\n",
       "      <td>101348.88</td>\n",
       "      <td>1</td>\n",
       "    </tr>\n",
       "    <tr>\n",
       "      <td>1</td>\n",
       "      <td>2</td>\n",
       "      <td>15647311</td>\n",
       "      <td>Hill</td>\n",
       "      <td>608</td>\n",
       "      <td>Spain</td>\n",
       "      <td>Female</td>\n",
       "      <td>41</td>\n",
       "      <td>1.0</td>\n",
       "      <td>83807.86</td>\n",
       "      <td>1</td>\n",
       "      <td>0</td>\n",
       "      <td>1</td>\n",
       "      <td>112542.58</td>\n",
       "      <td>0</td>\n",
       "    </tr>\n",
       "    <tr>\n",
       "      <td>2</td>\n",
       "      <td>3</td>\n",
       "      <td>15619304</td>\n",
       "      <td>Onio</td>\n",
       "      <td>502</td>\n",
       "      <td>France</td>\n",
       "      <td>Female</td>\n",
       "      <td>42</td>\n",
       "      <td>8.0</td>\n",
       "      <td>159660.80</td>\n",
       "      <td>3</td>\n",
       "      <td>1</td>\n",
       "      <td>0</td>\n",
       "      <td>113931.57</td>\n",
       "      <td>1</td>\n",
       "    </tr>\n",
       "    <tr>\n",
       "      <td>3</td>\n",
       "      <td>4</td>\n",
       "      <td>15701354</td>\n",
       "      <td>Boni</td>\n",
       "      <td>699</td>\n",
       "      <td>France</td>\n",
       "      <td>Female</td>\n",
       "      <td>39</td>\n",
       "      <td>1.0</td>\n",
       "      <td>0.00</td>\n",
       "      <td>2</td>\n",
       "      <td>0</td>\n",
       "      <td>0</td>\n",
       "      <td>93826.63</td>\n",
       "      <td>0</td>\n",
       "    </tr>\n",
       "    <tr>\n",
       "      <td>4</td>\n",
       "      <td>5</td>\n",
       "      <td>15737888</td>\n",
       "      <td>Mitchell</td>\n",
       "      <td>850</td>\n",
       "      <td>Spain</td>\n",
       "      <td>Female</td>\n",
       "      <td>43</td>\n",
       "      <td>2.0</td>\n",
       "      <td>125510.82</td>\n",
       "      <td>1</td>\n",
       "      <td>1</td>\n",
       "      <td>1</td>\n",
       "      <td>79084.10</td>\n",
       "      <td>0</td>\n",
       "    </tr>\n",
       "  </tbody>\n",
       "</table>\n",
       "</div>"
      ],
      "text/plain": [
       "   RowNumber  CustomerId   Surname  CreditScore Geography  Gender  Age  \\\n",
       "0          1    15634602  Hargrave          619    France  Female   42   \n",
       "1          2    15647311      Hill          608     Spain  Female   41   \n",
       "2          3    15619304      Onio          502    France  Female   42   \n",
       "3          4    15701354      Boni          699    France  Female   39   \n",
       "4          5    15737888  Mitchell          850     Spain  Female   43   \n",
       "\n",
       "   Tenure    Balance  NumOfProducts  HasCrCard  IsActiveMember  \\\n",
       "0     2.0       0.00              1          1               1   \n",
       "1     1.0   83807.86              1          0               1   \n",
       "2     8.0  159660.80              3          1               0   \n",
       "3     1.0       0.00              2          0               0   \n",
       "4     2.0  125510.82              1          1               1   \n",
       "\n",
       "   EstimatedSalary  Exited  \n",
       "0        101348.88       1  \n",
       "1        112542.58       0  \n",
       "2        113931.57       1  \n",
       "3         93826.63       0  \n",
       "4         79084.10       0  "
      ]
     },
     "execution_count": 2,
     "metadata": {},
     "output_type": "execute_result"
    }
   ],
   "source": [
    "df = pd.read_csv('/datasets/Churn.csv')\n",
    "df.info()\n",
    "df.head()"
   ]
  },
  {
   "cell_type": "code",
   "execution_count": 3,
   "metadata": {},
   "outputs": [],
   "source": [
    "#df['Tenure'].corr(df['Exited'])"
   ]
  },
  {
   "cell_type": "markdown",
   "metadata": {},
   "source": [
    "В этом столбце (Tenure) много пропусков, но он  мало коррелирует с целевым признаком. Чтобы не удалять большое количество строк с признаками, которые могут иметь значение, и не заполнять пропуски медианой, меткой и т.п. я удалю столбец целиком."
   ]
  },
  {
   "cell_type": "markdown",
   "metadata": {},
   "source": [
    "<div class=\"alert alert-danger\">\n",
    "<h3> Комментарий ревьювера</h3>\n",
    "\n",
    "Корреляция отражает только линейную зависимость. Для обоснования удаление необходимо провести более подробный EDA.\n",
    "    \n",
    "Или все же попытаться заполнить пропуски в переменных. Их всего 10%, что не критично."
   ]
  },
  {
   "cell_type": "markdown",
   "metadata": {},
   "source": [
    "  <div class=\"alert alert-success\">\n",
    "  <h3>Комментарий студента</h3> Исправлено-замена пропусков на медианное значение\n",
    "  </div>"
   ]
  },
  {
   "cell_type": "markdown",
   "metadata": {},
   "source": [
    "<div class=\"alert alert-success\">\n",
    "<h3> Комментарий ревьювера v2</h3>\n",
    "\n",
    "Отлично! Можно было также заменить отсутствующие значения на 0. Если недвижимости нет, то поле могли оставить пустым."
   ]
  },
  {
   "cell_type": "code",
   "execution_count": 4,
   "metadata": {},
   "outputs": [
    {
     "data": {
      "text/plain": [
       "0"
      ]
     },
     "execution_count": 4,
     "metadata": {},
     "output_type": "execute_result"
    }
   ],
   "source": [
    "df.loc[df['Tenure'].isna(), 'Tenure'] = df['Tenure'].median()\n",
    "df.isna().sum().sum()"
   ]
  },
  {
   "cell_type": "code",
   "execution_count": 5,
   "metadata": {},
   "outputs": [],
   "source": [
    "df = df.drop(columns=['RowNumber','CustomerId', 'Surname'], axis=1)"
   ]
  },
  {
   "cell_type": "code",
   "execution_count": 6,
   "metadata": {},
   "outputs": [
    {
     "data": {
      "text/html": [
       "<div>\n",
       "<style scoped>\n",
       "    .dataframe tbody tr th:only-of-type {\n",
       "        vertical-align: middle;\n",
       "    }\n",
       "\n",
       "    .dataframe tbody tr th {\n",
       "        vertical-align: top;\n",
       "    }\n",
       "\n",
       "    .dataframe thead th {\n",
       "        text-align: right;\n",
       "    }\n",
       "</style>\n",
       "<table border=\"1\" class=\"dataframe\">\n",
       "  <thead>\n",
       "    <tr style=\"text-align: right;\">\n",
       "      <th></th>\n",
       "      <th>CreditScore</th>\n",
       "      <th>Geography</th>\n",
       "      <th>Gender</th>\n",
       "      <th>Age</th>\n",
       "      <th>Tenure</th>\n",
       "      <th>Balance</th>\n",
       "      <th>NumOfProducts</th>\n",
       "      <th>HasCrCard</th>\n",
       "      <th>IsActiveMember</th>\n",
       "      <th>EstimatedSalary</th>\n",
       "      <th>Exited</th>\n",
       "    </tr>\n",
       "  </thead>\n",
       "  <tbody>\n",
       "    <tr>\n",
       "      <td>0</td>\n",
       "      <td>619</td>\n",
       "      <td>France</td>\n",
       "      <td>Female</td>\n",
       "      <td>42</td>\n",
       "      <td>2.0</td>\n",
       "      <td>0.00</td>\n",
       "      <td>1</td>\n",
       "      <td>1</td>\n",
       "      <td>1</td>\n",
       "      <td>101348.88</td>\n",
       "      <td>1</td>\n",
       "    </tr>\n",
       "    <tr>\n",
       "      <td>1</td>\n",
       "      <td>608</td>\n",
       "      <td>Spain</td>\n",
       "      <td>Female</td>\n",
       "      <td>41</td>\n",
       "      <td>1.0</td>\n",
       "      <td>83807.86</td>\n",
       "      <td>1</td>\n",
       "      <td>0</td>\n",
       "      <td>1</td>\n",
       "      <td>112542.58</td>\n",
       "      <td>0</td>\n",
       "    </tr>\n",
       "    <tr>\n",
       "      <td>2</td>\n",
       "      <td>502</td>\n",
       "      <td>France</td>\n",
       "      <td>Female</td>\n",
       "      <td>42</td>\n",
       "      <td>8.0</td>\n",
       "      <td>159660.80</td>\n",
       "      <td>3</td>\n",
       "      <td>1</td>\n",
       "      <td>0</td>\n",
       "      <td>113931.57</td>\n",
       "      <td>1</td>\n",
       "    </tr>\n",
       "    <tr>\n",
       "      <td>3</td>\n",
       "      <td>699</td>\n",
       "      <td>France</td>\n",
       "      <td>Female</td>\n",
       "      <td>39</td>\n",
       "      <td>1.0</td>\n",
       "      <td>0.00</td>\n",
       "      <td>2</td>\n",
       "      <td>0</td>\n",
       "      <td>0</td>\n",
       "      <td>93826.63</td>\n",
       "      <td>0</td>\n",
       "    </tr>\n",
       "    <tr>\n",
       "      <td>4</td>\n",
       "      <td>850</td>\n",
       "      <td>Spain</td>\n",
       "      <td>Female</td>\n",
       "      <td>43</td>\n",
       "      <td>2.0</td>\n",
       "      <td>125510.82</td>\n",
       "      <td>1</td>\n",
       "      <td>1</td>\n",
       "      <td>1</td>\n",
       "      <td>79084.10</td>\n",
       "      <td>0</td>\n",
       "    </tr>\n",
       "  </tbody>\n",
       "</table>\n",
       "</div>"
      ],
      "text/plain": [
       "   CreditScore Geography  Gender  Age  Tenure    Balance  NumOfProducts  \\\n",
       "0          619    France  Female   42     2.0       0.00              1   \n",
       "1          608     Spain  Female   41     1.0   83807.86              1   \n",
       "2          502    France  Female   42     8.0  159660.80              3   \n",
       "3          699    France  Female   39     1.0       0.00              2   \n",
       "4          850     Spain  Female   43     2.0  125510.82              1   \n",
       "\n",
       "   HasCrCard  IsActiveMember  EstimatedSalary  Exited  \n",
       "0          1               1        101348.88       1  \n",
       "1          0               1        112542.58       0  \n",
       "2          1               0        113931.57       1  \n",
       "3          0               0         93826.63       0  \n",
       "4          1               1         79084.10       0  "
      ]
     },
     "execution_count": 6,
     "metadata": {},
     "output_type": "execute_result"
    }
   ],
   "source": [
    "#df = df.drop('Tenure', axis = 1)\n",
    "df.head()"
   ]
  },
  {
   "cell_type": "markdown",
   "metadata": {},
   "source": [
    "# Выводы  \n",
    "Загрузили данные, посмотрели датасет, заменили пропуски в столбце Tenure медианным значением.(удалили столбец Tenure)"
   ]
  },
  {
   "cell_type": "markdown",
   "metadata": {},
   "source": [
    "# 2. Исследование задачи <a name=\"2\"></a>"
   ]
  },
  {
   "cell_type": "code",
   "execution_count": 7,
   "metadata": {},
   "outputs": [
    {
     "name": "stdout",
     "output_type": "stream",
     "text": [
      "0    0.7963\n",
      "1    0.2037\n",
      "Name: Exited, dtype: float64\n"
     ]
    }
   ],
   "source": [
    "\n",
    "class_frequency = df['Exited'].value_counts(normalize=True)\n",
    "print(class_frequency)"
   ]
  },
  {
   "cell_type": "markdown",
   "metadata": {},
   "source": [
    "Приблизительно каждый четвертый клиент из данной выборки ушёл из банка."
   ]
  },
  {
   "cell_type": "markdown",
   "metadata": {},
   "source": [
    "\n",
    "Закодируем столбцы, имеющие строковые значения - страны, пол. Столбец с фамилиями удалим из датасета, логично, что фамилия не может быть признаком причины ухода из банка."
   ]
  },
  {
   "cell_type": "markdown",
   "metadata": {},
   "source": [
    "<div class=\"alert alert-danger\">\n",
    "<h3> Комментарий ревьювера</h3>\n",
    "\n",
    "Помимо фамилии в данных есть еще некоторые лишние признаки :)"
   ]
  },
  {
   "cell_type": "markdown",
   "metadata": {},
   "source": [
    "  <div class=\"alert alert-success\">\n",
    "  <h3>Комментарий студента</h3> Эх, гуляй топор(ну или нож) удаляем неважные для прогнозирвоания признаки, такие как фамилия клиента, его ID('CustomerId') и номер строки('RowNumber'). \n",
    "  </div>"
   ]
  },
  {
   "cell_type": "markdown",
   "metadata": {},
   "source": [
    "<div class=\"alert alert-success\">\n",
    "<h3> Комментарий ревьювера  v2</h3>\n",
    "\n",
    "Абсолютно верно 👍🏻"
   ]
  },
  {
   "attachments": {
    "111.jpeg": {
     "image/jpeg": "[encoded data removed]"
    }
   },
   "cell_type": "markdown",
   "metadata": {},
   "source": [
    "<div class=\"alert alert-warning\">\n",
    "<h3>Комментарий ревьюера</h3>\n",
    "    \n",
    "Можно использовать параметр stratify = y в функции train_test_split( ), где y – соответствующая целевая переменная. Данные разделятся на два кластера (наблюдения класса 0 и наблюдения класса 1), и в валидационную выборку попадут по 20% наблюдений из каждого кластера:\n",
    "\n",
    "![111.jpeg](attachment:111.jpeg)\n",
    "    \n",
    "То есть, если соотношение классов в оригинальной выборке было 2:5, то в обучающей и валидационной выборках оно сохранится таким же. \n",
    "    \n",
    "Такой подход в чем-то решает проблему несбалансированных классов, и нам не придется делать проверку состава выборок."
   ]
  },
  {
   "cell_type": "markdown",
   "metadata": {},
   "source": [
    "<div class=\"alert alert-success\">\n",
    "  <h3>Комментарий студента</h3> Вот так это должно выглядеть?\n",
    "  </div>"
   ]
  },
  {
   "cell_type": "code",
   "execution_count": 8,
   "metadata": {},
   "outputs": [],
   "source": [
    "#Пример\n",
    "# X_train, X_test, y_train, y_test = train_test_split(X, y, test_size=0.2, random_state=SEED, stratify=y)"
   ]
  },
  {
   "cell_type": "markdown",
   "metadata": {},
   "source": [
    "<div class=\"alert alert-success\">\n",
    "<h3> Комментарий ревьювера v2</h3>\n",
    "\n",
    "Да :)"
   ]
  },
  {
   "cell_type": "code",
   "execution_count": 9,
   "metadata": {},
   "outputs": [],
   "source": [
    "df['Tenure'] = df['Tenure'].replace(np.NaN, None).astype(int,errors='ignore').astype(object)\n",
    "imputer = SimpleImputer(strategy='constant')\n",
    "imp_data = pd.DataFrame(imputer.fit_transform(df))\n",
    "imp_data.columns = df.columns"
   ]
  },
  {
   "cell_type": "code",
   "execution_count": 10,
   "metadata": {},
   "outputs": [],
   "source": [
    "#Проведем кодирование с помощью OHE\n",
    "df = pd.get_dummies(df, drop_first=True)\n",
    "\n",
    "#Стандартизируем признаки с помощью StandardScaler\n",
    "scaler = StandardScaler()\n",
    "numeric = ['CreditScore', 'Age', 'Balance', 'EstimatedSalary']\n",
    "scaler.fit(df[numeric])\n",
    "df[numeric] = scaler.transform(df[numeric])"
   ]
  },
  {
   "cell_type": "code",
   "execution_count": 11,
   "metadata": {},
   "outputs": [
    {
     "name": "stdout",
     "output_type": "stream",
     "text": [
      "   CreditScore       Age   Balance  NumOfProducts  HasCrCard  IsActiveMember  \\\n",
      "0    -0.326221  0.293517 -1.225848              1          1               1   \n",
      "1    -0.440036  0.198164  0.117350              1          0               1   \n",
      "2    -1.536794  0.293517  1.333053              3          1               0   \n",
      "3     0.501521  0.007457 -1.225848              2          0               0   \n",
      "4     2.063884  0.388871  0.785728              1          1               1   \n",
      "\n",
      "   EstimatedSalary  Exited  Geography_Germany  Geography_Spain  ...  Tenure_1  \\\n",
      "0         0.021886       1                  0                0  ...         0   \n",
      "1         0.216534       0                  0                1  ...         1   \n",
      "2         0.240687       1                  0                0  ...         0   \n",
      "3        -0.108918       0                  0                0  ...         1   \n",
      "4        -0.365276       0                  0                1  ...         0   \n",
      "\n",
      "   Tenure_2  Tenure_3  Tenure_4  Tenure_5  Tenure_6  Tenure_7  Tenure_8  \\\n",
      "0         1         0         0         0         0         0         0   \n",
      "1         0         0         0         0         0         0         0   \n",
      "2         0         0         0         0         0         0         1   \n",
      "3         0         0         0         0         0         0         0   \n",
      "4         1         0         0         0         0         0         0   \n",
      "\n",
      "   Tenure_9  Tenure_10  \n",
      "0         0          0  \n",
      "1         0          0  \n",
      "2         0          0  \n",
      "3         0          0  \n",
      "4         0          0  \n",
      "\n",
      "[5 rows x 21 columns]\n"
     ]
    }
   ],
   "source": [
    "print(df.head())"
   ]
  },
  {
   "cell_type": "code",
   "execution_count": 12,
   "metadata": {},
   "outputs": [
    {
     "name": "stdout",
     "output_type": "stream",
     "text": [
      "Training set size: 6000\n",
      "Validating set size: 2000\n",
      "Test set size: 2000\n"
     ]
    }
   ],
   "source": [
    "\n",
    "#С помощью train_test_split Разделим наш датасет на следующие выборки \n",
    "X = df.drop(['Exited'], axis=1)\n",
    "y = df['Exited']\n",
    "#Выделим категориальные и количественные признаки\n",
    "#cat_feat = ['Geography', 'Gender']\n",
    "#num_feat = X.columns.drop(cat_feat).to_list()\n",
    "\n",
    "X_train, X_valid, y_train, y_valid = train_test_split(X, y, train_size=0.6, test_size=0.4, random_state=12345)\n",
    "X_test, X_valid, y_test, y_valid = train_test_split(X_valid, y_valid, test_size=0.5, random_state=12345)\n",
    "\n",
    "print('Training set size:', X_train.shape[0])\n",
    "print('Validating set size:', X_valid.shape[0])\n",
    "print('Test set size:',X_test.shape[0])"
   ]
  },
  {
   "cell_type": "code",
   "execution_count": 13,
   "metadata": {},
   "outputs": [
    {
     "data": {
      "text/plain": [
       "<matplotlib.legend.Legend at 0x7f11b49bba50>"
      ]
     },
     "execution_count": 13,
     "metadata": {},
     "output_type": "execute_result"
    },
    {
     "data": {
      "image/png": "[encoded data removed]",
      "text/plain": [
       "<Figure size 432x288 with 2 Axes>"
      ]
     },
     "metadata": {
      "needs_background": "light"
     },
     "output_type": "display_data"
    }
   ],
   "source": [
    "#Проверим дисбаланс целевого класса\n",
    "f, (ax1, ax2) = plt.subplots(1, 2)\n",
    "y_train.value_counts().plot(kind='bar', ax=ax1, label='train')\n",
    "y_test.value_counts().plot(kind='bar', ax=ax2, label='test')\n",
    "plt.legend()"
   ]
  },
  {
   "cell_type": "markdown",
   "metadata": {},
   "source": [
    "Данные разбиты корректно. Дисбаланс очевиден"
   ]
  },
  {
   "cell_type": "markdown",
   "metadata": {},
   "source": [
    "<div class=\"alert alert-success\">\n",
    "<h3> Комментарий ревьювера</h3>\n",
    "\n",
    "Хочется похвалить за правильный структурный подход к данным:\n",
    "- выполнено первичное исследование качества датасета и выявлен дисбаланс классов\n",
    "- предпринята попытка удаления неинформативные переменных\n",
    "- предпринята попытка решить проблему с пропусками\n",
    "- выполнена категоризация\n",
    "- произведено разделение на выборки\n",
    "\n",
    "👍🏻👍🏻👍🏻\n",
    "    \n",
    "Можно было также добавить небольной EDA и масштабировать признаки."
   ]
  },
  {
   "cell_type": "markdown",
   "metadata": {},
   "source": [
    "<div class=\"alert alert-danger\">\n",
    "<h3> Комментарий ревьювера</h3>\n",
    "    \n",
    "Подбор гиперпараметров необходимо подбирать по целевой метрике. В нашем случае это F1. Поправь, пожалуйста, логику обучения :)\n",
    "    \n",
    "Также прошу тебя делать подбор для всех спецификаций, а не только для тех, что обучаются на сырых данных."
   ]
  },
  {
   "cell_type": "markdown",
   "metadata": {},
   "source": [
    "<div class=\"alert alert-success\">\n",
    "  <h3>Комментарий студента</h3> Не совсем понял необходимые исправления в логике обучения, поясни пожалуйста\n",
    "  </div>"
   ]
  },
  {
   "cell_type": "markdown",
   "metadata": {},
   "source": [
    "<div class=\"alert alert-danger\">\n",
    "<h3> Комментарий ревьювера v2</h3>\n",
    "\n",
    "Сейчас в работе видна следующая логика:\n",
    "    \n",
    "- Подбираем оптимальные параметры модели на сырых данных, выбираем их на основе accuracy\n",
    "- Фиксируем найденные параметры и используем модели только с этими параметрами для дальнейшего исследования\n",
    "    \n",
    "Использование accuracy бессмысленно из-за дисбаланса классов. В данном случае показательная метрика — F1. На нее и нужно смотреть при выборе оптимальных параметров.\n",
    "    \n",
    "Также более правильным подходом будет подбор параметров для каждой спецификации. Например, мы обучаем случайный лес на сырых данных, сбалансированных, с upsampling и с downsampling. Все 4 раза стоит производить подбор параметров в цикле."
   ]
  },
  {
   "cell_type": "markdown",
   "metadata": {},
   "source": [
    "<div class=\"alert alert-danger\">\n",
    "<h3> Комментарий ревьювера v3</h3>\n",
    "    \n",
    "Отлично, подбор появился при использовании параметра balanced 👍🏻\n",
    "    \n",
    "Нам также необходимо сделать следующее:\n",
    "    \n",
    "Подбор параметров для обычной модели:\n",
    "    \n",
    "    for depth,estimator in itertools.product(range(1,30,10), range(1,151,50)):\n",
    "        model = RandomForestClassifier(random_state=12345, max_depth=depth, n_estimators=estimator)\n",
    "        model.fit(X_train, y_train)\n",
    "        predictions = model.predict(X_valid)\n",
    "        fscore = f1_score(y_valid, predictions)\n",
    "    \n",
    " Подбор параметров для модели с upsampling:\n",
    "    \n",
    "    for depth,estimator in itertools.product(range(1,30,10), range(1,151,50)):\n",
    "        model = RandomForestClassifier(random_state=12345, max_depth=depth, n_estimators=estimator)\n",
    "        model.fit(X_upsampled, y_upsampled)\n",
    "        predictions = model.predict(X_valid)\n",
    "        fscore = f1_score(y_valid, predictions) \n",
    "    \n",
    " Подбор параметров для модели с downsampling:\n",
    "    \n",
    "    for depth,estimator in itertools.product(range(1,30,10), range(1,151,50)):\n",
    "        model = RandomForestClassifier(random_state=12345, max_depth=depth, n_estimators=estimator)\n",
    "        model.fit(X_downsampled, y_downsampled)\n",
    "        predictions = model.predict(X_valid)\n",
    "        fscore = f1_score(y_valid, predictions)  \n",
    "    \n",
    "В идеале такое же нужно сделать для логистической регрессии. Да, она будет показывать худшие результаты, но ты сможешь отследить динамику параметров + это все же эталонный подход к обучению.\n",
    "    \n",
    "Также обрати внимание, что куда-то потерялся вывод AUC. На этапе тестирования упоминается график, который тоже пропал :)"
   ]
  },
  {
   "cell_type": "markdown",
   "metadata": {},
   "source": [
    "<div class=\"alert alert-warning\">\n",
    "<h3> Комментарий ревьювера</h3>\n",
    "\n",
    "Предупреждение можно убрать, указав параметр solver в теле функции LogisticRegression( )."
   ]
  },
  {
   "cell_type": "markdown",
   "metadata": {},
   "source": [
    "<div class=\"alert alert-success\">\n",
    "  <h3>Комментарий студента</h3> Спасибо, кажется заработало\n",
    "  </div>"
   ]
  },
  {
   "cell_type": "markdown",
   "metadata": {},
   "source": [
    "<div class=\"alert alert-success\">\n",
    "<h3> Комментарий ревьювера v2</h3>\n",
    "\n",
    "👍🏻"
   ]
  },
  {
   "cell_type": "markdown",
   "metadata": {},
   "source": [
    "Исследуем  лес и логистсческую регрессию"
   ]
  },
  {
   "cell_type": "code",
   "execution_count": 14,
   "metadata": {},
   "outputs": [
    {
     "name": "stdout",
     "output_type": "stream",
     "text": [
      "Accuracy is: 0.8335\n",
      "F1_Score is: 0.497737556561086\n"
     ]
    },
    {
     "data": {
      "text/plain": [
       "array([[1502,   75],\n",
       "       [ 258,  165]])"
      ]
     },
     "execution_count": 14,
     "metadata": {},
     "output_type": "execute_result"
    }
   ],
   "source": [
    "# Модель RandomForestClassifier со стандартными параметрами, посмотрим какой аккураси и f1score покажет нам модель\n",
    "model = RandomForestClassifier(random_state=12345)\n",
    "model.fit(X_train, y_train)\n",
    "predicted_valid = model.predict(X_valid)\n",
    "accuracy_valid = accuracy_score(predicted_valid, y_valid)\n",
    "print('Accuracy is:', accuracy_valid)\n",
    "print('F1_Score is:', f1_score(y_valid, predicted_valid))\n",
    "confusion_matrix(y_valid, predicted_valid)"
   ]
  },
  {
   "cell_type": "code",
   "execution_count": null,
   "metadata": {},
   "outputs": [],
   "source": []
  },
  {
   "cell_type": "code",
   "execution_count": 15,
   "metadata": {},
   "outputs": [
    {
     "name": "stdout",
     "output_type": "stream",
     "text": [
      "Accuracy is: 0.79\n",
      "F1_Score is: 0.273356401384083\n"
     ]
    },
    {
     "data": {
      "text/plain": [
       "array([[1501,   76],\n",
       "       [ 344,   79]])"
      ]
     },
     "execution_count": 15,
     "metadata": {},
     "output_type": "execute_result"
    }
   ],
   "source": [
    "# Модель logisticRegression со стандартными параметрами, посмотрим какой аккураси и f1score покажет нам модель\n",
    "model = LogisticRegression(random_state=12345, solver='liblinear')\n",
    "model.fit(X_train, y_train)\n",
    "predicted_valid = model.predict(X_valid)\n",
    "accuracy_valid = accuracy_score(predicted_valid, y_valid)\n",
    "print('Accuracy is:', accuracy_valid)\n",
    "print('F1_Score is:', f1_score(y_valid, predicted_valid))\n",
    "\n",
    "confusion_matrix(y_valid, predicted_valid)"
   ]
  },
  {
   "cell_type": "markdown",
   "metadata": {},
   "source": [
    "Лес всё же лучший. Думаю, рассматривать  логистическую регрессию дальше смысла нет с таким отрывом. "
   ]
  },
  {
   "cell_type": "markdown",
   "metadata": {},
   "source": [
    "# Выводы\n",
    "Закодируем столбцы и изменили. Разбили на выборки,исследовали баланс, Выбрали модель\n"
   ]
  },
  {
   "cell_type": "markdown",
   "metadata": {},
   "source": [
    "# 3. Борьба с дисбалансом <a name=\"3\"></a>"
   ]
  },
  {
   "cell_type": "markdown",
   "metadata": {},
   "source": [
    " Теперь возьмемся за баланс, вернее за дисбаланс теперь уже с upsampling и downsampling"
   ]
  },
  {
   "cell_type": "code",
   "execution_count": 16,
   "metadata": {},
   "outputs": [
    {
     "name": "stdout",
     "output_type": "stream",
     "text": [
      "Depth:     1       |   Estimators:     1\n",
      "Accuracy: 0.6785   |   F1_Score: 0.4819\n",
      "------------------------------------------------------\n",
      "Depth:     1       |   Estimators:    51\n",
      "Accuracy: 0.7375   |   F1_Score: 0.4937\n",
      "------------------------------------------------------\n",
      "Depth:     1       |   Estimators:   101\n",
      "Accuracy: 0.7340   |   F1_Score: 0.5233\n",
      "------------------------------------------------------\n",
      "Depth:    11       |   Estimators:     1\n",
      "Accuracy: 0.7290   |   F1_Score: 0.4707\n",
      "------------------------------------------------------\n",
      "Depth:    11       |   Estimators:    51\n",
      "Accuracy: 0.8390   |   F1_Score: 0.5975\n",
      "------------------------------------------------------\n",
      "Depth:    11       |   Estimators:   101\n",
      "Accuracy: 0.8410   |   F1_Score: 0.6045\n",
      "------------------------------------------------------\n",
      "Depth:    21       |   Estimators:     1\n",
      "Accuracy: 0.7730   |   F1_Score: 0.4569\n",
      "------------------------------------------------------\n",
      "Depth:    21       |   Estimators:    51\n",
      "Accuracy: 0.8460   |   F1_Score: 0.5142\n",
      "------------------------------------------------------\n",
      "Depth:    21       |   Estimators:   101\n",
      "Accuracy: 0.8425   |   F1_Score: 0.5086\n",
      "------------------------------------------------------\n"
     ]
    }
   ],
   "source": [
    "#Попробуем через цикл поиграть с параметрами случайного леса применив class_weight='balanced'\n",
    "for depth,estimator in itertools.product(range(1,30,10), range(1,151,50)):\n",
    "    model = RandomForestClassifier(random_state=12345, max_depth=depth, n_estimators=estimator, class_weight='balanced')\n",
    "    model.fit(X_train, y_train)\n",
    "    predictions = model.predict(X_valid)\n",
    "    score = accuracy_score(predictions, y_valid)\n",
    "    fscore = f1_score(y_valid, predictions)\n",
    "    print('Depth: {: >5.0f}       |   Estimators: {:>5.0f}'.format(depth, estimator))\n",
    "    print('Accuracy: {: >5.4f}   |   F1_Score: {: >5.4f}'.format(score,fscore))\n",
    "    print('------------------------------------------------------')"
   ]
  },
  {
   "cell_type": "code",
   "execution_count": null,
   "metadata": {},
   "outputs": [],
   "source": []
  },
  {
   "cell_type": "code",
   "execution_count": 17,
   "metadata": {},
   "outputs": [
    {
     "name": "stdout",
     "output_type": "stream",
     "text": [
      "F1_Score: 0.496  |   Repeats :     1\n",
      "F1_Score: 0.529  |   Repeats :     2\n",
      "F1_Score: 0.536  |   Repeats :     3\n",
      "F1_Score: 0.535  |   Repeats :     4\n",
      "F1_Score: 0.529  |   Repeats :     5\n",
      "F1_Score: 0.536  |   Repeats :     6\n",
      "F1_Score: 0.515  |   Repeats :     7\n",
      "F1_Score: 0.530  |   Repeats :     8\n",
      "F1_Score: 0.531  |   Repeats :     9\n"
     ]
    }
   ],
   "source": [
    "#Попробуем обучить нашу модель с помощью увеличения выборки\n",
    "\n",
    "def upsampling(features, target, repeat):\n",
    "    X_zeros = X_train[y_train == 0]\n",
    "    X_ones = X_train[y_train == 1]\n",
    "    y_zeros = y_train[y_train == 0]\n",
    "    y_ones = y_train[y_train == 1]\n",
    "\n",
    "    X_upsampled = pd.concat([X_zeros] + [X_ones] * repeat)\n",
    "    y_upsampled = pd.concat([y_zeros] + [y_ones] * repeat)\n",
    "    \n",
    "    X_upsampled, y_upsampled = shuffle(X_upsampled, y_upsampled, random_state=12345)\n",
    "    \n",
    "    return X_upsampled, y_upsampled\n",
    "\n",
    "\n",
    "for repeat in range(1,10,1):\n",
    "    X_upsampled, y_upsampled = upsampling(X_train, y_train, repeat)\n",
    "\n",
    "    model = RandomForestClassifier(random_state=12345)\n",
    "    model.fit(X_upsampled, y_upsampled)\n",
    "    predictions = model.predict(X_valid)\n",
    "    print(\"F1_Score: {: >5.3f}  |   Repeats : {: >5.0f}\".format(f1_score(y_valid, predictions),repeat))"
   ]
  },
  {
   "cell_type": "markdown",
   "metadata": {},
   "source": [
    "<div class=\"alert alert-warning\">\n",
    "<h3> Комментарий ревьювера</h3>\n",
    "    \n",
    "В данном случае идеальным значением repeat будет 4. Суть самой процедуры upsampling заключается в достижении баланса классов. При других значениях мы пораждаем еще больший дисбаланс, и сама процедура теряет смысл."
   ]
  },
  {
   "cell_type": "code",
   "execution_count": 18,
   "metadata": {},
   "outputs": [
    {
     "name": "stdout",
     "output_type": "stream",
     "text": [
      "F1_Score: 0.374  |  Fractions : 0.030\n",
      "F1_Score: 0.412  |  Fractions : 0.060\n",
      "F1_Score: 0.482  |  Fractions : 0.090\n",
      "F1_Score: 0.501  |  Fractions : 0.120\n",
      "F1_Score: 0.525  |  Fractions : 0.150\n",
      "F1_Score: 0.535  |  Fractions : 0.180\n",
      "F1_Score: 0.545  |  Fractions : 0.210\n",
      "F1_Score: 0.562  |  Fractions : 0.240\n",
      "F1_Score: 0.543  |  Fractions : 0.270\n",
      "F1_Score: 0.554  |  Fractions : 0.300\n"
     ]
    }
   ],
   "source": [
    "#Попробуем обучить нашу модель с помощью уменьшения выборки\n",
    "\n",
    "def downsampling(X, y, fraction):\n",
    "    X_zeros = X[y == 0]\n",
    "    X_ones = X[y == 1]\n",
    "    y_zeros = y[y == 0]\n",
    "    y_ones = y[y == 1]\n",
    "\n",
    "    X_downsampled = pd.concat(\n",
    "        [X_zeros.sample(frac=fraction, random_state=12345)] + [X_ones])\n",
    "    y_downsampled = pd.concat(\n",
    "        [y_zeros.sample(frac=fraction, random_state=12345)] + [y_ones])\n",
    "    \n",
    "    X_downsampled, y_downsampled = shuffle(\n",
    "        X_downsampled, y_downsampled, random_state=12345)\n",
    "    \n",
    "    return X_downsampled, y_downsampled\n",
    "\n",
    "for i in np.arange(0.03, 0.31, 0.03):\n",
    "    X_downsampled, y_downsampled = downsampling(X_train, y_train, i)\n",
    "    model = RandomForestClassifier(random_state=12345)\n",
    "    model.fit(X_downsampled, y_downsampled)\n",
    "    predictions = model.predict(X_valid)\n",
    "    print(\"F1_Score: {: >5.3f}  |  Fractions : {: >5.3f}\".format(f1_score(y_valid, predictions), i))"
   ]
  },
  {
   "cell_type": "markdown",
   "metadata": {},
   "source": [
    "# Код с логикой подбора от Великодушной Полины)"
   ]
  },
  {
   "cell_type": "code",
   "execution_count": 19,
   "metadata": {},
   "outputs": [
    {
     "name": "stdout",
     "output_type": "stream",
     "text": [
      "F1_Score is: 0.0\n",
      "F1_Score is: 0.0\n",
      "F1_Score is: 0.0\n",
      "F1_Score is: 0.4673913043478261\n",
      "F1_Score is: 0.5064102564102564\n",
      "F1_Score is: 0.501597444089457\n",
      "F1_Score is: 0.4447031431897555\n",
      "F1_Score is: 0.5359877488514548\n",
      "F1_Score is: 0.5269645608628658\n"
     ]
    }
   ],
   "source": [
    "#Подбор параметров для обычной модели случайного леса,с кодом от Полины\n",
    "for depth,estimator in itertools.product(range(1,30,10), range(1,151,50)):\n",
    "    model = RandomForestClassifier(random_state=12345, max_depth=depth, n_estimators=estimator)\n",
    "    model.fit(X_train, y_train)\n",
    "    predictions = model.predict(X_valid)\n",
    "    fscore = f1_score(y_valid, predictions)\n",
    "    print('F1_Score is:',fscore)"
   ]
  },
  {
   "cell_type": "code",
   "execution_count": 20,
   "metadata": {},
   "outputs": [
    {
     "name": "stdout",
     "output_type": "stream",
     "text": [
      "F1_Score is: 0.46837349397590367\n",
      "F1_Score is: 0.3491539413949649\n",
      "F1_Score is: 0.3491539413949649\n",
      "F1_Score is: 0.47533632286995514\n",
      "F1_Score is: 0.5588993981083406\n",
      "F1_Score is: 0.5667808219178083\n",
      "F1_Score is: 0.4494623655913978\n",
      "F1_Score is: 0.5710526315789473\n",
      "F1_Score is: 0.5894736842105264\n"
     ]
    }
   ],
   "source": [
    "#Подбор параметров для модели случайного леса с upsampling( от Полины)\n",
    "for depth,estimator in itertools.product(range(1,30,10), range(1,151,50)):\n",
    "    model = RandomForestClassifier(random_state=12345, max_depth=depth, n_estimators=estimator)\n",
    "    model.fit(X_upsampled, y_upsampled)\n",
    "    predictions = model.predict(X_valid)\n",
    "    fscore = f1_score(y_valid, predictions) \n",
    "    print('F1_Score is:',fscore)"
   ]
  },
  {
   "cell_type": "code",
   "execution_count": 21,
   "metadata": {},
   "outputs": [
    {
     "name": "stdout",
     "output_type": "stream",
     "text": [
      "F1_Score is: 0.48514851485148514\n",
      "F1_Score is: 0.38980509745127434\n",
      "F1_Score is: 0.3889739663093415\n",
      "F1_Score is: 0.5004516711833785\n",
      "F1_Score is: 0.5977710233029382\n",
      "F1_Score is: 0.5917525773195876\n",
      "F1_Score is: 0.45068027210884354\n",
      "F1_Score is: 0.5801376597836776\n",
      "F1_Score is: 0.5833333333333335\n"
     ]
    }
   ],
   "source": [
    "#Подбор параметров для модели  случайного леса с downsampling:( от Полины)\n",
    "for depth,estimator in itertools.product(range(1,30,10), range(1,151,50)):\n",
    "    model = RandomForestClassifier(random_state=12345, max_depth=depth, n_estimators=estimator)\n",
    "    model.fit(X_downsampled, y_downsampled)\n",
    "    predictions = model.predict(X_valid)\n",
    "    fscore = f1_score(y_valid, predictions)  \n",
    "    print('F1_Score is:',fscore)"
   ]
  },
  {
   "cell_type": "markdown",
   "metadata": {},
   "source": [
    "Теперь подбор для логистической регресии"
   ]
  },
  {
   "cell_type": "code",
   "execution_count": 22,
   "metadata": {},
   "outputs": [
    {
     "name": "stdout",
     "output_type": "stream",
     "text": [
      "F1_Score is: 0.273356401384083\n",
      "F1_Score is: 0.273356401384083\n",
      "F1_Score is: 0.273356401384083\n",
      "F1_Score is: 0.273356401384083\n",
      "F1_Score is: 0.273356401384083\n",
      "F1_Score is: 0.273356401384083\n",
      "F1_Score is: 0.273356401384083\n",
      "F1_Score is: 0.273356401384083\n",
      "F1_Score is: 0.273356401384083\n"
     ]
    }
   ],
   "source": [
    "#Подбор параметров для обычной модели логистической регресии ,с кодом от Полины\n",
    "for depth,estimator in itertools.product(range(1,30,10), range(1,151,50)):\n",
    "    model = LogisticRegression(random_state=12345, solver='liblinear')\n",
    "    model.fit(X_train, y_train)\n",
    "    predictions = model.predict(X_valid)\n",
    "    fscore = f1_score(y_valid, predictions)\n",
    "    print('F1_Score is:',fscore)"
   ]
  },
  {
   "cell_type": "code",
   "execution_count": 23,
   "metadata": {},
   "outputs": [
    {
     "name": "stdout",
     "output_type": "stream",
     "text": [
      "F1_Score is: 0.4383401519579194\n",
      "F1_Score is: 0.4383401519579194\n",
      "F1_Score is: 0.4383401519579194\n",
      "F1_Score is: 0.4383401519579194\n",
      "F1_Score is: 0.4383401519579194\n",
      "F1_Score is: 0.4383401519579194\n",
      "F1_Score is: 0.4383401519579194\n",
      "F1_Score is: 0.4383401519579194\n",
      "F1_Score is: 0.4383401519579194\n"
     ]
    }
   ],
   "source": [
    "#Подбор параметров для модели логистической регресии с upsampling( от Полины)\n",
    "for depth,estimator in itertools.product(range(1,30,10), range(1,151,50)):\n",
    "    model = LogisticRegression(random_state=12345, solver='liblinear')\n",
    "    model.fit(X_upsampled, y_upsampled)\n",
    "    predictions = model.predict(X_valid)\n",
    "    fscore = f1_score(y_valid, predictions) \n",
    "    print('F1_Score is:',fscore)"
   ]
  },
  {
   "cell_type": "code",
   "execution_count": 24,
   "metadata": {},
   "outputs": [
    {
     "name": "stdout",
     "output_type": "stream",
     "text": [
      "F1_Score is: 0.4622641509433962\n",
      "F1_Score is: 0.4622641509433962\n",
      "F1_Score is: 0.4622641509433962\n",
      "F1_Score is: 0.4622641509433962\n",
      "F1_Score is: 0.4622641509433962\n",
      "F1_Score is: 0.4622641509433962\n",
      "F1_Score is: 0.4622641509433962\n",
      "F1_Score is: 0.4622641509433962\n",
      "F1_Score is: 0.4622641509433962\n"
     ]
    }
   ],
   "source": [
    "#Подбор параметров для модели логистической регресии с downsampling:( от Полины)\n",
    "for depth,estimator in itertools.product(range(1,30,10), range(1,151,50)):\n",
    "    model = LogisticRegression(random_state=12345, solver='liblinear')\n",
    "    model.fit(X_downsampled, y_downsampled)\n",
    "    predictions = model.predict(X_valid)\n",
    "    fscore = f1_score(y_valid, predictions)  \n",
    "    print('F1_Score is:',fscore)"
   ]
  },
  {
   "cell_type": "markdown",
   "metadata": {},
   "source": [
    "<div class=\"alert alert-warning\">\n",
    "<h3> Комментарий ревьювера v3</h3>\n",
    "    \n",
    "А здесь 0.25 :)"
   ]
  },
  {
   "cell_type": "markdown",
   "metadata": {},
   "source": [
    "# Выводы\n",
    " Через цикл попробовали методом подбора количества деревьев и глубины леса подобрать нужные параметры. Выявили лучшие параметры это: глубина : 11, количество деревьев 51. F1 score показал 0.6034\n"
   ]
  },
  {
   "cell_type": "markdown",
   "metadata": {},
   "source": [
    "<div class=\"alert alert-danger\">\n",
    "<h3> Комментарий ревьювера</h3>\n",
    "    \n",
    "Необходимо рассмотреть еще хотя бы один способ балансировки классов. Добавь, пожалуйста :)"
   ]
  },
  {
   "cell_type": "markdown",
   "metadata": {},
   "source": [
    "<div class=\"alert alert-success\">\n",
    "  <h3>Комментарий студента</h3> Ты имеешь ввиду Downsampling? Примерно так должна функуция выглядеть?\n",
    "  </div>"
   ]
  },
  {
   "cell_type": "markdown",
   "metadata": {},
   "source": [
    "<div class=\"alert alert-success\">\n",
    "<h3> Комментарий ревьювера v2</h3>\n",
    "\n",
    " Да, все верно :)"
   ]
  },
  {
   "cell_type": "markdown",
   "metadata": {},
   "source": [
    "# 4. Тестирование модели <a name=\"4\"></a>"
   ]
  },
  {
   "cell_type": "markdown",
   "metadata": {},
   "source": [
    "<div class=\"alert alert-warning\">\n",
    "<h3>Комментарий ревьюера</h3>\n",
    "\n",
    "Предлагаю попробовать два метода финального тестирования в будущем :)\n",
    "    \n",
    "Есть два базовых способа, как протестировать модель:\n",
    "    \n",
    "1. Обучаем модель на train -> проверяем на valid -> результат удовлетворительный -> проверяем на test\n",
    "2. Обучаем модель на train -> проверяем на valid -> результат удовлетворительный -> соединить train и valid (Без стандартизации, просто делаем merge наших уже стандартизированных датафреймов.) -> если лучшую модель мы получили, используя, например, upsampling, то такой же метод мы применяем на нашу новые данные train+valid -> обучаем модель со старыми лучшими параметрами -> проверяем на test\n",
    "    \n",
    "Так как наша задача здесь не просто тупо проверить вашу работу, а попытаться поделиться практическим опытом, я хотела, чтобы ты попробовал оба способа. Первый способ допустим, но нам нужно до вас донести и второй :) \n",
    "    \n",
    "Он жестче, чем первый. Наша модель хорошо себя повела, и по идее если соединить train и valid (не изменяя параметры стандартизации, так как именно с нашим изначальным масштабированием модель была эффективной), сохранить все условия обучения и переобучить ее на этих данных, то результат должен быть не хуже или даже чуть лучше. Если мы получили какое-то сильное ухудшение качества, нужно подумать, а настолько ли хороша модель. Мы ведь никаких кардинальный изменений не сделали. Данные ведь почти те же самые.\n",
    "   \n",
    "</div>"
   ]
  },
  {
   "cell_type": "markdown",
   "metadata": {},
   "source": [
    "<div class=\"alert alert-success\">\n",
    "  <h3>Комментарий студента</h3> Подскажи как это должно выглядеть, очень интересно\n",
    "  </div>"
   ]
  },
  {
   "cell_type": "markdown",
   "metadata": {},
   "source": [
    "<div class=\"alert alert-warning\">\n",
    "<h3> Комментарий ревьювера v2</h3>\n",
    "\n",
    "Что именно нужно показать?) Код?"
   ]
  },
  {
   "cell_type": "code",
   "execution_count": 25,
   "metadata": {},
   "outputs": [
    {
     "name": "stdout",
     "output_type": "stream",
     "text": [
      "Accuracy is: 0.8445\n",
      "F1_Score is: 0.6202686202686203\n"
     ]
    }
   ],
   "source": [
    "# Испробуем нашу модель на тестовой выборке с соответствующими параметрами\n",
    "model = RandomForestClassifier(n_estimators = 51, max_depth=11, class_weight='balanced', random_state=12345)\n",
    "model.fit(X_train, y_train)\n",
    "predicted_valid = model.predict(X_test)\n",
    "\n",
    "accuracy_valid = accuracy_score(predicted_valid, y_test)\n",
    "print('Accuracy is:', accuracy_valid)\n",
    "print('F1_Score is:', f1_score(y_test, predicted_valid))"
   ]
  },
  {
   "cell_type": "markdown",
   "metadata": {},
   "source": [
    "Считаем AUC-ROC и строим ROC-кривую"
   ]
  },
  {
   "cell_type": "code",
   "execution_count": 26,
   "metadata": {},
   "outputs": [
    {
     "name": "stdout",
     "output_type": "stream",
     "text": [
      "AUC-ROC: 0.8486078430186488\n"
     ]
    }
   ],
   "source": [
    "y_pred = model.predict_proba(X_test)[:,1]\n",
    "print(\"AUC-ROC:\",roc_auc_score(y_test, y_pred))"
   ]
  },
  {
   "cell_type": "code",
   "execution_count": 27,
   "metadata": {},
   "outputs": [
    {
     "data": {
      "image/png": "[encoded data removed]",
      "text/plain": [
       "<Figure size 432x288 with 1 Axes>"
      ]
     },
     "metadata": {
      "needs_background": "light"
     },
     "output_type": "display_data"
    }
   ],
   "source": [
    "probabilities_other = model.predict_proba(X_test)\n",
    "probabilities_one_other = y_pred\n",
    "fpr, tpr, thresholds = roc_curve(y_test, y_pred)\n",
    "plt.figure()\n",
    "plt.plot(fpr, tpr)\n",
    "plt.plot([0, 1], [0, 1], linestyle='--')\n",
    "plt.xlim([0.0, 1.0])\n",
    "plt.ylim([0.0, 1.0])\n",
    "plt.xlabel('False Positive Rate')\n",
    "plt.ylabel('True Positive Rate')\n",
    "plt.title('ROC-кривая')\n",
    "plt.show()"
   ]
  },
  {
   "cell_type": "markdown",
   "metadata": {},
   "source": [
    "Судя по графику и значению auc_roc 0.85, наша модель очень даже неплоха. "
   ]
  },
  {
   "cell_type": "markdown",
   "metadata": {},
   "source": [
    "# Выводы\n",
    "Итак, наш f1 равен 0,62. Модель показала себя на тесте лучше, чем во время обучения, и не переобучилась."
   ]
  },
  {
   "cell_type": "markdown",
   "metadata": {},
   "source": [
    "<a name=\"3\"></a>"
   ]
  },
  {
   "cell_type": "markdown",
   "metadata": {},
   "source": [
    "# Чек-лист готовности проекта"
   ]
  },
  {
   "cell_type": "markdown",
   "metadata": {},
   "source": [
    "Поставьте 'x' в выполненных пунктах. Далее нажмите Shift+Enter."
   ]
  },
  {
   "cell_type": "markdown",
   "metadata": {},
   "source": [
    "- [x]  Jupyter Notebook открыт\n",
    "- [x ]  Весь код выполняется без ошибок\n",
    "- [x ]  Ячейки с кодом расположены в порядке исполнения\n",
    "- [x ]  Выполнен шаг 1: данные подготовлены\n",
    "- [x ]  Выполнен шаг 2: задача исследована\n",
    "    - [ ]  Исследован баланс классов\n",
    "    - [ ]  Изучены модели без учёта дисбаланса\n",
    "    - [ ]  Написаны выводы по результатам исследования\n",
    "- [x ]  Выполнен шаг 3: учтён дисбаланс\n",
    "    - [ ]  Применено несколько способов борьбы с дисбалансом\n",
    "    - [ ]  Написаны выводы по результатам исследования\n",
    "- [x ]  Выполнен шаг 4: проведено тестирование\n",
    "- [x ]  Удалось достичь *F1*-меры не менее 0.59\n",
    "- [x ]  Исследована метрика *AUC-ROC*"
   ]
  },
  {
   "cell_type": "markdown",
   "metadata": {},
   "source": [
    "<div style=\"border:solid black 2px; padding: 20px\">\n",
    "<h3>Чек-лист доработок</h3>\n",
    "\n",
    "По проекту видно, что ты достаточно уверенно кодишь и корректно используешь почти все инструменты. Мне было очень приятно проверять твою работу! Но мы ее сделаем прям 🔥🔥🔥.\n",
    "\n",
    "Прошу тебя проработать следующие моменты:\n",
    "\n",
    "1. **Подумать еще раз над процедурой замены пропусков.** \n",
    "2. **Удалить неинформативные переменные.**               \n",
    "3. **Подкорректировать логику подбора гиперпараметров.**\n",
    "4. **Рассмотреть еще хотя бы один способ балансировки классов**\n",
    "\n",
    "Жду твой проект на повторное ревью, осталось совсем чуть-чуть. Не стесняйся оставлять комментарии и задавать вопросы. Удачи! Все получится 🙂"
   ]
  },
  {
   "cell_type": "markdown",
   "metadata": {},
   "source": [
    " <div class=\"alert alert-success\">\n",
    "  <h3>Комментарий студента по чек листу</h3>     \n",
    "1. Подумать еще раз над процедурой замены пропусков.- Сделано \n",
    "    \n",
    "2.Удалить неинформативные переменные.-Сделано  \n",
    "    \n",
    "3. Подкорректировать логику подбора гиперпараметров.  -Не понял с наскока\n",
    "    \n",
    "4. Рассмотреть еще хотя бы один способ балансировки классов -Downsampling прошу проверки\n",
    "    \n",
    "<div>\n",
    "    Дополнительно: \n",
    "  Добавлен параметр solver='liblinear' в теле функции LogisticRegression( ),не уверен что разобрался с  stratify посмотри пожалуйста."
   ]
  },
  {
   "cell_type": "markdown",
   "metadata": {},
   "source": [
    "<div style=\"border:solid black 2px; padding: 20px\">\n",
    "<h3>Чек-лист доработок v2</h3>\n",
    "\n",
    "Нам осталось подкорректировать логику подбора гиперпараметров.\n",
    "\n",
    "Жду твой проект на последнее ревью 🙂"
   ]
  },
  {
   "cell_type": "markdown",
   "metadata": {},
   "source": [
    "<div style=\"border:solid black 2px; padding: 20px\">\n",
    "<h3>Чек-лист доработок v3</h3>\n",
    "\n",
    "Нам осталось подкорректировать логику подбора гиперпараметров и добавить AUC."
   ]
  },
  {
   "cell_type": "markdown",
   "metadata": {},
   "source": [
    "<div class=\"alert alert-success\">\n",
    "  <h3>Комментарий студента по чек листу v3</h3> Сделано \n",
    "  </div>"
   ]
  },
  {
   "cell_type": "code",
   "execution_count": null,
   "metadata": {},
   "outputs": [],
   "source": []
  }
 ],
 "metadata": {
  "kernelspec": {
   "display_name": "Python 3",
   "language": "python",
   "name": "python3"
  },
  "language_info": {
   "codemirror_mode": {
    "name": "ipython",
    "version": 3
   },
   "file_extension": ".py",
   "mimetype": "text/x-python",
   "name": "python",
   "nbconvert_exporter": "python",
   "pygments_lexer": "ipython3",
   "version": "3.7.8"
  },
  "toc": {
   "base_numbering": 1,
   "nav_menu": {},
   "number_sections": false,
   "sideBar": true,
   "skip_h1_title": false,
   "title_cell": "Table of Contents",
   "title_sidebar": "Contents",
   "toc_cell": false,
   "toc_position": {},
   "toc_section_display": true,
   "toc_window_display": false
  }
 },
 "nbformat": 4,
 "nbformat_minor": 2
}
